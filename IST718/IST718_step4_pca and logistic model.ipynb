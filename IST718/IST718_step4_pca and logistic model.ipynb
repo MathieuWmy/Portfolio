{
 "cells": [
  {
   "cell_type": "code",
   "execution_count": 1,
   "metadata": {},
   "outputs": [],
   "source": [
    "import pandas as pd\n",
    "pca_data = pd.read_csv('feature_selected_data.csv',sep = ',')"
   ]
  },
  {
   "cell_type": "code",
   "execution_count": 3,
   "metadata": {},
   "outputs": [
    {
     "data": {
      "text/plain": [
       "(717129, 31)"
      ]
     },
     "execution_count": 3,
     "metadata": {},
     "output_type": "execute_result"
    }
   ],
   "source": [
    "pca_data.shape"
   ]
  },
  {
   "cell_type": "code",
   "execution_count": 2,
   "metadata": {},
   "outputs": [],
   "source": [
    "\n",
    "from pyspark.ml import feature\n",
    "from pyspark.ml import clustering\n",
    "from pyspark.ml import Pipeline\n",
    "from pyspark.sql import functions as fn\n",
    "import numpy as np\n",
    "from pyspark.sql import SparkSession\n",
    "from pyspark.ml import feature, regression, evaluation, Pipeline\n",
    "from pyspark.sql import functions as fn, Row\n",
    "import matplotlib.pyplot as plt\n",
    "spark = SparkSession.builder.getOrCreate()\n",
    "sc = spark.sparkContext"
   ]
  },
  {
   "cell_type": "code",
   "execution_count": 3,
   "metadata": {
    "scrolled": true
   },
   "outputs": [],
   "source": [
    "pca_data.fillna(0,inplace = True)\n",
    "pca_data = pca_data.astype(int)\n"
   ]
  },
  {
   "cell_type": "code",
   "execution_count": 4,
   "metadata": {},
   "outputs": [],
   "source": [
    "pca_data.columns = pca_data.columns.str.replace('.','_')"
   ]
  },
  {
   "cell_type": "code",
   "execution_count": 5,
   "metadata": {
    "scrolled": true
   },
   "outputs": [],
   "source": [
    "\n",
    "pca_data.rename(columns={'Referral': 'Channel_group_referral', 'referral': 'traffic_source_referral'}, inplace=True)\n"
   ]
  },
  {
   "cell_type": "code",
   "execution_count": 6,
   "metadata": {
    "scrolled": true
   },
   "outputs": [],
   "source": [
    "pca_data.loc[pca_data[\"Total revenue\"]==0,\"Total revenue\"] = 0\n",
    "pca_data.loc[pca_data[\"Total revenue\"]!=0,\"Total revenue\"] = 1"
   ]
  },
  {
   "cell_type": "code",
   "execution_count": 7,
   "metadata": {},
   "outputs": [
    {
     "data": {
      "text/plain": [
       "17658"
      ]
     },
     "execution_count": 7,
     "metadata": {},
     "output_type": "execute_result"
    }
   ],
   "source": [
    "pca_data['Total revenue'].sum()"
   ]
  },
  {
   "cell_type": "code",
   "execution_count": 9,
   "metadata": {
    "scrolled": true
   },
   "outputs": [
    {
     "data": {
      "text/plain": [
       "Index(['totals_hits', 'totals_pageviews', 'visitNumber', 'totals_transactions',\n",
       "       'Channel_group_referral', 'Chrome OS', 'cpm', 'Macintosh', 'Firefox',\n",
       "       'totals_bounces', 'Linux', 'Direct', 'Windows', 'Organic Search',\n",
       "       'organic', 'Paid Search', 'True', 'totals_newVisits', 'mobile',\n",
       "       'Safari', 'cpc', 'iOS', 'Android', 'Display', 'Internet Explorer',\n",
       "       'desktop', 'traffic_source_referral', 'Edge', 'Chrome', 'Social',\n",
       "       'Total revenue'],\n",
       "      dtype='object')"
      ]
     },
     "execution_count": 9,
     "metadata": {},
     "output_type": "execute_result"
    }
   ],
   "source": [
    "pca_data.columns"
   ]
  },
  {
   "cell_type": "raw",
   "metadata": {},
   "source": [
    "pca_data2 = pca_data.sample(n = 200000)"
   ]
  },
  {
   "cell_type": "code",
   "execution_count": 10,
   "metadata": {},
   "outputs": [
    {
     "data": {
      "text/plain": [
       "4930"
      ]
     },
     "execution_count": 10,
     "metadata": {},
     "output_type": "execute_result"
    }
   ],
   "source": [
    "pca_data2['Total revenue'].sum()"
   ]
  },
  {
   "cell_type": "code",
   "execution_count": 11,
   "metadata": {
    "scrolled": true
   },
   "outputs": [],
   "source": [
    "pca_df = spark.createDataFrame(pca_data)"
   ]
  },
  {
   "cell_type": "code",
   "execution_count": 40,
   "metadata": {},
   "outputs": [
    {
     "data": {
      "text/plain": [
       "717129"
      ]
     },
     "execution_count": 40,
     "metadata": {},
     "output_type": "execute_result"
    }
   ],
   "source": [
    "len(pca_df.toPandas()['Total revenue'])"
   ]
  },
  {
   "cell_type": "code",
   "execution_count": null,
   "metadata": {},
   "outputs": [],
   "source": [
    "# training_df, validation_df, testing_df = pca_df.randomSplit([0.6, 0.3, 0.1], seed=0)"
   ]
  },
  {
   "cell_type": "code",
   "execution_count": 9,
   "metadata": {
    "scrolled": true
   },
   "outputs": [],
   "source": [
    "pipeline_pca = Pipeline(stages=[\n",
    "    feature.VectorAssembler(inputCols=pca_df.columns[:-1],\n",
    "                           outputCol='features'),\n",
    "    feature.StandardScaler(withMean=True,\n",
    "                           inputCol='features', outputCol='zfeatures'\n",
    "                          ),\n",
    "    feature.PCA(k=2, inputCol='zfeatures', outputCol='loadings')\n",
    "]).fit(pca_df)"
   ]
  },
  {
   "cell_type": "code",
   "execution_count": 10,
   "metadata": {},
   "outputs": [],
   "source": [
    "principal_components = pipeline_pca.stages[-1].pc.toArray()"
   ]
  },
  {
   "cell_type": "code",
   "execution_count": 11,
   "metadata": {},
   "outputs": [],
   "source": [
    "pca_list = list(zip(pca_df.columns[:-1], \n",
    "         principal_components[:, 0], principal_components[:, 1]))"
   ]
  },
  {
   "cell_type": "code",
   "execution_count": 12,
   "metadata": {},
   "outputs": [
    {
     "data": {
      "text/plain": [
       "[('totals_hits', -0.11775911608495077, 0.241600085060104),\n",
       " ('totals_pageviews', -0.12218528598132353, 0.24740273567295562),\n",
       " ('visitNumber', -0.042505008039364495, -0.013762670379592095),\n",
       " ('totals_transactions', -0.07732159525735988, 0.12086847927764896),\n",
       " ('Channel_group_referral', -0.21310554217862832, -0.0994666321871792),\n",
       " ('Chrome OS', -0.07193142580097961, 0.018404539594888816),\n",
       " ('cpm', -0.0012951211277594744, -0.09086215711405327),\n",
       " ('Macintosh', -0.22055399070702736, 0.038278469312461386),\n",
       " ('Firefox', -0.02193499620995402, 0.020493070460500428),\n",
       " ('totals_bounces', 0.13676378026634814, -0.21135710377906602),\n",
       " ('Linux', -0.0857145736851394, -0.07148714382324226),\n",
       " ('Direct', 0.016470184649338408, -0.1431945006279819),\n",
       " ('Windows', -0.12831641196936827, 0.021124581491040937),\n",
       " ('Organic Search', 0.0930191126712807, 0.4688863738866928),\n",
       " ('organic', 0.08381365453391756, 0.4375613316644085),\n",
       " ('Paid Search', 0.05907383070676773, -0.1425863203040946),\n",
       " ('True', 0.41084305546835503, -0.02865875144064384),\n",
       " ('totals_newVisits', 0.0846514082983939, 0.05160159538199939),\n",
       " ('mobile', 0.37928594602053384, -0.029069388733621554),\n",
       " ('Safari', 0.26669869028381005, 0.2050244940035406),\n",
       " ('cpc', 0.13795009191071805, -0.27386935485691616),\n",
       " ('iOS', 0.3135335498529218, 0.16782494857265853),\n",
       " ('Android', 0.2037537533504684, -0.20753816639295766),\n",
       " ('Display', 0.11729691603243811, -0.2523352176916464),\n",
       " ('Internet Explorer', -0.01573983041126821, -0.023983281541074382),\n",
       " ('desktop', -0.4108413465774668, 0.028652859533348094),\n",
       " ('traffic_source_referral', -0.051423517660550574, -0.20037589097209785),\n",
       " ('Edge', -0.017951837487920858, -0.024162494538098607),\n",
       " ('Chrome', -0.2566504987790401, -0.1194528350470159),\n",
       " ('Social', -0.0179587140075605, -0.17375974902829114)]"
      ]
     },
     "execution_count": 12,
     "metadata": {},
     "output_type": "execute_result"
    }
   ],
   "source": [
    "pca_list"
   ]
  },
  {
   "cell_type": "code",
   "execution_count": 15,
   "metadata": {},
   "outputs": [],
   "source": [
    "feature_list = []\n",
    "component1 = []\n",
    "component2 = []\n",
    "for i in pca_list:\n",
    "    feature_list.append(i[0])\n",
    "    component1.append(i[1])\n",
    "    component2.append(i[2])\n",
    "\n",
    "weight1 = 0.5\n",
    "weight2 = 0.5\n",
    "weight = [x + y for x, y in zip([abs(i) * weight1 for i in component1],\\\n",
    "                                [abs(i) * weight2 for i in component2])]\n"
   ]
  },
  {
   "cell_type": "code",
   "execution_count": 16,
   "metadata": {
    "scrolled": true
   },
   "outputs": [],
   "source": [
    "pca_list2 = pd.DataFrame(\n",
    "    {'feature': feature_list,\n",
    "     'component1': component1,\n",
    "     'component2': component2\n",
    "    })"
   ]
  },
  {
   "cell_type": "code",
   "execution_count": 17,
   "metadata": {
    "scrolled": true
   },
   "outputs": [],
   "source": [
    "pca_list_df = pca_list2[['component1','component2']]"
   ]
  },
  {
   "cell_type": "code",
   "execution_count": 18,
   "metadata": {
    "scrolled": true
   },
   "outputs": [
    {
     "data": {
      "text/html": [
       "<div>\n",
       "<style scoped>\n",
       "    .dataframe tbody tr th:only-of-type {\n",
       "        vertical-align: middle;\n",
       "    }\n",
       "\n",
       "    .dataframe tbody tr th {\n",
       "        vertical-align: top;\n",
       "    }\n",
       "\n",
       "    .dataframe thead th {\n",
       "        text-align: right;\n",
       "    }\n",
       "</style>\n",
       "<table border=\"1\" class=\"dataframe\">\n",
       "  <thead>\n",
       "    <tr style=\"text-align: right;\">\n",
       "      <th></th>\n",
       "      <th>component1</th>\n",
       "      <th>component2</th>\n",
       "    </tr>\n",
       "  </thead>\n",
       "  <tbody>\n",
       "    <tr>\n",
       "      <th>0</th>\n",
       "      <td>-0.117759</td>\n",
       "      <td>0.241600</td>\n",
       "    </tr>\n",
       "    <tr>\n",
       "      <th>1</th>\n",
       "      <td>-0.122185</td>\n",
       "      <td>0.247403</td>\n",
       "    </tr>\n",
       "    <tr>\n",
       "      <th>2</th>\n",
       "      <td>-0.042505</td>\n",
       "      <td>-0.013763</td>\n",
       "    </tr>\n",
       "    <tr>\n",
       "      <th>3</th>\n",
       "      <td>-0.077322</td>\n",
       "      <td>0.120868</td>\n",
       "    </tr>\n",
       "    <tr>\n",
       "      <th>4</th>\n",
       "      <td>-0.213106</td>\n",
       "      <td>-0.099467</td>\n",
       "    </tr>\n",
       "  </tbody>\n",
       "</table>\n",
       "</div>"
      ],
      "text/plain": [
       "   component1  component2\n",
       "0   -0.117759    0.241600\n",
       "1   -0.122185    0.247403\n",
       "2   -0.042505   -0.013763\n",
       "3   -0.077322    0.120868\n",
       "4   -0.213106   -0.099467"
      ]
     },
     "execution_count": 18,
     "metadata": {},
     "output_type": "execute_result"
    }
   ],
   "source": [
    "pca_list_df.head()"
   ]
  },
  {
   "cell_type": "code",
   "execution_count": 19,
   "metadata": {
    "scrolled": false
   },
   "outputs": [
    {
     "name": "stderr",
     "output_type": "stream",
     "text": [
      "/anaconda3/lib/python3.6/site-packages/ipykernel_launcher.py:1: FutureWarning: Method .as_matrix will be removed in a future version. Use .values instead.\n",
      "  \"\"\"Entry point for launching an IPython kernel.\n"
     ]
    }
   ],
   "source": [
    "pca_list_m = pca_list_df.as_matrix()\n"
   ]
  },
  {
   "cell_type": "code",
   "execution_count": 20,
   "metadata": {},
   "outputs": [],
   "source": [
    "training_df, validation_df, testing_df = pca_df.randomSplit([0.6, 0.3, 0.1], seed=0)"
   ]
  },
  {
   "cell_type": "code",
   "execution_count": 21,
   "metadata": {
    "scrolled": true
   },
   "outputs": [
    {
     "name": "stderr",
     "output_type": "stream",
     "text": [
      "/anaconda3/lib/python3.6/site-packages/ipykernel_launcher.py:1: FutureWarning: Method .as_matrix will be removed in a future version. Use .values instead.\n",
      "  \"\"\"Entry point for launching an IPython kernel.\n",
      "/anaconda3/lib/python3.6/site-packages/ipykernel_launcher.py:2: FutureWarning: Method .as_matrix will be removed in a future version. Use .values instead.\n",
      "  \n",
      "/anaconda3/lib/python3.6/site-packages/ipykernel_launcher.py:3: FutureWarning: Method .as_matrix will be removed in a future version. Use .values instead.\n",
      "  This is separate from the ipykernel package so we can avoid doing imports until\n"
     ]
    }
   ],
   "source": [
    "training_m = training_df.select(training_df.columns[:-1]).toPandas().as_matrix()\n",
    "validation_m = validation_df.select(validation_df.columns[:-1]).toPandas().as_matrix()\n",
    "testing_m = testing_df.select(testing_df.columns[:-1]).toPandas().as_matrix()\n"
   ]
  },
  {
   "cell_type": "code",
   "execution_count": 22,
   "metadata": {},
   "outputs": [],
   "source": [
    "trainging_2features_m = training_m.dot(pca_list_m)\n",
    "validation_2features_m = validation_m.dot(pca_list_m)\n",
    "testing_2features_m = testing_m.dot(pca_list_m)"
   ]
  },
  {
   "cell_type": "code",
   "execution_count": 23,
   "metadata": {},
   "outputs": [],
   "source": [
    "trainging_2features_df = pd.DataFrame(trainging_2features_m)\n",
    "validation_2features_df = pd.DataFrame(validation_2features_m)\n",
    "testing_2features_df = pd.DataFrame(testing_2features_m)"
   ]
  },
  {
   "cell_type": "code",
   "execution_count": 24,
   "metadata": {},
   "outputs": [],
   "source": [
    "trainging_2features_df.columns = ['component1','component2']\n",
    "validation_2features_df.columns = ['component1','component2']\n",
    "testing_2features_df.columns = ['component1','component2']"
   ]
  },
  {
   "cell_type": "code",
   "execution_count": 25,
   "metadata": {
    "scrolled": true
   },
   "outputs": [],
   "source": [
    "trainging_2features_df['Total revenue'] = training_df.toPandas()['Total revenue']\n",
    "validation_2features_df['Total revenue'] = validation_df.toPandas()['Total revenue']\n",
    "testing_2features_df['Total revenue'] = testing_df.toPandas()['Total revenue']\n"
   ]
  },
  {
   "cell_type": "code",
   "execution_count": 26,
   "metadata": {},
   "outputs": [],
   "source": [
    "trainging_2features_df_pyspark = spark.createDataFrame(trainging_2features_df)\n",
    "validation_2features_df_pyspark = spark.createDataFrame(validation_2features_df)\n",
    "testing_2features_df_pyspark = spark.createDataFrame(testing_2features_df)"
   ]
  },
  {
   "cell_type": "code",
   "execution_count": 27,
   "metadata": {},
   "outputs": [],
   "source": [
    "from pyspark.ml.classification import LogisticRegression\n",
    "lr_1 = LogisticRegression().\\\n",
    "    setLabelCol('Total revenue').\\\n",
    "    setFeaturesCol('features')"
   ]
  },
  {
   "cell_type": "code",
   "execution_count": 28,
   "metadata": {},
   "outputs": [],
   "source": [
    "pipeline_log = Pipeline(stages=[\n",
    "    feature.VectorAssembler(inputCols=['component1','component2'],\n",
    "                           outputCol='features')\n",
    "]).fit(trainging_2features_df_pyspark)"
   ]
  },
  {
   "cell_type": "code",
   "execution_count": 29,
   "metadata": {
    "scrolled": true
   },
   "outputs": [],
   "source": [
    "lr_pipeline1 = Pipeline(stages=[pipeline_log, lr_1]).fit(trainging_2features_df_pyspark)"
   ]
  },
  {
   "cell_type": "code",
   "execution_count": 30,
   "metadata": {},
   "outputs": [],
   "source": [
    "evaluator = evaluation.BinaryClassificationEvaluator(labelCol='Total revenue')\n",
    "AUC1 = evaluator.evaluate(lr_pipeline1.transform(testing_2features_df_pyspark))"
   ]
  },
  {
   "cell_type": "code",
   "execution_count": 31,
   "metadata": {},
   "outputs": [
    {
     "data": {
      "text/plain": [
       "0.9647591319515341"
      ]
     },
     "execution_count": 31,
     "metadata": {},
     "output_type": "execute_result"
    }
   ],
   "source": [
    "AUC1"
   ]
  },
  {
   "cell_type": "code",
   "execution_count": 32,
   "metadata": {},
   "outputs": [
    {
     "data": {
      "text/plain": [
       "Total revenue    0.975731\n",
       "dtype: float64"
      ]
     },
     "execution_count": 32,
     "metadata": {},
     "output_type": "execute_result"
    }
   ],
   "source": [
    "1-((testing_2features_df_pyspark.select('Total revenue').toPandas().sum())/len(testing_2features_df_pyspark.select('Total revenue').toPandas()))"
   ]
  },
  {
   "cell_type": "code",
   "execution_count": 33,
   "metadata": {},
   "outputs": [],
   "source": [
    "prediction = lr_pipeline1.transform(testing_2features_df_pyspark).select('prediction').toPandas()"
   ]
  },
  {
   "cell_type": "code",
   "execution_count": 34,
   "metadata": {
    "scrolled": true
   },
   "outputs": [],
   "source": [
    "prediction = prediction.astype('int')"
   ]
  },
  {
   "cell_type": "code",
   "execution_count": 35,
   "metadata": {},
   "outputs": [],
   "source": [
    "original = testing_2features_df_pyspark.select('Total revenue').toPandas()"
   ]
  },
  {
   "cell_type": "code",
   "execution_count": 36,
   "metadata": {},
   "outputs": [],
   "source": [
    "combine = pd.concat([prediction,original], axis = 1)"
   ]
  },
  {
   "cell_type": "code",
   "execution_count": 37,
   "metadata": {},
   "outputs": [],
   "source": [
    "df_confusion = pd.crosstab(original['Total revenue'],prediction['prediction'])"
   ]
  },
  {
   "cell_type": "code",
   "execution_count": 38,
   "metadata": {
    "scrolled": false
   },
   "outputs": [
    {
     "data": {
      "text/html": [
       "<div>\n",
       "<style scoped>\n",
       "    .dataframe tbody tr th:only-of-type {\n",
       "        vertical-align: middle;\n",
       "    }\n",
       "\n",
       "    .dataframe tbody tr th {\n",
       "        vertical-align: top;\n",
       "    }\n",
       "\n",
       "    .dataframe thead th {\n",
       "        text-align: right;\n",
       "    }\n",
       "</style>\n",
       "<table border=\"1\" class=\"dataframe\">\n",
       "  <thead>\n",
       "    <tr style=\"text-align: right;\">\n",
       "      <th>prediction</th>\n",
       "      <th>0</th>\n",
       "      <th>1</th>\n",
       "    </tr>\n",
       "    <tr>\n",
       "      <th>Total revenue</th>\n",
       "      <th></th>\n",
       "      <th></th>\n",
       "    </tr>\n",
       "  </thead>\n",
       "  <tbody>\n",
       "    <tr>\n",
       "      <th>0</th>\n",
       "      <td>69811</td>\n",
       "      <td>306</td>\n",
       "    </tr>\n",
       "    <tr>\n",
       "      <th>1</th>\n",
       "      <td>1499</td>\n",
       "      <td>245</td>\n",
       "    </tr>\n",
       "  </tbody>\n",
       "</table>\n",
       "</div>"
      ],
      "text/plain": [
       "prediction         0    1\n",
       "Total revenue            \n",
       "0              69811  306\n",
       "1               1499  245"
      ]
     },
     "execution_count": 38,
     "metadata": {},
     "output_type": "execute_result"
    }
   ],
   "source": [
    "df_confusion"
   ]
  },
  {
   "cell_type": "code",
   "execution_count": 41,
   "metadata": {
    "scrolled": true
   },
   "outputs": [],
   "source": [
    "precision = df_confusion[1][1]/(df_confusion[1][1]+df_confusion[1][0])\n",
    "recall = df_confusion[1][1]/(df_confusion[1][1] + df_confusion[0][1])"
   ]
  },
  {
   "cell_type": "code",
   "execution_count": 42,
   "metadata": {},
   "outputs": [
    {
     "data": {
      "text/plain": [
       "0.44464609800362975"
      ]
     },
     "execution_count": 42,
     "metadata": {},
     "output_type": "execute_result"
    }
   ],
   "source": [
    "precision"
   ]
  },
  {
   "cell_type": "code",
   "execution_count": null,
   "metadata": {},
   "outputs": [],
   "source": [
    "67/(67+105)"
   ]
  },
  {
   "cell_type": "code",
   "execution_count": 43,
   "metadata": {},
   "outputs": [],
   "source": [
    "F1 = 2 * (precision * recall) / (precision + recall)"
   ]
  },
  {
   "cell_type": "code",
   "execution_count": 44,
   "metadata": {},
   "outputs": [
    {
     "data": {
      "text/plain": [
       "0.21350762527233116"
      ]
     },
     "execution_count": 44,
     "metadata": {},
     "output_type": "execute_result"
    }
   ],
   "source": [
    "F1"
   ]
  },
  {
   "cell_type": "code",
   "execution_count": 45,
   "metadata": {},
   "outputs": [],
   "source": [
    "G_score = np.sqrt(precision * recall)"
   ]
  },
  {
   "cell_type": "code",
   "execution_count": 46,
   "metadata": {},
   "outputs": [
    {
     "data": {
      "text/plain": [
       "0.24992922623316768"
      ]
     },
     "execution_count": 46,
     "metadata": {},
     "output_type": "execute_result"
    }
   ],
   "source": [
    "G_score"
   ]
  },
  {
   "cell_type": "code",
   "execution_count": null,
   "metadata": {},
   "outputs": [],
   "source": []
  }
 ],
 "metadata": {
  "kernelspec": {
   "display_name": "Python 3",
   "language": "python",
   "name": "python3"
  },
  "language_info": {
   "codemirror_mode": {
    "name": "ipython",
    "version": 3
   },
   "file_extension": ".py",
   "mimetype": "text/x-python",
   "name": "python",
   "nbconvert_exporter": "python",
   "pygments_lexer": "ipython3",
   "version": "3.6.8"
  }
 },
 "nbformat": 4,
 "nbformat_minor": 2
}
