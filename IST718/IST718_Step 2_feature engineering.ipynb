{
 "cells": [
  {
   "cell_type": "code",
   "execution_count": 1,
   "metadata": {},
   "outputs": [],
   "source": [
    "# Functionality for computing features\n",
    "from pyspark.ml import feature\n",
    "# Functionality for regression\n",
    "from pyspark.ml import regression\n",
    "# Funcionality for classification\n",
    "from pyspark.ml import classification\n",
    "# Object for creating sequences of transformations\n",
    "from pyspark.ml import Pipeline\n",
    "from pyspark.sql import SparkSession\n",
    "from pyspark.ml import feature, regression, evaluation, Pipeline\n",
    "from pyspark.sql import functions as fn, Row\n",
    "spark = SparkSession.builder.getOrCreate()\n",
    "sc = spark.sparkContext\n",
    "import pandas as pd"
   ]
  },
  {
   "cell_type": "markdown",
   "metadata": {},
   "source": [
    "# Section 1: Slice Data, United States\n",
    "Dropped a few unnecessary columns,\n",
    "Filter the dataset by United States"
   ]
  },
  {
   "cell_type": "code",
   "execution_count": 2,
   "metadata": {},
   "outputs": [],
   "source": [
    "#data_01 = pd.read_csv('Data_clean_01.csv', sep = ',')\n",
    "#data_01 is the step after 1st step of the data cleaning\n",
    "#instead of reading into Panda, we directly passed it into pyspark"
   ]
  },
  {
   "cell_type": "code",
   "execution_count": 3,
   "metadata": {},
   "outputs": [],
   "source": [
    "df01 = spark.read.csv('Data_clean_1.csv',sep = ',', header=True, inferSchema=True)\n",
    "#read the dataset into spark"
   ]
  },
  {
   "cell_type": "code",
   "execution_count": 4,
   "metadata": {},
   "outputs": [
    {
     "name": "stdout",
     "output_type": "stream",
     "text": [
      "root\n",
      " |-- _c0: integer (nullable = true)\n",
      " |-- channelGrouping: string (nullable = true)\n",
      " |-- date: integer (nullable = true)\n",
      " |-- fullVisitorId: decimal(20,0) (nullable = true)\n",
      " |-- socialEngagementType: string (nullable = true)\n",
      " |-- visitId: integer (nullable = true)\n",
      " |-- visitNumber: integer (nullable = true)\n",
      " |-- device.browser: string (nullable = true)\n",
      " |-- device.deviceCategory: string (nullable = true)\n",
      " |-- device.isMobile: boolean (nullable = true)\n",
      " |-- device.language: string (nullable = true)\n",
      " |-- device.mobileDeviceBranding: string (nullable = true)\n",
      " |-- device.mobileDeviceModel: string (nullable = true)\n",
      " |-- device.operatingSystem: string (nullable = true)\n",
      " |-- device.screenResolution: string (nullable = true)\n",
      " |-- geoNetwork.city: string (nullable = true)\n",
      " |-- geoNetwork.continent: string (nullable = true)\n",
      " |-- geoNetwork.country: string (nullable = true)\n",
      " |-- geoNetwork.latitude: string (nullable = true)\n",
      " |-- geoNetwork.longitude: string (nullable = true)\n",
      " |-- totals.bounces: integer (nullable = true)\n",
      " |-- totals.hits: integer (nullable = true)\n",
      " |-- totals.newVisits: integer (nullable = true)\n",
      " |-- totals.pageviews: integer (nullable = true)\n",
      " |-- totals.sessionQualityDim: integer (nullable = true)\n",
      " |-- totals.timeOnSite: integer (nullable = true)\n",
      " |-- totals.totalTransactionRevenue: long (nullable = true)\n",
      " |-- totals.transactionRevenue: long (nullable = true)\n",
      " |-- totals.transactions: integer (nullable = true)\n",
      " |-- totals.visits: integer (nullable = true)\n",
      " |-- trafficSource.adwordsClickInfo.isVideoAd: boolean (nullable = true)\n",
      " |-- trafficSource.isTrueDirect: boolean (nullable = true)\n",
      " |-- trafficSource.medium: string (nullable = true)\n",
      " |-- trafficSource.source: string (nullable = true)\n",
      "\n"
     ]
    }
   ],
   "source": [
    "df01.printSchema()"
   ]
  },
  {
   "cell_type": "code",
   "execution_count": 5,
   "metadata": {},
   "outputs": [],
   "source": [
    "#df 02 is the datafram that after dropping columns that we deems unhelpful here\n",
    "#there other columns whose information isn't available, wiped by Google to protect privacy\n",
    "#we couldn't process the geo information at this point, that's why we dropped them, city, country & continent\n",
    "#latitude & longtitude aren't available to us\n",
    "df02 = df01.drop(\"_c0\", \"device.language\",\"device.mobileDeviceBranding\",\"device.mobileDeviceModel\",\n",
    "                 \"device.screenResolution\", \"geoNetwork.city\",\"geoNetwork.continent\", #\"geoNetwork.country\",\n",
    "                 \"geoNetwork.latitude\", \"geoNetwork.longitude\")"
   ]
  },
  {
   "cell_type": "code",
   "execution_count": 6,
   "metadata": {},
   "outputs": [
    {
     "name": "stdout",
     "output_type": "stream",
     "text": [
      "['channelGrouping', 'date', 'fullVisitorId', 'socialEngagementType', 'visitId', 'visitNumber', 'device.browser', 'device.deviceCategory', 'device.isMobile', 'device.operatingSystem', 'geoNetwork.country', 'totals.bounces', 'totals.hits', 'totals.newVisits', 'totals.pageviews', 'totals.sessionQualityDim', 'totals.timeOnSite', 'totals.totalTransactionRevenue', 'totals.transactionRevenue', 'totals.transactions', 'totals.visits', 'trafficSource.adwordsClickInfo.isVideoAd', 'trafficSource.isTrueDirect', 'trafficSource.medium', 'trafficSource.source']\n"
     ]
    }
   ],
   "source": [
    "print(df02.columns)"
   ]
  },
  {
   "cell_type": "code",
   "execution_count": 7,
   "metadata": {},
   "outputs": [
    {
     "data": {
      "text/plain": [
       "1708337"
      ]
     },
     "execution_count": 7,
     "metadata": {},
     "output_type": "execute_result"
    }
   ],
   "source": [
    "df02.count()"
   ]
  },
  {
   "cell_type": "code",
   "execution_count": 8,
   "metadata": {},
   "outputs": [
    {
     "name": "stdout",
     "output_type": "stream",
     "text": [
      "+------------------+\n",
      "|geoNetwork.country|\n",
      "+------------------+\n",
      "|           Germany|\n",
      "|     United States|\n",
      "+------------------+\n",
      "only showing top 2 rows\n",
      "\n"
     ]
    }
   ],
   "source": [
    "df02.select(\"`geoNetwork.country`\").show(2)\n",
    "#here, i need a special backticks to wrap up the column name so it'll work "
   ]
  },
  {
   "cell_type": "code",
   "execution_count": 9,
   "metadata": {},
   "outputs": [],
   "source": [
    "#df02.select(\"geoNetwork.country\").\n",
    "#df02.filter(\"geoNetwork.country='united states'\").show()\n",
    "#df2.select([c for c in df02.geoNetwork.country if c in ['united states']]).show()\n",
    "#A link for filtering out rows\n",
    "#https://stackoverflow.com/questions/49301373/pyspark-filter-dataframe-based-on-multiple-conditions?rq=1\n",
    "import pyspark.sql.functions as fn\n",
    "df03 = df02.filter((fn.col('`geoNetwork.country`') == \"United States\"))\n",
    "# df03 is the dataframe that has only the data for United States "
   ]
  },
  {
   "cell_type": "code",
   "execution_count": 10,
   "metadata": {},
   "outputs": [
    {
     "data": {
      "text/plain": [
       "717217"
      ]
     },
     "execution_count": 10,
     "metadata": {},
     "output_type": "execute_result"
    }
   ],
   "source": [
    "df03.count()"
   ]
  },
  {
   "cell_type": "markdown",
   "metadata": {},
   "source": [
    "# Section 2: Feature Enigeering\n",
    "This is the section to explore each feature\n",
    "Put them into categorical groups for the pipe line. \n",
    "df03 is the input dataset for this section"
   ]
  },
  {
   "cell_type": "code",
   "execution_count": 11,
   "metadata": {},
   "outputs": [],
   "source": [
    "#renames all the columns, \n",
    "#have been running into bugs becaues of how columns were named \n",
    "df03 = df03.toDF('channelGrouping','date','fullVisitorId','socialEngagementType','visitId',\n",
    "                 'visitNumber','browser','deviceCategory','isMobile','operatingSystem','country',\n",
    "                 'totalsbounces','totalshits','totalsnewVisits', 'totalspageviews',\n",
    "                 'totalssessionQualityDim', 'totalstimeOnSite', 'totalTransactionRevenue',\n",
    "                 'transactionRevenue', 'transactions', 'totalsvisits', 'adwordsClickInfoisVideoAd',\n",
    "                 'isTrueDirect','trafficSourcemedium', 'trafficSourcesource')"
   ]
  },
  {
   "cell_type": "code",
   "execution_count": 12,
   "metadata": {},
   "outputs": [],
   "source": [
    "#df03.printSchema()\n",
    "df04 = df03 \n",
    "#df 04 backs up df03"
   ]
  },
  {
   "cell_type": "markdown",
   "metadata": {},
   "source": [
    "## Feature: ChannelGrouping \n",
    "7 classes + Null&others together"
   ]
  },
  {
   "cell_type": "code",
   "execution_count": 13,
   "metadata": {},
   "outputs": [
    {
     "data": {
      "text/plain": [
       "0"
      ]
     },
     "execution_count": 13,
     "metadata": {},
     "output_type": "execute_result"
    }
   ],
   "source": [
    "#count if there are any NAs in the column \n",
    "# from pyspark.sql.functions import isnan This is for checking NaN, if necessary \n",
    "# df.filter( (df[\"ID\"] == \"\") | (df[\"ID\"].isNull()) | ( df[\"ID\"].isnan()) ).count()\n",
    "# this is for \"\", or Null, or NaN\n",
    "df04.filter(df04[\"channelGrouping\"].isNull()).count()\n",
    "#df03.select(\"channelGrouping\").na.fill(\"Other\").cube(\"channelGrouping\").count().show() \n",
    "#An earlier code tying to corrent null "
   ]
  },
  {
   "cell_type": "code",
   "execution_count": 14,
   "metadata": {},
   "outputs": [
    {
     "name": "stdout",
     "output_type": "stream",
     "text": [
      "+---------------+------+\n",
      "|channelGrouping| count|\n",
      "+---------------+------+\n",
      "|        (Other)|   105|\n",
      "|     Affiliates|  6985|\n",
      "|        Display| 38579|\n",
      "|    Paid Search| 39291|\n",
      "|         Social| 45750|\n",
      "|         Direct|141625|\n",
      "|       Referral|149149|\n",
      "| Organic Search|295733|\n",
      "|           null|717217|\n",
      "+---------------+------+\n",
      "\n"
     ]
    }
   ],
   "source": [
    "#here, Nullable is true, that's why we have 717217 null exactly mathces how many rows there are \n",
    "df04.cube(\"channelGrouping\").count().sort(\"count\").show()"
   ]
  },
  {
   "cell_type": "markdown",
   "metadata": {},
   "source": [
    "## Feature: Date\n",
    "Drop the date column, because we aren't processing any time series data"
   ]
  },
  {
   "cell_type": "code",
   "execution_count": 15,
   "metadata": {},
   "outputs": [],
   "source": [
    "df04 = df04.drop(\"date\")"
   ]
  },
  {
   "cell_type": "code",
   "execution_count": 16,
   "metadata": {},
   "outputs": [],
   "source": [
    "#df04.printSchema()"
   ]
  },
  {
   "cell_type": "markdown",
   "metadata": {},
   "source": [
    "## Feature: fullVistorId,visitId are IDs, not need for processing\n",
    "## Feature: visitNumber is similar "
   ]
  },
  {
   "cell_type": "markdown",
   "metadata": {},
   "source": [
    "## Feature: socialEngagmentType\n",
    "Everyone is not socially engaged, the feature is useless.\n",
    "We drop it. "
   ]
  },
  {
   "cell_type": "code",
   "execution_count": 17,
   "metadata": {},
   "outputs": [
    {
     "name": "stdout",
     "output_type": "stream",
     "text": [
      "+--------------------+------+\n",
      "|socialEngagementType| count|\n",
      "+--------------------+------+\n",
      "|Not Socially Engaged|717217|\n",
      "|                null|717217|\n",
      "+--------------------+------+\n",
      "\n"
     ]
    }
   ],
   "source": [
    "df04.cube(\"socialEngagementType\").count().sort(\"count\").show()"
   ]
  },
  {
   "cell_type": "code",
   "execution_count": 18,
   "metadata": {},
   "outputs": [],
   "source": [
    "df04 = df04.drop(\"socialEngagementType\")"
   ]
  },
  {
   "cell_type": "markdown",
   "metadata": {},
   "source": [
    "## Feature: browser\n",
    "### df04 before this Step\n",
    "Here, we preserved 3 types. \n",
    "<br /> Chrome, Safari & Others\n",
    "<br /> After this step, it's df05\n"
   ]
  },
  {
   "cell_type": "code",
   "execution_count": 19,
   "metadata": {},
   "outputs": [
    {
     "data": {
      "text/plain": [
       "0"
      ]
     },
     "execution_count": 19,
     "metadata": {},
     "output_type": "execute_result"
    }
   ],
   "source": [
    "#check wethere there are any nulls \n",
    "df04.filter(df04[\"browser\"].isNull()).count()"
   ]
  },
  {
   "cell_type": "code",
   "execution_count": 20,
   "metadata": {},
   "outputs": [
    {
     "name": "stdout",
     "output_type": "stream",
     "text": [
      "+--------------------+------+\n",
      "|             browser| count|\n",
      "+--------------------+------+\n",
      "|                null|717217|\n",
      "|              Chrome|529385|\n",
      "|              Safari|127216|\n",
      "|             Firefox| 15247|\n",
      "|   Internet Explorer| 11974|\n",
      "|                Edge|  8420|\n",
      "|     Safari (in-app)|  7369|\n",
      "|    Samsung Internet|  7169|\n",
      "|     Android Webview|  6242|\n",
      "|               Opera|  2165|\n",
      "|         Amazon Silk|  1070|\n",
      "|Mozilla Compatibl...|   182|\n",
      "|           YaBrowser|   169|\n",
      "|          UC Browser|   117|\n",
      "|     Android Browser|    86|\n",
      "|          Opera Mini|    84|\n",
      "|    Nintendo Browser|    46|\n",
      "|              Puffin|    44|\n",
      "|             Coc Coc|    41|\n",
      "|             Maxthon|    35|\n",
      "+--------------------+------+\n",
      "only showing top 20 rows\n",
      "\n"
     ]
    }
   ],
   "source": [
    "from pyspark.sql.functions import desc\n",
    "df04.cube(\"browser\").count().sort(desc(\"count\")).show()"
   ]
  },
  {
   "cell_type": "code",
   "execution_count": 21,
   "metadata": {},
   "outputs": [],
   "source": [
    "#to make nullable = True \n",
    "df05 = df04.withColumn('Nbrowsers', fn.when(fn.col('browser')=='Chrome', 'Chrome').\\\n",
    "                                       when(fn.col('browser')=='Safari', 'Safari').otherwise('others')).\\\n",
    "                                       drop('browser')\n",
    "#fn.when(fn.col('browser') =='Safari', 'Safari').\\\n",
    "#                            fn.when(fn.col('browser')=='Firefox', 'Firefox').\\\n",
    "#                            fn.when(fn.col('browser')=='Internet Explorer', 'IE').\\"
   ]
  },
  {
   "cell_type": "code",
   "execution_count": 22,
   "metadata": {},
   "outputs": [],
   "source": [
    "#df04_brs.printSchema()"
   ]
  },
  {
   "cell_type": "code",
   "execution_count": 23,
   "metadata": {},
   "outputs": [
    {
     "name": "stdout",
     "output_type": "stream",
     "text": [
      "+---------+------+\n",
      "|Nbrowsers| count|\n",
      "+---------+------+\n",
      "|     null|717217|\n",
      "|   Chrome|529385|\n",
      "|   Safari|127216|\n",
      "|   others| 60616|\n",
      "+---------+------+\n",
      "\n"
     ]
    }
   ],
   "source": [
    "df05.cube(\"Nbrowsers\").count().sort(desc(\"count\")).show()"
   ]
  },
  {
   "cell_type": "markdown",
   "metadata": {},
   "source": [
    "## Feature: deviceCategory"
   ]
  },
  {
   "cell_type": "code",
   "execution_count": 24,
   "metadata": {},
   "outputs": [
    {
     "name": "stdout",
     "output_type": "stream",
     "text": [
      "+--------------+------+\n",
      "|deviceCategory| count|\n",
      "+--------------+------+\n",
      "|          null|717217|\n",
      "|       desktop|475113|\n",
      "|        mobile|210890|\n",
      "|        tablet| 31214|\n",
      "+--------------+------+\n",
      "\n"
     ]
    }
   ],
   "source": [
    "df05.cube(\"deviceCategory\").count().sort(desc(\"count\")).show()\n",
    "#717217 is the total number of rows in the United States "
   ]
  },
  {
   "cell_type": "markdown",
   "metadata": {},
   "source": [
    "## Feature: isMobile\n",
    "There's overlapp between this variable & deviceCategory\n",
    "<br />No NAs"
   ]
  },
  {
   "cell_type": "code",
   "execution_count": 25,
   "metadata": {
    "scrolled": true
   },
   "outputs": [
    {
     "name": "stdout",
     "output_type": "stream",
     "text": [
      "+--------+------+\n",
      "|isMobile| count|\n",
      "+--------+------+\n",
      "|    null|717217|\n",
      "|   false|475205|\n",
      "|    true|242012|\n",
      "+--------+------+\n",
      "\n"
     ]
    }
   ],
   "source": [
    "df05.cube(\"isMobile\").count().sort(desc(\"count\")).show()\n",
    "#717217 is the total number of rows in the United States "
   ]
  },
  {
   "cell_type": "markdown",
   "metadata": {},
   "source": [
    "## Feature: operatingSystem\n",
    "### df05 before this step "
   ]
  },
  {
   "cell_type": "code",
   "execution_count": 26,
   "metadata": {},
   "outputs": [
    {
     "name": "stdout",
     "output_type": "stream",
     "text": [
      "+----------------+------+\n",
      "| operatingSystem| count|\n",
      "+----------------+------+\n",
      "|            null|717217|\n",
      "|       Macintosh|230058|\n",
      "|         Windows|160625|\n",
      "|             iOS|123967|\n",
      "|         Android|116485|\n",
      "|           Linux| 46001|\n",
      "|       Chrome OS| 39310|\n",
      "|       (not set)|   411|\n",
      "|   Windows Phone|   163|\n",
      "|            Xbox|    70|\n",
      "|      BlackBerry|    38|\n",
      "|           Tizen|    26|\n",
      "|    Nintendo Wii|    23|\n",
      "|   Nintendo WiiU|    14|\n",
      "|    Nintendo 3DS|     6|\n",
      "|         FreeBSD|     6|\n",
      "|      Firefox OS|     5|\n",
      "|Playstation Vita|     3|\n",
      "|           SunOS|     3|\n",
      "|           Nokia|     2|\n",
      "+----------------+------+\n",
      "only showing top 20 rows\n",
      "\n"
     ]
    }
   ],
   "source": [
    "df05.cube(\"operatingSystem\").count().sort(desc(\"count\")).show()"
   ]
  },
  {
   "cell_type": "code",
   "execution_count": 27,
   "metadata": {},
   "outputs": [],
   "source": [
    "#to make nullable = True \n",
    "df06 = df05.withColumn('Noperatingsystem', fn.when(fn.col('operatingSystem')=='Macintosh', 'Macintosh').\\\n",
    "                                              when(fn.col('operatingSystem')=='Windows', 'Windows').\\\n",
    "                                              when(fn.col('operatingSystem')=='iOS', 'iOS').\\\n",
    "                                              when(fn.col('operatingSystem')=='Android', 'Android').\\\n",
    "                                              otherwise('others')).\\\n",
    "                                              drop('operatingSystem')"
   ]
  },
  {
   "cell_type": "code",
   "execution_count": 28,
   "metadata": {},
   "outputs": [
    {
     "name": "stdout",
     "output_type": "stream",
     "text": [
      "+----------------+------+\n",
      "|Noperatingsystem| count|\n",
      "+----------------+------+\n",
      "|            null|717217|\n",
      "|       Macintosh|230058|\n",
      "|         Windows|160625|\n",
      "|             iOS|123967|\n",
      "|         Android|116485|\n",
      "|          others| 86082|\n",
      "+----------------+------+\n",
      "\n"
     ]
    }
   ],
   "source": [
    "df06.cube(\"Noperatingsystem\").count().sort(desc(\"count\")).show()"
   ]
  },
  {
   "cell_type": "markdown",
   "metadata": {},
   "source": [
    "## Feature: country\n",
    "The dataset is already filtered, drop the column\n",
    "## Feature: isMobile\n",
    "There's an overlap between isMobile & device categories, drop the column"
   ]
  },
  {
   "cell_type": "code",
   "execution_count": 29,
   "metadata": {},
   "outputs": [],
   "source": [
    "df06 = df06.drop('country').drop('isMobile')"
   ]
  },
  {
   "cell_type": "code",
   "execution_count": 30,
   "metadata": {},
   "outputs": [],
   "source": [
    "#df06.printSchema()"
   ]
  },
  {
   "cell_type": "markdown",
   "metadata": {},
   "source": [
    "## Feature: totalsbounces\n",
    "### Before this step, it's df06\n",
    "Here, each row is by sessions, \n",
    "<br />For null values, we fill them with 0. \n",
    "<br />Because if there's a bounce, they leave the wesbite. Otherwise, they stays. "
   ]
  },
  {
   "cell_type": "code",
   "execution_count": 31,
   "metadata": {},
   "outputs": [],
   "source": [
    "#replace Null with 0 \n",
    "df07 = df06.withColumn(\"Ntotalsbounces\",fn.when(fn.isnull('totalsbounces') ,0).otherwise(1))\n",
    "df07 = df07.drop('totalsbounces')"
   ]
  },
  {
   "cell_type": "code",
   "execution_count": 32,
   "metadata": {},
   "outputs": [
    {
     "name": "stdout",
     "output_type": "stream",
     "text": [
      "+--------------+------+\n",
      "|Ntotalsbounces| count|\n",
      "+--------------+------+\n",
      "|          null|717217|\n",
      "|             0|439702|\n",
      "|             1|277515|\n",
      "+--------------+------+\n",
      "\n"
     ]
    }
   ],
   "source": [
    "df07.cube(\"Ntotalsbounces\").count().sort(desc(\"count\")).show()\n",
    "# total number of rows 717217"
   ]
  },
  {
   "cell_type": "code",
   "execution_count": 33,
   "metadata": {},
   "outputs": [],
   "source": [
    "#df07.printSchema()"
   ]
  },
  {
   "cell_type": "markdown",
   "metadata": {},
   "source": [
    "## Feature: totalshits\n",
    " A Hit actually refers to the number of files downloaded on your site, this could include photos, graphics, etc. Picture the average web page, it has photos (each photo is a file and hence a hit) and lots of buttons (each button is a file and hence a hit). On average, each page will include 15 hits.\n",
    "<br />https://www.tendenci.com/help-files/meaning-of-hits-visits-page-views-and-traffic-sources-web-analytics-definitions/"
   ]
  },
  {
   "cell_type": "code",
   "execution_count": 34,
   "metadata": {},
   "outputs": [
    {
     "name": "stdout",
     "output_type": "stream",
     "text": [
      "+-------+-----------------+\n",
      "|summary|       totalshits|\n",
      "+-------+-----------------+\n",
      "|  count|           717217|\n",
      "|   mean|6.117884824258209|\n",
      "| stddev|11.13035020843888|\n",
      "|    min|                1|\n",
      "|    max|              500|\n",
      "+-------+-----------------+\n",
      "\n"
     ]
    }
   ],
   "source": [
    "#feature description \n",
    "df07.select('totalshits').describe().show()"
   ]
  },
  {
   "cell_type": "code",
   "execution_count": 35,
   "metadata": {},
   "outputs": [
    {
     "name": "stdout",
     "output_type": "stream",
     "text": [
      "+----------+------+\n",
      "|totalshits| count|\n",
      "+----------+------+\n",
      "|      null|717217|\n",
      "|         1|275244|\n",
      "|         2| 89162|\n",
      "|         3| 69314|\n",
      "|         4| 45103|\n",
      "|         5| 35056|\n",
      "|         6| 28004|\n",
      "|         7| 22756|\n",
      "|         8| 17977|\n",
      "|         9| 14565|\n",
      "|        10| 12091|\n",
      "|        11| 10541|\n",
      "|        12|  8996|\n",
      "|        13|  7924|\n",
      "|        14|  6982|\n",
      "|        15|  6139|\n",
      "|        16|  5492|\n",
      "|        17|  4809|\n",
      "|        18|  4421|\n",
      "|        19|  3900|\n",
      "+----------+------+\n",
      "only showing top 20 rows\n",
      "\n"
     ]
    }
   ],
   "source": [
    "df07.cube(\"totalshits\").count().sort(desc(\"count\")).show()\n",
    "# total number of rows 717217.\n",
    "# No nulls "
   ]
  },
  {
   "cell_type": "markdown",
   "metadata": {},
   "source": [
    "## Feature: totalsnewVisits\n",
    "### Before this step, it's df07\n",
    "If the visit is a new visit according to the fullVisitorID, it's 1\n",
    "<br />If the visit is a not a new one, it's null. \n",
    "<br />It's logical to assign value 0 to non-new visits"
   ]
  },
  {
   "cell_type": "code",
   "execution_count": 37,
   "metadata": {},
   "outputs": [],
   "source": [
    "#replace Nulls with 0\n",
    "df08 = df07.withColumn(\"NtotalsnewVisits\",fn.when(fn.isnull('totalsnewVisits') ,0).otherwise(1))\n",
    "df08 = df08.drop('totalsnewVisits')"
   ]
  },
  {
   "cell_type": "code",
   "execution_count": 38,
   "metadata": {},
   "outputs": [
    {
     "name": "stdout",
     "output_type": "stream",
     "text": [
      "0\n"
     ]
    }
   ],
   "source": [
    "#check NAs\n",
    "print(df08.filter(df08[\"NtotalsnewVisits\"].isNull()).count())"
   ]
  },
  {
   "cell_type": "markdown",
   "metadata": {},
   "source": [
    "## Feature: totalspageviews\n",
    "### Before this step, it's df08\n",
    "<br />103 Nulls, replace them with 0\n"
   ]
  },
  {
   "cell_type": "code",
   "execution_count": 39,
   "metadata": {},
   "outputs": [
    {
     "name": "stdout",
     "output_type": "stream",
     "text": [
      "103\n",
      "+---------------+------+\n",
      "|totalspageviews| count|\n",
      "+---------------+------+\n",
      "|           null|717217|\n",
      "|              1|279242|\n",
      "|              2| 94384|\n",
      "|              3| 73996|\n",
      "|              4| 49348|\n",
      "|              5| 38224|\n",
      "|              6| 28999|\n",
      "|              7| 23174|\n",
      "|              8| 18025|\n",
      "|              9| 14821|\n",
      "|             10| 11805|\n",
      "|             11| 10245|\n",
      "|             12|  8382|\n",
      "|             13|  7184|\n",
      "|             14|  6404|\n",
      "|             15|  5490|\n",
      "|             16|  4722|\n",
      "|             17|  4149|\n",
      "|             18|  3693|\n",
      "|             19|  3113|\n",
      "+---------------+------+\n",
      "only showing top 20 rows\n",
      "\n",
      "None\n",
      "+-------+-----------------+\n",
      "|summary|  totalspageviews|\n",
      "+-------+-----------------+\n",
      "|  count|           717114|\n",
      "|   mean| 5.01755090543484|\n",
      "| stddev|7.963383177157497|\n",
      "|    min|                1|\n",
      "|    max|              500|\n",
      "+-------+-----------------+\n",
      "\n",
      "None\n"
     ]
    }
   ],
   "source": [
    "#feature description \n",
    "print(df08.filter(df08[\"totalspageviews\"].isNull()).count())\n",
    "print(df08.cube(\"totalspageviews\").count().sort(desc(\"count\")).show())# total number of rows 717217.\n",
    "print(df08.select('totalspageviews').describe().show())"
   ]
  },
  {
   "cell_type": "code",
   "execution_count": 40,
   "metadata": {},
   "outputs": [],
   "source": [
    "df09 = df08.na.fill({'totalspageviews': 0})\n",
    "#df09.printSchema()"
   ]
  },
  {
   "cell_type": "code",
   "execution_count": 41,
   "metadata": {},
   "outputs": [
    {
     "name": "stdout",
     "output_type": "stream",
     "text": [
      "0\n"
     ]
    }
   ],
   "source": [
    "#check results\n",
    "print(df09.filter(df09[\"totalspageviews\"].isNull()).count())"
   ]
  },
  {
   "cell_type": "code",
   "execution_count": 42,
   "metadata": {},
   "outputs": [
    {
     "name": "stdout",
     "output_type": "stream",
     "text": [
      "+-------+-----------------+\n",
      "|summary|  totalspageviews|\n",
      "+-------+-----------------+\n",
      "|  count|           717217|\n",
      "|   mean|5.016830331684832|\n",
      "| stddev|  7.9630383320491|\n",
      "|    min|                0|\n",
      "|    max|              500|\n",
      "+-------+-----------------+\n",
      "\n",
      "None\n"
     ]
    }
   ],
   "source": [
    "#description after the replacement\n",
    "print(df09.select('totalspageviews').describe().show())"
   ]
  },
  {
   "cell_type": "markdown",
   "metadata": {},
   "source": [
    "## Feature: totalssessionQualityDim\n",
    "### df09 before this step \n",
    "<br />333031 Nulls in totalssessionQualityDim\n",
    "<br />Replace all Nulls with average \n",
    "<br />https://www.optimizesmart.com/understanding-session-quality-data-and-report-in-google-analytics/\n",
    "<br />This is a metric that was calcualted by google analytics for web usage, it could serve as a aggregated stat for all the web usage matrix"
   ]
  },
  {
   "cell_type": "code",
   "execution_count": 43,
   "metadata": {},
   "outputs": [
    {
     "name": "stdout",
     "output_type": "stream",
     "text": [
      "333031\n",
      "+-----------------------+------+\n",
      "|totalssessionQualityDim| count|\n",
      "+-----------------------+------+\n",
      "|                   null|717217|\n",
      "|                   null|333031|\n",
      "|                      1|263525|\n",
      "|                      2| 41341|\n",
      "|                      3| 12665|\n",
      "|                      4|  6638|\n",
      "|                      5|  4549|\n",
      "|                      6|  3322|\n",
      "|                      7|  2489|\n",
      "|                      8|  2126|\n",
      "|                      9|  1707|\n",
      "|                     10|  1520|\n",
      "|                     11|  1348|\n",
      "|                     12|  1173|\n",
      "|                     13|  1082|\n",
      "|                     14|   962|\n",
      "|                     15|   885|\n",
      "|                     16|   866|\n",
      "|                     22|   744|\n",
      "|                     19|   736|\n",
      "+-----------------------+------+\n",
      "only showing top 20 rows\n",
      "\n",
      "None\n",
      "+-------+-----------------------+\n",
      "|summary|totalssessionQualityDim|\n",
      "+-------+-----------------------+\n",
      "|  count|                 384186|\n",
      "|   mean|      6.535063745165102|\n",
      "| stddev|     16.139273887979506|\n",
      "|    min|                      1|\n",
      "|    max|                    100|\n",
      "+-------+-----------------------+\n",
      "\n",
      "None\n"
     ]
    }
   ],
   "source": [
    "#feature description \n",
    "print(df09.filter(df09[\"totalssessionQualityDim\"].isNull()).count())\n",
    "print(df09.cube(\"totalssessionQualityDim\").count().sort(desc(\"count\")).show())# total number of rows 717217.\n",
    "print(df09.select('totalssessionQualityDim').describe().show())"
   ]
  },
  {
   "cell_type": "code",
   "execution_count": 44,
   "metadata": {},
   "outputs": [],
   "source": [
    "# Replace Nulls with 6.535063745165102, the average\n",
    "df10 = df09.na.fill({'totalssessionQualityDim': 6.535063745165102})\n",
    "#df10.printSchema()"
   ]
  },
  {
   "cell_type": "code",
   "execution_count": 45,
   "metadata": {},
   "outputs": [
    {
     "name": "stdout",
     "output_type": "stream",
     "text": [
      "0\n",
      "+-------+-----------------------+\n",
      "|summary|totalssessionQualityDim|\n",
      "+-------+-----------------------+\n",
      "|  count|                 717217|\n",
      "|   mean|      6.286613395945718|\n",
      "| stddev|     11.815170812904595|\n",
      "|    min|                      1|\n",
      "|    max|                    100|\n",
      "+-------+-----------------------+\n",
      "\n",
      "None\n"
     ]
    }
   ],
   "source": [
    "#check results\n",
    "print(df10.filter(df10[\"totalssessionQualityDim\"].isNull()).count())\n",
    "#description after the replacement\n",
    "print(df10.select('totalssessionQualityDim').describe().show())"
   ]
  },
  {
   "cell_type": "markdown",
   "metadata": {},
   "source": [
    "## Feature: totalstimeOnSite\n",
    "### Units in Second; Before this step, it's df10\n",
    "<br />totalstimeOnSite, there are 278817 nulls. Here it's more reasonal to assume 0 for Nulls, as there are many people boucing off the sites & there are many technical clithces\n",
    "<br />19017 is the max value, if this is in Seconds, it's 5.28 hours. Otherwise, it's 5 days. It's more rational if the unit is in seconds"
   ]
  },
  {
   "cell_type": "code",
   "execution_count": 46,
   "metadata": {},
   "outputs": [
    {
     "name": "stdout",
     "output_type": "stream",
     "text": [
      "278817\n",
      "+----------------+------+\n",
      "|totalstimeOnSite| count|\n",
      "+----------------+------+\n",
      "|            null|717217|\n",
      "|            null|278817|\n",
      "|               4|  5021|\n",
      "|               5|  4697|\n",
      "|               6|  4672|\n",
      "|              10|  4419|\n",
      "|               9|  4369|\n",
      "|              12|  4363|\n",
      "|              11|  4339|\n",
      "|               7|  4252|\n",
      "|               8|  4246|\n",
      "|              13|  4214|\n",
      "|              14|  4129|\n",
      "|              15|  3951|\n",
      "|               3|  3937|\n",
      "|              17|  3888|\n",
      "|              16|  3883|\n",
      "|              19|  3703|\n",
      "|              18|  3679|\n",
      "|              20|  3532|\n",
      "+----------------+------+\n",
      "only showing top 20 rows\n",
      "\n",
      "None\n",
      "+-------+------------------+\n",
      "|summary|  totalstimeOnSite|\n",
      "+-------+------------------+\n",
      "|  count|            438400|\n",
      "|   mean|270.01987910583944|\n",
      "| stddev|490.17557868806523|\n",
      "|    min|                 1|\n",
      "|    max|             19017|\n",
      "+-------+------------------+\n",
      "\n",
      "None\n"
     ]
    }
   ],
   "source": [
    "#feature description \n",
    "print(df10.filter(df10[\"totalstimeOnSite\"].isNull()).count())\n",
    "print(df10.cube(\"totalstimeOnSite\").count().sort(desc(\"count\")).show())# total number of rows 717217.\n",
    "print(df10.select('totalstimeOnSite').describe().show())"
   ]
  },
  {
   "cell_type": "code",
   "execution_count": 47,
   "metadata": {},
   "outputs": [],
   "source": [
    "# Replace Nulls with 6.535063745165102, the average\n",
    "df11 = df10.na.fill({'totalstimeOnSite': 0})\n",
    "#df11.printSchema()"
   ]
  },
  {
   "cell_type": "code",
   "execution_count": 48,
   "metadata": {},
   "outputs": [
    {
     "name": "stdout",
     "output_type": "stream",
     "text": [
      "0\n",
      "+-------+------------------+\n",
      "|summary|  totalstimeOnSite|\n",
      "+-------+------------------+\n",
      "|  count|            717217|\n",
      "|   mean|165.05006852877162|\n",
      "| stddev|405.20594721375556|\n",
      "|    min|                 0|\n",
      "|    max|             19017|\n",
      "+-------+------------------+\n",
      "\n",
      "None\n"
     ]
    }
   ],
   "source": [
    "#check results\n",
    "print(df11.filter(df11[\"totalstimeOnSite\"].isNull()).count())\n",
    "#description after the replacement\n",
    "print(df11.select('totalstimeOnSite').describe().show())"
   ]
  },
  {
   "cell_type": "markdown",
   "metadata": {},
   "source": [
    "## Feature: totalTransactionRevenue\n",
    "### Before this step, it's df11\n",
    "<br />699559 Nulls, Replace Nulls with 0 "
   ]
  },
  {
   "cell_type": "code",
   "execution_count": 49,
   "metadata": {},
   "outputs": [
    {
     "name": "stdout",
     "output_type": "stream",
     "text": [
      "699559\n",
      "+-----------------------+------+\n",
      "|totalTransactionRevenue| count|\n",
      "+-----------------------+------+\n",
      "|                   null|717217|\n",
      "|                   null|699559|\n",
      "|               24990000|   138|\n",
      "|               23990000|   137|\n",
      "|               22990000|   128|\n",
      "|               21990000|   113|\n",
      "|               25990000|   112|\n",
      "|               20990000|    93|\n",
      "|               19990000|    85|\n",
      "|               26990000|    84|\n",
      "|               18990000|    81|\n",
      "|               27990000|    81|\n",
      "|               28990000|    77|\n",
      "|               17990000|    73|\n",
      "|               16990000|    58|\n",
      "|               45980000|    54|\n",
      "|               29990000|    53|\n",
      "|               44980000|    49|\n",
      "|               40980000|    49|\n",
      "|               20590000|    47|\n",
      "+-----------------------+------+\n",
      "only showing top 20 rows\n",
      "\n",
      "None\n",
      "+-------+-----------------------+\n",
      "|summary|totalTransactionRevenue|\n",
      "+-------+-----------------------+\n",
      "|  count|                  17658|\n",
      "|   mean|   1.4130140446256655E8|\n",
      "| stddev|    6.519318569995728E8|\n",
      "|    min|                1200000|\n",
      "|    max|            47082060000|\n",
      "+-------+-----------------------+\n",
      "\n",
      "None\n"
     ]
    }
   ],
   "source": [
    "#feature description \n",
    "print(df11.filter(df11[\"totalTransactionRevenue\"].isNull()).count())\n",
    "print(df11.cube(\"totalTransactionRevenue\").count().sort(desc(\"count\")).show())# total number of rows 717217.\n",
    "print(df11.select('totalTransactionRevenue').describe().show())"
   ]
  },
  {
   "cell_type": "code",
   "execution_count": 50,
   "metadata": {},
   "outputs": [],
   "source": [
    "# Replace Nulls with 6.535063745165102, the average\n",
    "df12 = df11.na.fill({'totalTransactionRevenue': 0})\n",
    "#df12.printSchema()"
   ]
  },
  {
   "cell_type": "code",
   "execution_count": 51,
   "metadata": {},
   "outputs": [
    {
     "name": "stdout",
     "output_type": "stream",
     "text": [
      "0\n",
      "+-------+-----------------------+\n",
      "|summary|totalTransactionRevenue|\n",
      "+-------+-----------------------+\n",
      "|  count|                 717217|\n",
      "|   mean|      3478863.719069682|\n",
      "| stddev|    1.046079873095143E8|\n",
      "|    min|                      0|\n",
      "|    max|            47082060000|\n",
      "+-------+-----------------------+\n",
      "\n",
      "None\n"
     ]
    }
   ],
   "source": [
    "#check results\n",
    "print(df12.filter(df12[\"totalTransactionRevenue\"].isNull()).count())\n",
    "#description after the replacement\n",
    "print(df12.select('totalTransactionRevenue').describe().show())"
   ]
  },
  {
   "cell_type": "markdown",
   "metadata": {},
   "source": [
    "## Feature: transactionRevenue\n",
    "### Before this step, it's df12\n",
    "<br />699559 Nulls, Replace Nulls with 0 "
   ]
  },
  {
   "cell_type": "code",
   "execution_count": 52,
   "metadata": {},
   "outputs": [
    {
     "name": "stdout",
     "output_type": "stream",
     "text": [
      "699559\n",
      "+------------------+------+\n",
      "|transactionRevenue| count|\n",
      "+------------------+------+\n",
      "|              null|717217|\n",
      "|              null|699559|\n",
      "|          16990000|   281|\n",
      "|          19990000|   240|\n",
      "|          39980000|   214|\n",
      "|          18990000|   213|\n",
      "|          21990000|   204|\n",
      "|          33590000|   200|\n",
      "|          17590000|   185|\n",
      "|          44790000|   182|\n",
      "|          13590000|   177|\n",
      "|          10990000|   155|\n",
      "|          15990000|   151|\n",
      "|          41590000|   148|\n",
      "|          55990000|   147|\n",
      "|          79990000|   147|\n",
      "|          19190000|   144|\n",
      "|          35180000|   114|\n",
      "|          15190000|   113|\n",
      "|          59990000|   112|\n",
      "+------------------+------+\n",
      "only showing top 20 rows\n",
      "\n",
      "None\n",
      "+-------+--------------------+\n",
      "|summary|  transactionRevenue|\n",
      "+-------+--------------------+\n",
      "|  count|               17658|\n",
      "|   mean|1.2446965624646053E8|\n",
      "| stddev|4.2080082907579446E8|\n",
      "|    min|               10000|\n",
      "|    max|         23129500000|\n",
      "+-------+--------------------+\n",
      "\n",
      "None\n"
     ]
    }
   ],
   "source": [
    "#feature description \n",
    "print(df12.filter(df12[\"transactionRevenue\"].isNull()).count())\n",
    "print(df12.cube(\"transactionRevenue\").count().sort(desc(\"count\")).show())# total number of rows 717217.\n",
    "print(df12.select('transactionRevenue').describe().show())"
   ]
  },
  {
   "cell_type": "code",
   "execution_count": 53,
   "metadata": {},
   "outputs": [],
   "source": [
    "# Replace Nulls with 6.535063745165102, the average\n",
    "df13 = df12.na.fill({'transactionRevenue': 0})\n",
    "#df13.printSchema()"
   ]
  },
  {
   "cell_type": "code",
   "execution_count": 54,
   "metadata": {},
   "outputs": [
    {
     "name": "stdout",
     "output_type": "stream",
     "text": [
      "0\n",
      "+-------+-------------------+\n",
      "|summary| transactionRevenue|\n",
      "+-------+-------------------+\n",
      "|  count|             717217|\n",
      "|   mean|   3064463.32142155|\n",
      "| stddev|6.878499867835435E7|\n",
      "|    min|                  0|\n",
      "|    max|        23129500000|\n",
      "+-------+-------------------+\n",
      "\n",
      "None\n"
     ]
    }
   ],
   "source": [
    "#check results\n",
    "print(df13.filter(df13[\"transactionRevenue\"].isNull()).count())\n",
    "#description after the replacement\n",
    "print(df13.select('transactionRevenue').describe().show())"
   ]
  },
  {
   "cell_type": "markdown",
   "metadata": {},
   "source": [
    "## Feature: transactions\n",
    "### Before this step, it's df13\n",
    "<br/>699517 Nulls, Replace Nulls with 0 "
   ]
  },
  {
   "cell_type": "code",
   "execution_count": 55,
   "metadata": {},
   "outputs": [
    {
     "name": "stdout",
     "output_type": "stream",
     "text": [
      "699517\n",
      "+------------+------+\n",
      "|transactions| count|\n",
      "+------------+------+\n",
      "|        null|717217|\n",
      "|        null|699517|\n",
      "|           1| 17238|\n",
      "|           2|   390|\n",
      "|           3|    39|\n",
      "|           4|    11|\n",
      "|           5|     9|\n",
      "|           6|     4|\n",
      "|           7|     3|\n",
      "|           8|     2|\n",
      "|          12|     2|\n",
      "|          25|     1|\n",
      "|          15|     1|\n",
      "+------------+------+\n",
      "\n",
      "None\n",
      "+-------+------------------+\n",
      "|summary|      transactions|\n",
      "+-------+------------------+\n",
      "|  count|             17700|\n",
      "|   mean|1.0366666666666666|\n",
      "| stddev|0.3432415390497413|\n",
      "|    min|                 1|\n",
      "|    max|                25|\n",
      "+-------+------------------+\n",
      "\n",
      "None\n"
     ]
    }
   ],
   "source": [
    "#feature description \n",
    "print(df13.filter(df12[\"transactions\"].isNull()).count())\n",
    "print(df13.cube(\"transactions\").count().sort(desc(\"count\")).show())# total number of rows 717217.\n",
    "print(df13.select('transactions').describe().show())"
   ]
  },
  {
   "cell_type": "code",
   "execution_count": 56,
   "metadata": {},
   "outputs": [],
   "source": [
    "# Replace Nulls with 6.535063745165102, the average\n",
    "df14 = df13.na.fill({'transactions': 0})\n",
    "#df14.printSchema()"
   ]
  },
  {
   "cell_type": "code",
   "execution_count": 57,
   "metadata": {},
   "outputs": [
    {
     "name": "stdout",
     "output_type": "stream",
     "text": [
      "0\n",
      "+-------+-------------------+\n",
      "|summary|       transactions|\n",
      "+-------+-------------------+\n",
      "|  count|             717217|\n",
      "|   mean| 0.0255836099813585|\n",
      "| stddev|0.16963062273722684|\n",
      "|    min|                  0|\n",
      "|    max|                 25|\n",
      "+-------+-------------------+\n",
      "\n",
      "None\n"
     ]
    }
   ],
   "source": [
    "#check results\n",
    "print(df14.filter(df14[\"transactions\"].isNull()).count())\n",
    "#description after the replacement\n",
    "print(df14.select('transactions').describe().show())"
   ]
  },
  {
   "cell_type": "markdown",
   "metadata": {},
   "source": [
    "## Feature: totalsvisits\n",
    "### All entries are 1, the feature is useless\n",
    "Feature Dropped\n",
    "<br/>0 Nulls"
   ]
  },
  {
   "cell_type": "code",
   "execution_count": 58,
   "metadata": {},
   "outputs": [
    {
     "name": "stdout",
     "output_type": "stream",
     "text": [
      "0\n",
      "+------------+------+\n",
      "|totalsvisits| count|\n",
      "+------------+------+\n",
      "|           1|717217|\n",
      "|        null|717217|\n",
      "+------------+------+\n",
      "\n",
      "None\n",
      "+-------+------------+\n",
      "|summary|totalsvisits|\n",
      "+-------+------------+\n",
      "|  count|      717217|\n",
      "|   mean|         1.0|\n",
      "| stddev|         0.0|\n",
      "|    min|           1|\n",
      "|    max|           1|\n",
      "+-------+------------+\n",
      "\n",
      "None\n"
     ]
    }
   ],
   "source": [
    "#feature description \n",
    "print(df14.filter(df14[\"totalsvisits\"].isNull()).count())\n",
    "print(df14.cube(\"totalsvisits\").count().sort(desc(\"count\")).show())# total number of rows 717217.\n",
    "print(df14.select('totalsvisits').describe().show())"
   ]
  },
  {
   "cell_type": "code",
   "execution_count": 59,
   "metadata": {},
   "outputs": [],
   "source": [
    "df14 = df14.drop('totalsvisits')\n",
    "#df14.printSchema()"
   ]
  },
  {
   "cell_type": "markdown",
   "metadata": {},
   "source": [
    "## Feature: adwordsClickInfoisVideoAd\n",
    "### 655472 Nulls. Before this step, it's df14\n",
    "Other entries are false, I.e. these are not clicked through a ad. \n",
    "<br/> We'll asign 1 to Null, 0 to False\n",
    "<br/> "
   ]
  },
  {
   "cell_type": "code",
   "execution_count": 60,
   "metadata": {},
   "outputs": [
    {
     "name": "stdout",
     "output_type": "stream",
     "text": [
      "655472\n",
      "+-------------------------+------+\n",
      "|adwordsClickInfoisVideoAd| count|\n",
      "+-------------------------+------+\n",
      "|                     null|717217|\n",
      "|                     null|655472|\n",
      "|                    false| 61745|\n",
      "+-------------------------+------+\n",
      "\n",
      "None\n"
     ]
    }
   ],
   "source": [
    "#feature description \n",
    "print(df14.filter(df14[\"adwordsClickInfoisVideoAd\"].isNull()).count())\n",
    "print(df14.cube(\"adwordsClickInfoisVideoAd\").count().sort(desc(\"count\")).show())# total number of rows 717217.\n",
    "# print(df14.select('adwordsClickInfoisVideoAd').describe().show())"
   ]
  },
  {
   "cell_type": "code",
   "execution_count": 61,
   "metadata": {},
   "outputs": [],
   "source": [
    "#df14 = df14.na.fill({'adwordsClickInfoisVideoAd': 0})\n",
    "df15 = df14.withColumn(\"NadwordsClickInfoisVideoAd\",fn.when(fn.isnull('adwordsClickInfoisVideoAd'), 0).otherwise(1))\n",
    "df15 = df15.drop('adwordsClickInfoisVideoAd')"
   ]
  },
  {
   "cell_type": "code",
   "execution_count": 62,
   "metadata": {},
   "outputs": [
    {
     "name": "stdout",
     "output_type": "stream",
     "text": [
      "0\n",
      "+-------+--------------------------+\n",
      "|summary|NadwordsClickInfoisVideoAd|\n",
      "+-------+--------------------------+\n",
      "|  count|                    717217|\n",
      "|   mean|       0.08608970506834054|\n",
      "| stddev|        0.2804966620998005|\n",
      "|    min|                         0|\n",
      "|    max|                         1|\n",
      "+-------+--------------------------+\n",
      "\n",
      "None\n",
      "+--------------------------+------+\n",
      "|NadwordsClickInfoisVideoAd| count|\n",
      "+--------------------------+------+\n",
      "|                      null|717217|\n",
      "|                         0|655472|\n",
      "|                         1| 61745|\n",
      "+--------------------------+------+\n",
      "\n",
      "None\n"
     ]
    }
   ],
   "source": [
    "#check results\n",
    "print(df15.filter(df15[\"NadwordsClickInfoisVideoAd\"].isNull()).count())\n",
    "#description after the replacement\n",
    "print(df15.select('NadwordsClickInfoisVideoAd').describe().show())\n",
    "print(df15.cube(\"NadwordsClickInfoisVideoAd\").count().sort(desc(\"count\")).show())# total number of rows 717217."
   ]
  },
  {
   "cell_type": "markdown",
   "metadata": {},
   "source": [
    "## Feature: isTrueDirect\n",
    "### 419509 Nulls. Before this step, it's df15\n",
    "Other entries are false, I.e. these are not clicked through a ad. \n",
    "<br/> We'll asign 0 to Null, 1 to False\n",
    "<br/> This feature is higly correlated with the channel group, because direction was already included\n",
    "https://support.google.com/analytics/answer/3437719?hl=en Same link is posted on both here & google doc"
   ]
  },
  {
   "cell_type": "code",
   "execution_count": 63,
   "metadata": {},
   "outputs": [
    {
     "name": "stdout",
     "output_type": "stream",
     "text": [
      "419509\n",
      "+------------+------+\n",
      "|isTrueDirect| count|\n",
      "+------------+------+\n",
      "|        null|717217|\n",
      "|        null|419509|\n",
      "|        true|297708|\n",
      "+------------+------+\n",
      "\n",
      "None\n"
     ]
    }
   ],
   "source": [
    "#feature description \n",
    "print(df15.filter(df15[\"isTrueDirect\"].isNull()).count())\n",
    "print(df15.cube(\"isTrueDirect\").count().sort(desc(\"count\")).show())# total number of rows 717217.\n",
    "# print(df15.select('isTrueDirect').describe().show())"
   ]
  },
  {
   "cell_type": "code",
   "execution_count": 64,
   "metadata": {},
   "outputs": [],
   "source": [
    "#df16 = df15.na.fill({'isTrueDirect': 0})\n",
    "df16 = df15.withColumn(\"NisTrueDirect\",fn.when(fn.isnull('isTrueDirect'), 0).otherwise(1))\n",
    "df16 = df16.drop('isTrueDirect')"
   ]
  },
  {
   "cell_type": "code",
   "execution_count": 65,
   "metadata": {},
   "outputs": [
    {
     "name": "stdout",
     "output_type": "stream",
     "text": [
      "0\n",
      "+-------------+------+\n",
      "|NisTrueDirect| count|\n",
      "+-------------+------+\n",
      "|         null|717217|\n",
      "|            0|419509|\n",
      "|            1|297708|\n",
      "+-------------+------+\n",
      "\n",
      "None\n"
     ]
    }
   ],
   "source": [
    "#check results\n",
    "print(df16.filter(df16[\"NisTrueDirect\"].isNull()).count())\n",
    "#description after the replacement\n",
    "#print(df16.select('NisTrueDirect').describe().show())\n",
    "print(df16.cube(\"NisTrueDirect\").count().sort(desc(\"count\")).show())# total number of rows 717217."
   ]
  },
  {
   "cell_type": "markdown",
   "metadata": {},
   "source": [
    "## Feature: trafficSourcemedium\n",
    "### 0  Nulls. Before this step, it's df16\n",
    "There are (none) & (not set)\n",
    "<br/> "
   ]
  },
  {
   "cell_type": "code",
   "execution_count": 66,
   "metadata": {},
   "outputs": [
    {
     "name": "stdout",
     "output_type": "stream",
     "text": [
      "0\n",
      "+-------------------+------+\n",
      "|trafficSourcemedium| count|\n",
      "+-------------------+------+\n",
      "|               null|717217|\n",
      "|             (none)|334158|\n",
      "|            organic|236304|\n",
      "|           referral| 72393|\n",
      "|                cpc| 58902|\n",
      "|                cpm|  8372|\n",
      "|          affiliate|  6985|\n",
      "|          (not set)|   103|\n",
      "+-------------------+------+\n",
      "\n",
      "None\n"
     ]
    }
   ],
   "source": [
    "#feature description \n",
    "print(df16.filter(df16[\"trafficSourcemedium\"].isNull()).count())\n",
    "print(df16.cube(\"trafficSourcemedium\").count().sort(desc(\"count\")).show())# total number of rows 717217.\n",
    "# print(df15.select('isTrueDirect').describe().show())"
   ]
  },
  {
   "cell_type": "code",
   "execution_count": 67,
   "metadata": {},
   "outputs": [],
   "source": [
    "df17 = df16.withColumn('NtrafficSourcemedium', fn.when(fn.col('trafficSourcemedium')=='organic', 'organic').\\\n",
    "                                               when(fn.col('trafficSourcemedium')=='referral', 'referral').\\\n",
    "                                               when(fn.col('trafficSourcemedium')=='cpc', 'cpc').\\\n",
    "                                               when(fn.col('trafficSourcemedium')=='cpm', 'cpm').\\\n",
    "                                               when(fn.col('trafficSourcemedium')=='affiliate', 'affiliate').\\\n",
    "                                               otherwise('others')).\\\n",
    "                                               drop('trafficSourcemedium')"
   ]
  },
  {
   "cell_type": "code",
   "execution_count": 68,
   "metadata": {},
   "outputs": [
    {
     "name": "stdout",
     "output_type": "stream",
     "text": [
      "0\n",
      "+--------------------+------+\n",
      "|NtrafficSourcemedium| count|\n",
      "+--------------------+------+\n",
      "|                null|717217|\n",
      "|              others|334261|\n",
      "|             organic|236304|\n",
      "|            referral| 72393|\n",
      "|                 cpc| 58902|\n",
      "|                 cpm|  8372|\n",
      "|           affiliate|  6985|\n",
      "+--------------------+------+\n",
      "\n",
      "None\n"
     ]
    }
   ],
   "source": [
    "#check results\n",
    "print(df17.filter(df17[\"NtrafficSourcemedium\"].isNull()).count())\n",
    "#description after the replacement\n",
    "#print(df16.select('NisTrueDirect').describe().show())\n",
    "print(df17.cube(\"NtrafficSourcemedium\").count().sort(desc(\"count\")).show())# total number of rows 717217."
   ]
  },
  {
   "cell_type": "markdown",
   "metadata": {},
   "source": [
    "## Feature: trafficSourcesource\n",
    "### 0  Nulls. Before this step, it's df17\n",
    "<br/> \n",
    "<br/> "
   ]
  },
  {
   "cell_type": "code",
   "execution_count": 69,
   "metadata": {},
   "outputs": [
    {
     "name": "stdout",
     "output_type": "stream",
     "text": [
      "0\n",
      "+--------------------+------+\n",
      "| trafficSourcesource| count|\n",
      "+--------------------+------+\n",
      "|                null|717217|\n",
      "|            (direct)|334176|\n",
      "|              google|293586|\n",
      "|         youtube.com| 35234|\n",
      "|    sites.google.com|  8152|\n",
      "|analytics.google.com|  7130|\n",
      "|            Partners|  6988|\n",
      "|                 dfa|  6114|\n",
      "|      m.facebook.com|  2751|\n",
      "|          google.com|  2726|\n",
      "|     mail.google.com|  1910|\n",
      "|   groups.google.com|  1822|\n",
      "|          reddit.com|  1726|\n",
      "|                bing|  1711|\n",
      "|siliconvalley.abo...|  1389|\n",
      "|               yahoo|  1214|\n",
      "|googleads.g.doubl...|  1040|\n",
      "|        facebook.com|  1010|\n",
      "|                t.co|   886|\n",
      "|               baidu|   783|\n",
      "+--------------------+------+\n",
      "only showing top 20 rows\n",
      "\n",
      "None\n"
     ]
    }
   ],
   "source": [
    "#feature description \n",
    "print(df17.filter(df17[\"trafficSourcesource\"].isNull()).count())\n",
    "print(df17.cube(\"trafficSourcesource\").count().sort(desc(\"count\")).show())# total number of rows 717217.\n",
    "# print(df15.select('isTrueDirect').describe().show())"
   ]
  },
  {
   "cell_type": "code",
   "execution_count": 70,
   "metadata": {},
   "outputs": [],
   "source": [
    "df18 = df17.withColumn('NtrafficSourcesource', \n",
    "                       fn.when(fn.col('trafficSourcesource')=='google', 'google').\\\n",
    "                          when(fn.col('trafficSourcesource')=='sites.google.com', 'google').\\\n",
    "                          when(fn.col('trafficSourcesource')=='analytics.google.com', 'google').\\\n",
    "                          when(fn.col('trafficSourcesource')=='google.com', 'google').\\\n",
    "                          when(fn.col('trafficSourcesource')=='mail.google.com', 'google').\\\n",
    "                          when(fn.col('trafficSourcesource')=='groups.google.com', 'google').\\\n",
    "                          when(fn.col('trafficSourcesource')=='mail.google.com', 'google').\\\n",
    "                          when(fn.col('trafficSourcesource')=='groups.google.com', 'google').\\\n",
    "                          when(fn.col('trafficSourcesource')=='youtube.com', 'youtube').\\\n",
    "                               otherwise('others')).\\\n",
    "                               drop('trafficSourcemedium')"
   ]
  },
  {
   "cell_type": "code",
   "execution_count": 71,
   "metadata": {},
   "outputs": [
    {
     "name": "stdout",
     "output_type": "stream",
     "text": [
      "0\n",
      "+--------------------+------+\n",
      "|NtrafficSourcesource| count|\n",
      "+--------------------+------+\n",
      "|                null|717217|\n",
      "|              others|366657|\n",
      "|              google|315326|\n",
      "|             youtube| 35234|\n",
      "+--------------------+------+\n",
      "\n",
      "None\n"
     ]
    }
   ],
   "source": [
    "#check results\n",
    "print(df18.filter(df18[\"NtrafficSourcesource\"].isNull()).count())\n",
    "#description after the replacement\n",
    "#print(df16.select('NisTrueDirect').describe().show())\n",
    "print(df18.cube(\"NtrafficSourcesource\").count().sort(desc(\"count\")).show())# total number of rows 717217."
   ]
  },
  {
   "cell_type": "markdown",
   "metadata": {},
   "source": [
    "# df18 is the final dataset after all the adjustment \n",
    "<br/> "
   ]
  },
  {
   "cell_type": "code",
   "execution_count": 72,
   "metadata": {
    "scrolled": true
   },
   "outputs": [
    {
     "name": "stdout",
     "output_type": "stream",
     "text": [
      "root\n",
      " |-- channelGrouping: string (nullable = true)\n",
      " |-- fullVisitorId: decimal(20,0) (nullable = true)\n",
      " |-- visitId: integer (nullable = true)\n",
      " |-- visitNumber: integer (nullable = true)\n",
      " |-- deviceCategory: string (nullable = true)\n",
      " |-- totalshits: integer (nullable = true)\n",
      " |-- totalspageviews: integer (nullable = false)\n",
      " |-- totalssessionQualityDim: integer (nullable = true)\n",
      " |-- totalstimeOnSite: integer (nullable = false)\n",
      " |-- totalTransactionRevenue: long (nullable = false)\n",
      " |-- transactionRevenue: long (nullable = false)\n",
      " |-- transactions: integer (nullable = false)\n",
      " |-- trafficSourcesource: string (nullable = true)\n",
      " |-- Nbrowsers: string (nullable = false)\n",
      " |-- Noperatingsystem: string (nullable = false)\n",
      " |-- Ntotalsbounces: integer (nullable = false)\n",
      " |-- NtotalsnewVisits: integer (nullable = false)\n",
      " |-- NadwordsClickInfoisVideoAd: integer (nullable = false)\n",
      " |-- NisTrueDirect: integer (nullable = false)\n",
      " |-- NtrafficSourcemedium: string (nullable = false)\n",
      " |-- NtrafficSourcesource: string (nullable = false)\n",
      "\n"
     ]
    }
   ],
   "source": [
    "df18.printSchema()"
   ]
  },
  {
   "cell_type": "code",
   "execution_count": 77,
   "metadata": {},
   "outputs": [],
   "source": [
    "df18.toPandas().to_csv('Step02_updated02.csv',header = True)\n",
    "# Output this dataset"
   ]
  }
 ],
 "metadata": {
  "kernelspec": {
   "display_name": "Python 3",
   "language": "python",
   "name": "python3"
  },
  "language_info": {
   "codemirror_mode": {
    "name": "ipython",
    "version": 3
   },
   "file_extension": ".py",
   "mimetype": "text/x-python",
   "name": "python",
   "nbconvert_exporter": "python",
   "pygments_lexer": "ipython3",
   "version": "3.6.8"
  }
 },
 "nbformat": 4,
 "nbformat_minor": 2
}
