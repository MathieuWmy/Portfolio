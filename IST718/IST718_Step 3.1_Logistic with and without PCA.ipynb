{
 "cells": [
  {
   "cell_type": "code",
   "execution_count": 2,
   "metadata": {},
   "outputs": [],
   "source": [
    "import pandas as pd\n",
    "\n",
    "from pyspark.ml import feature\n",
    "from pyspark.ml import clustering\n",
    "from pyspark.ml import Pipeline\n",
    "from pyspark.sql import functions as fn\n",
    "import numpy as np\n",
    "from pyspark.sql import SparkSession\n",
    "from pyspark.ml import feature, regression, evaluation, Pipeline\n",
    "from pyspark.sql import functions as fn, Row\n",
    "import matplotlib.pyplot as plt\n",
    "spark = SparkSession.builder.getOrCreate()\n",
    "sc = spark.sparkContext\n",
    "from pyspark.ml.classification import LogisticRegression\n",
    "\n",
    "from pyspark.ml.feature import VectorAssembler\n",
    "from pyspark.ml.classification import LogisticRegression, RandomForestClassifier\n",
    "from pyspark.ml import Pipeline\n",
    "import pandas as pd\n",
    "from pyspark.ml.evaluation import BinaryClassificationEvaluator\n",
    "import numpy as np\n",
    "from sklearn.model_selection import train_test_split\n",
    "import pandas as pd\n",
    "import numpy as np\n",
    "from sklearn.model_selection import train_test_split\n",
    "from imblearn.over_sampling import SMOTE"
   ]
  },
  {
   "cell_type": "code",
   "execution_count": 3,
   "metadata": {},
   "outputs": [
    {
     "name": "stderr",
     "output_type": "stream",
     "text": [
      "/anaconda3/lib/python3.6/site-packages/IPython/core/interactiveshell.py:3049: DtypeWarning: Columns (1) have mixed types. Specify dtype option on import or set low_memory=False.\n",
      "  interactivity=interactivity, compiler=compiler, result=result)\n"
     ]
    }
   ],
   "source": [
    "df = pd.read_csv('Step02_updated02.csv',sep = ',')"
   ]
  },
  {
   "cell_type": "code",
   "execution_count": 5,
   "metadata": {},
   "outputs": [
    {
     "data": {
      "text/plain": [
       "(717217, 22)"
      ]
     },
     "execution_count": 5,
     "metadata": {},
     "output_type": "execute_result"
    }
   ],
   "source": [
    "df.shape"
   ]
  },
  {
   "cell_type": "code",
   "execution_count": 3,
   "metadata": {
    "scrolled": true
   },
   "outputs": [],
   "source": [
    "# Since all the features of logistic model should be numerical, we need to convert the categorical variables to dummy variables\n",
    "\n",
    "# Extract the numeracial variables first\n",
    "num_df = df[['visitNumber','totalshits','totalspageviews','totalssessionQualityDim','totalstimeOnSite','totalTransactionRevenue']]\n"
   ]
  },
  {
   "cell_type": "code",
   "execution_count": 4,
   "metadata": {},
   "outputs": [],
   "source": [
    "# Extract the categorical variables \n",
    "dummy_df = df[['channelGrouping','deviceCategory','isMobile','Nbrowsers','Noperatingsystem','NtrafficSourcemedium',\\\n",
    "              'NtrafficSourcesource']]"
   ]
  },
  {
   "cell_type": "code",
   "execution_count": 5,
   "metadata": {
    "scrolled": true
   },
   "outputs": [
    {
     "name": "stderr",
     "output_type": "stream",
     "text": [
      "/anaconda3/lib/python3.6/site-packages/ipykernel_launcher.py:3: SettingWithCopyWarning: \n",
      "A value is trying to be set on a copy of a slice from a DataFrame.\n",
      "Try using .loc[row_indexer,col_indexer] = value instead\n",
      "\n",
      "See the caveats in the documentation: http://pandas.pydata.org/pandas-docs/stable/indexing.html#indexing-view-versus-copy\n",
      "  This is separate from the ipykernel package so we can avoid doing imports until\n"
     ]
    }
   ],
   "source": [
    "# Convert the categorical variables to dummy variable\n",
    "for i in dummy_df.columns:\n",
    "     for elem in dummy_df[i].unique():\n",
    "        dummy_df[str(elem)] = dummy_df[i] == elem\n"
   ]
  },
  {
   "cell_type": "code",
   "execution_count": 6,
   "metadata": {},
   "outputs": [],
   "source": [
    "dummy_df = dummy_df[dummy_df.columns[7:]]"
   ]
  },
  {
   "cell_type": "code",
   "execution_count": 7,
   "metadata": {},
   "outputs": [],
   "source": [
    "# Change the column names of dummy variables\n",
    "dummy_df.columns = ['channelGrouping = Referral', 'channelGrouping = Direct','channelGrouping = Organic Search ',\\\n",
    "                'channelGrouping = Paid Search','channelGrouping = Display','channelGrouping = Social','channelGrouping = Affiliates',\\\n",
    "                'channelGrouping = (Other)','deviceCategory = desktop', 'deviceCategory = mobile','deviceCategory = tablet',\\\n",
    "                'isMobile = False','isMobile = True', 'Nbrowsers = Chrome','Nbrowsers = Safari','Nbrowsers = others',\\\n",
    "                 'Noperatingsystem = Android','Noperatingsystem = Macintosh','Noperatingsystem = iOS','Noperatingsystem = Windows',\\\n",
    "                'NtrafficSourcemedium =referral', 'NtrafficSourcemedium = organic','NtrafficSourcemedium = cpc ', 'NtrafficSourcemedium = cpm',\\\n",
    "                'NtrafficSourcemedium = affiliate','NtrafficSourcesource = google','NtrafficSourcesource = youtube']"
   ]
  },
  {
   "cell_type": "code",
   "execution_count": 8,
   "metadata": {},
   "outputs": [],
   "source": [
    "# Reorder the dummy variables\n",
    "dummy_df = dummy_df[['channelGrouping = Referral', 'channelGrouping = Direct',\n",
    "       'channelGrouping = Organic Search ', 'channelGrouping = Paid Search',\n",
    "       'channelGrouping = Display', 'channelGrouping = Social',\n",
    "       'channelGrouping = Affiliates',\n",
    "       'deviceCategory = desktop', 'deviceCategory = mobile','isMobile = True',\n",
    "       'Nbrowsers = Chrome', 'Nbrowsers = Safari', 'Nbrowsers = others',\n",
    "       'Noperatingsystem = Android', 'Noperatingsystem = Macintosh',\n",
    "       'Noperatingsystem = iOS', 'Noperatingsystem = Windows',\n",
    "       'NtrafficSourcemedium =referral', 'NtrafficSourcemedium = organic',\n",
    "       'NtrafficSourcemedium = cpc ', 'NtrafficSourcemedium = cpm',\n",
    "       'NtrafficSourcemedium = affiliate', 'NtrafficSourcesource = google',\n",
    "       'NtrafficSourcesource = youtube']]"
   ]
  },
  {
   "cell_type": "code",
   "execution_count": 9,
   "metadata": {},
   "outputs": [],
   "source": [
    "# There are also 4 varibles that are already converted to dummy variable during the feature engineering process\n",
    "already_dummy_df = df[['Ntotalsbounces','NtotalsnewVisits','NadwordsClickInfoisVideoAd','NisTrueDirect']]"
   ]
  },
  {
   "cell_type": "code",
   "execution_count": 10,
   "metadata": {},
   "outputs": [],
   "source": [
    "# combine the numerical, dummy, and already dummy variables together\n",
    "cleaned_dummy_df = [dummy_df,already_dummy_df,num_df]\n",
    "cleaned_dummy_df = pd.concat(cleaned_dummy_df,axis = 1, sort =False)"
   ]
  },
  {
   "cell_type": "code",
   "execution_count": 11,
   "metadata": {},
   "outputs": [],
   "source": [
    "pca_df = cleaned_dummy_df"
   ]
  },
  {
   "cell_type": "code",
   "execution_count": 12,
   "metadata": {},
   "outputs": [],
   "source": [
    "# Convert the label to dummy variable\n",
    "pca_df.loc[pca_df[\"totalTransactionRevenue\"]==0,\"totalTransactionRevenue\"] = 0\n",
    "pca_df.loc[pca_df[\"totalTransactionRevenue\"]!=0,\"totalTransactionRevenue\"] = 1"
   ]
  },
  {
   "cell_type": "code",
   "execution_count": 76,
   "metadata": {},
   "outputs": [
    {
     "data": {
      "text/html": [
       "<div>\n",
       "<style scoped>\n",
       "    .dataframe tbody tr th:only-of-type {\n",
       "        vertical-align: middle;\n",
       "    }\n",
       "\n",
       "    .dataframe tbody tr th {\n",
       "        vertical-align: top;\n",
       "    }\n",
       "\n",
       "    .dataframe thead th {\n",
       "        text-align: right;\n",
       "    }\n",
       "</style>\n",
       "<table border=\"1\" class=\"dataframe\">\n",
       "  <thead>\n",
       "    <tr style=\"text-align: right;\">\n",
       "      <th></th>\n",
       "      <th>channelGrouping = Referral</th>\n",
       "      <th>channelGrouping = Direct</th>\n",
       "      <th>channelGrouping = Organic Search</th>\n",
       "      <th>channelGrouping = Paid Search</th>\n",
       "      <th>channelGrouping = Display</th>\n",
       "      <th>channelGrouping = Social</th>\n",
       "      <th>channelGrouping = Affiliates</th>\n",
       "      <th>deviceCategory = desktop</th>\n",
       "      <th>deviceCategory = mobile</th>\n",
       "      <th>isMobile = True</th>\n",
       "      <th>...</th>\n",
       "      <th>Ntotalsbounces</th>\n",
       "      <th>NtotalsnewVisits</th>\n",
       "      <th>NadwordsClickInfoisVideoAd</th>\n",
       "      <th>NisTrueDirect</th>\n",
       "      <th>visitNumber</th>\n",
       "      <th>totalshits</th>\n",
       "      <th>totalspageviews</th>\n",
       "      <th>totalssessionQualityDim</th>\n",
       "      <th>totalstimeOnSite</th>\n",
       "      <th>totalTransactionRevenue</th>\n",
       "    </tr>\n",
       "  </thead>\n",
       "  <tbody>\n",
       "    <tr>\n",
       "      <th>1</th>\n",
       "      <td>False</td>\n",
       "      <td>True</td>\n",
       "      <td>False</td>\n",
       "      <td>False</td>\n",
       "      <td>False</td>\n",
       "      <td>False</td>\n",
       "      <td>False</td>\n",
       "      <td>False</td>\n",
       "      <td>True</td>\n",
       "      <td>True</td>\n",
       "      <td>...</td>\n",
       "      <td>0</td>\n",
       "      <td>1</td>\n",
       "      <td>0</td>\n",
       "      <td>1</td>\n",
       "      <td>1</td>\n",
       "      <td>2</td>\n",
       "      <td>2</td>\n",
       "      <td>1</td>\n",
       "      <td>38</td>\n",
       "      <td>0</td>\n",
       "    </tr>\n",
       "  </tbody>\n",
       "</table>\n",
       "<p>1 rows × 34 columns</p>\n",
       "</div>"
      ],
      "text/plain": [
       "   channelGrouping = Referral  channelGrouping = Direct  \\\n",
       "1                       False                      True   \n",
       "\n",
       "   channelGrouping = Organic Search   channelGrouping = Paid Search  \\\n",
       "1                              False                          False   \n",
       "\n",
       "   channelGrouping = Display  channelGrouping = Social  \\\n",
       "1                      False                     False   \n",
       "\n",
       "   channelGrouping = Affiliates  deviceCategory = desktop  \\\n",
       "1                         False                     False   \n",
       "\n",
       "   deviceCategory = mobile  isMobile = True  ...  Ntotalsbounces  \\\n",
       "1                     True             True  ...               0   \n",
       "\n",
       "   NtotalsnewVisits  NadwordsClickInfoisVideoAd  NisTrueDirect  visitNumber  \\\n",
       "1                 1                           0              1            1   \n",
       "\n",
       "   totalshits  totalspageviews  totalssessionQualityDim  totalstimeOnSite  \\\n",
       "1           2                2                        1                38   \n",
       "\n",
       "   totalTransactionRevenue  \n",
       "1                        0  \n",
       "\n",
       "[1 rows x 34 columns]"
      ]
     },
     "execution_count": 76,
     "metadata": {},
     "output_type": "execute_result"
    }
   ],
   "source": [
    "pca_df.iloc[1:2]"
   ]
  },
  {
   "cell_type": "markdown",
   "metadata": {},
   "source": [
    "## Load cleaned dataset to spark"
   ]
  },
  {
   "cell_type": "code",
   "execution_count": 13,
   "metadata": {
    "scrolled": true
   },
   "outputs": [],
   "source": [
    "pca_spark_df = spark.createDataFrame(pca_df)"
   ]
  },
  {
   "cell_type": "code",
   "execution_count": 20,
   "metadata": {},
   "outputs": [],
   "source": [
    "training_df, validation_df, testing_df = pca_spark_df.randomSplit([0.6, 0.3, 0.1], seed=0)"
   ]
  },
  {
   "cell_type": "markdown",
   "metadata": {},
   "source": [
    "## oversample the training data"
   ]
  },
  {
   "cell_type": "code",
   "execution_count": 21,
   "metadata": {},
   "outputs": [],
   "source": [
    "training_df = training_df.toPandas()"
   ]
  },
  {
   "cell_type": "code",
   "execution_count": 22,
   "metadata": {},
   "outputs": [
    {
     "data": {
      "text/plain": [
       "numpy.bool_"
      ]
     },
     "execution_count": 22,
     "metadata": {},
     "output_type": "execute_result"
    }
   ],
   "source": [
    "type(training_df['channelGrouping = Referral'][0])"
   ]
  },
  {
   "cell_type": "code",
   "execution_count": 23,
   "metadata": {},
   "outputs": [],
   "source": [
    "x_train = training_df.iloc[:,:-1]"
   ]
  },
  {
   "cell_type": "code",
   "execution_count": 24,
   "metadata": {},
   "outputs": [],
   "source": [
    "y_train = training_df.iloc[:,-1]"
   ]
  },
  {
   "cell_type": "code",
   "execution_count": 25,
   "metadata": {},
   "outputs": [],
   "source": [
    "sm = SMOTE(random_state=0, ratio = 1.0)\n",
    "x_train_res, y_train_res = sm.fit_sample(x_train, y_train)"
   ]
  },
  {
   "cell_type": "code",
   "execution_count": 26,
   "metadata": {},
   "outputs": [],
   "source": [
    "colnames=pca_df.columns[:-1]"
   ]
  },
  {
   "cell_type": "code",
   "execution_count": 27,
   "metadata": {},
   "outputs": [
    {
     "data": {
      "text/plain": [
       "Index(['totalTransactionRevenue'], dtype='object')"
      ]
     },
     "execution_count": 27,
     "metadata": {},
     "output_type": "execute_result"
    }
   ],
   "source": [
    "pd.Index(['totalTransactionRevenue'],\n",
    "      dtype='object')"
   ]
  },
  {
   "cell_type": "code",
   "execution_count": 28,
   "metadata": {},
   "outputs": [],
   "source": [
    "dataset = pd.DataFrame(x_train_res,columns=colnames)"
   ]
  },
  {
   "cell_type": "code",
   "execution_count": 29,
   "metadata": {},
   "outputs": [],
   "source": [
    "lableset=pd.DataFrame(y_train_res,columns=pd.Index(['totalTransactionRevenue'],\n",
    "      dtype='object'))"
   ]
  },
  {
   "cell_type": "code",
   "execution_count": 30,
   "metadata": {},
   "outputs": [],
   "source": [
    "frames=[dataset,lableset]"
   ]
  },
  {
   "cell_type": "code",
   "execution_count": 31,
   "metadata": {
    "scrolled": true
   },
   "outputs": [],
   "source": [
    "training_df=pd.concat(frames,axis=1)"
   ]
  },
  {
   "cell_type": "code",
   "execution_count": 32,
   "metadata": {
    "scrolled": true
   },
   "outputs": [
    {
     "data": {
      "text/plain": [
       "34"
      ]
     },
     "execution_count": 32,
     "metadata": {},
     "output_type": "execute_result"
    }
   ],
   "source": [
    "len(training_df.columns)"
   ]
  },
  {
   "cell_type": "code",
   "execution_count": 33,
   "metadata": {
    "scrolled": true
   },
   "outputs": [],
   "source": [
    "training_df = training_df.round(0)"
   ]
  },
  {
   "cell_type": "code",
   "execution_count": 34,
   "metadata": {
    "scrolled": true
   },
   "outputs": [],
   "source": [
    "training_df = training_df.astype(int)"
   ]
  },
  {
   "cell_type": "code",
   "execution_count": 35,
   "metadata": {},
   "outputs": [],
   "source": [
    "training_df = spark.createDataFrame(training_df)"
   ]
  },
  {
   "cell_type": "code",
   "execution_count": null,
   "metadata": {},
   "outputs": [],
   "source": []
  },
  {
   "cell_type": "markdown",
   "metadata": {},
   "source": [
    "## Train the model with and without PCA"
   ]
  },
  {
   "cell_type": "code",
   "execution_count": 41,
   "metadata": {},
   "outputs": [],
   "source": [
    "# logistic model with pca where number of components = 2\n",
    "pipeline_pca = Pipeline(stages=[\n",
    "    feature.VectorAssembler(inputCols=pca_spark_df.columns[:-1],\n",
    "                           outputCol='features'),\n",
    "    feature.StandardScaler(withMean=True,\n",
    "                           inputCol='features', outputCol='zfeatures'\n",
    "                          ),\n",
    "    feature.PCA(k=2, inputCol='zfeatures', outputCol='loadings')\n",
    "]).fit(pca_spark_df)"
   ]
  },
  {
   "cell_type": "code",
   "execution_count": 42,
   "metadata": {},
   "outputs": [],
   "source": [
    "# logistic model without pca\n",
    "pipeline_no_pca = Pipeline(stages=[\n",
    "    feature.VectorAssembler(inputCols=pca_spark_df.columns[:-1],\n",
    "                           outputCol='features'),\n",
    "    feature.StandardScaler(withMean=True,\n",
    "                           inputCol='features', outputCol='zfeatures'\n",
    "                          )\n",
    "]).fit(pca_spark_df)"
   ]
  },
  {
   "cell_type": "code",
   "execution_count": 38,
   "metadata": {},
   "outputs": [],
   "source": [
    "lr = LogisticRegression().setLabelCol('totalTransactionRevenue').setFeaturesCol('loadings')\n",
    "lr_no_pca = LogisticRegression().setLabelCol('totalTransactionRevenue').setFeaturesCol('zfeatures')"
   ]
  },
  {
   "cell_type": "code",
   "execution_count": 74,
   "metadata": {},
   "outputs": [],
   "source": [
    "lr1_pipeline = Pipeline(stages=[pipeline_pca, lr]).fit(training_df)\n",
    "lr_pipeline_nopca = Pipeline(stages=[pipeline_no_pca, lr_no_pca]).fit(training_df)\n",
    "\n"
   ]
  },
  {
   "cell_type": "markdown",
   "metadata": {},
   "source": [
    "## Cross Validation"
   ]
  },
  {
   "cell_type": "code",
   "execution_count": 44,
   "metadata": {},
   "outputs": [],
   "source": [
    "original = validation_df.select('totalTransactionRevenue').toPandas()"
   ]
  },
  {
   "cell_type": "code",
   "execution_count": 45,
   "metadata": {},
   "outputs": [],
   "source": [
    "# Define the function of which the input is the model's pipeline, and it returns the F1 score\n",
    "def F1_score_cv(pipeline):\n",
    "    prediction = pipeline.transform(validation_df).select('prediction').toPandas()\n",
    "    prediction = prediction.astype('int')\n",
    "    combine = pd.concat([prediction,original], axis = 1)\n",
    "    df_confusion = pd.crosstab(original['totalTransactionRevenue'],prediction['prediction'])\n",
    "    precision = df_confusion[1][1]/(df_confusion[1][1]+df_confusion[1][0])\n",
    "    recall = df_confusion[1][1]/(df_confusion[1][1] + df_confusion[0][1])\n",
    "    F1 = 2 * (precision * recall) / (precision + recall)\n",
    "    return F1"
   ]
  },
  {
   "cell_type": "code",
   "execution_count": 58,
   "metadata": {},
   "outputs": [],
   "source": [
    "# Define the function which returns the confusion matrix\n",
    "def CM_cv(pipeline):\n",
    "    prediction = pipeline.transform(validation_df).select('prediction').toPandas()\n",
    "    prediction = prediction.astype('int')\n",
    "    combine = pd.concat([prediction,original], axis = 1)\n",
    "    df_confusion = pd.crosstab(original['totalTransactionRevenue'],prediction['prediction'])\n",
    "    precision = df_confusion[1][1]/(df_confusion[1][1]+df_confusion[1][0])\n",
    "    recall = df_confusion[1][1]/(df_confusion[1][1] + df_confusion[0][1])\n",
    "    F1 = 2 * (precision * recall) / (precision + recall)\n",
    "    return df_confusion"
   ]
  },
  {
   "cell_type": "code",
   "execution_count": 59,
   "metadata": {},
   "outputs": [
    {
     "data": {
      "text/html": [
       "<div>\n",
       "<style scoped>\n",
       "    .dataframe tbody tr th:only-of-type {\n",
       "        vertical-align: middle;\n",
       "    }\n",
       "\n",
       "    .dataframe tbody tr th {\n",
       "        vertical-align: top;\n",
       "    }\n",
       "\n",
       "    .dataframe thead th {\n",
       "        text-align: right;\n",
       "    }\n",
       "</style>\n",
       "<table border=\"1\" class=\"dataframe\">\n",
       "  <thead>\n",
       "    <tr style=\"text-align: right;\">\n",
       "      <th>prediction</th>\n",
       "      <th>0</th>\n",
       "      <th>1</th>\n",
       "    </tr>\n",
       "    <tr>\n",
       "      <th>totalTransactionRevenue</th>\n",
       "      <th></th>\n",
       "      <th></th>\n",
       "    </tr>\n",
       "  </thead>\n",
       "  <tbody>\n",
       "    <tr>\n",
       "      <th>0</th>\n",
       "      <td>193765</td>\n",
       "      <td>15795</td>\n",
       "    </tr>\n",
       "    <tr>\n",
       "      <th>1</th>\n",
       "      <td>406</td>\n",
       "      <td>4830</td>\n",
       "    </tr>\n",
       "  </tbody>\n",
       "</table>\n",
       "</div>"
      ],
      "text/plain": [
       "prediction                    0      1\n",
       "totalTransactionRevenue               \n",
       "0                        193765  15795\n",
       "1                           406   4830"
      ]
     },
     "execution_count": 59,
     "metadata": {},
     "output_type": "execute_result"
    }
   ],
   "source": [
    "CM_cv(lr_pipeline_nopca)"
   ]
  },
  {
   "cell_type": "code",
   "execution_count": 51,
   "metadata": {},
   "outputs": [],
   "source": [
    "# Set the number of components as 1,4,7,11,...31, and build 11 models with these 11 different PCA parameters.\n",
    "# calculate the F1 scores and AUC of these 11 models and append them to a list\n",
    "\n",
    "auc_validation = []\n",
    "f1_validation = []\n",
    "for i in np.linspace(1,31,11, endpoint = True):\n",
    "    pipeline_pca_cv = Pipeline(stages=[\n",
    "        feature.VectorAssembler(inputCols=pca_spark_df.columns[:-1],\n",
    "                               outputCol='features'),\n",
    "        feature.StandardScaler(withMean=True,\n",
    "                               inputCol='features', outputCol='zfeatures'\n",
    "                              ),\n",
    "        feature.PCA(k=i, inputCol='zfeatures', outputCol='loadings')\n",
    "    ]).fit(pca_spark_df)\n",
    "    lr_cv = LogisticRegression().setLabelCol('totalTransactionRevenue').setFeaturesCol('loadings')\n",
    "    lr_pipeline_cv = Pipeline(stages=[pipeline_pca_cv, lr_cv]).fit(training_df)\n",
    "    auc_cv = AUC_cv(lr_pipeline_cv)\n",
    "    f1_cv = F1_score_cv(lr_pipeline_cv)\n",
    "    auc_validation.append(auc_cv)\n",
    "    f1_validation.append(f1_cv)"
   ]
  },
  {
   "cell_type": "code",
   "execution_count": 53,
   "metadata": {},
   "outputs": [
    {
     "data": {
      "image/png": "[encoded data removed]",
      "text/plain": [
       "<Figure size 432x288 with 1 Axes>"
      ]
     },
     "metadata": {
      "needs_background": "light"
     },
     "output_type": "display_data"
    }
   ],
   "source": [
    "# plot the AUCs of the 11 different models. But since the baseline is very biased, comparing the AUC is not a good evaluation method.\n",
    "from matplotlib.legend_handler import HandlerLine2D\n",
    "line_auc = plt.plot(np.linspace(1,31,11, endpoint = True), auc_validation, 'b', label='Validation AUC')\n",
    "\n",
    "plt.ylabel('AUC score')\n",
    "plt.xlabel('n_components')\n",
    "plt.show()"
   ]
  },
  {
   "cell_type": "code",
   "execution_count": 54,
   "metadata": {
    "scrolled": false
   },
   "outputs": [
    {
     "data": {
      "image/png": "[encoded data removed]",
      "text/plain": [
       "<Figure size 432x288 with 1 Axes>"
      ]
     },
     "metadata": {
      "needs_background": "light"
     },
     "output_type": "display_data"
    }
   ],
   "source": [
    "# plot the F1 scores of the 11 different models.\n",
    "f = plt.figure()\n",
    "plt.plot(np.linspace(1,31,11, endpoint = True), f1_validation, 'b', label='Validation f1')\n",
    "\n",
    "plt.ylabel('f1 score')\n",
    "plt.xlabel('n_components')\n",
    "plt.show()\n",
    "\n",
    "f.savefig('1.pdf')\n"
   ]
  },
  {
   "cell_type": "markdown",
   "metadata": {},
   "source": [
    "## Apply PCA with 33 components logistic model to validation data to see the explained variance"
   ]
  },
  {
   "cell_type": "code",
   "execution_count": 38,
   "metadata": {},
   "outputs": [],
   "source": [
    "pipeline_pca_33 = Pipeline(stages=[\n",
    "    feature.VectorAssembler(inputCols=pca_spark_df.columns[:-1],\n",
    "                           outputCol='features'),\n",
    "    feature.StandardScaler(withMean=True,\n",
    "                           inputCol='features', outputCol='zfeatures'\n",
    "                          ),\n",
    "    feature.PCA(k=33, inputCol='zfeatures', outputCol='loadings')\n",
    "]).fit(pca_spark_df)"
   ]
  },
  {
   "cell_type": "code",
   "execution_count": 39,
   "metadata": {},
   "outputs": [],
   "source": [
    "lr_pipeline_33 = Pipeline(stages=[pipeline_pca_34, lr]).fit(training_df)\n"
   ]
  },
  {
   "cell_type": "code",
   "execution_count": 40,
   "metadata": {},
   "outputs": [],
   "source": [
    "explainedVariance = pipeline_pca_34.stages[-1].explainedVariance.toArray()"
   ]
  },
  {
   "cell_type": "code",
   "execution_count": 54,
   "metadata": {},
   "outputs": [
    {
     "data": {
      "text/plain": [
       "array([ 1,  2,  3,  4,  5,  6,  7,  8,  9, 10, 11, 12, 13, 14, 15, 16, 17,\n",
       "       18, 19, 20, 21, 22, 23, 24, 25, 26, 27, 28, 29, 30, 31, 32, 33])"
      ]
     },
     "execution_count": 54,
     "metadata": {},
     "output_type": "execute_result"
    }
   ],
   "source": [
    "np.arange(1,34)"
   ]
  },
  {
   "cell_type": "code",
   "execution_count": 55,
   "metadata": {},
   "outputs": [
    {
     "data": {
      "text/plain": [
       "<BarContainer object of 33 artists>"
      ]
     },
     "execution_count": 55,
     "metadata": {},
     "output_type": "execute_result"
    },
    {
     "data": {
      "image/png": "[encoded data removed]",
      "text/plain": [
       "<Figure size 432x288 with 1 Axes>"
      ]
     },
     "metadata": {
      "needs_background": "light"
     },
     "output_type": "display_data"
    }
   ],
   "source": [
    "x = np.arange(1,34)\n",
    "plt.bar(x,explainedVariance)"
   ]
  },
  {
   "cell_type": "markdown",
   "metadata": {},
   "source": [
    "## Apply non-pca model to testing data"
   ]
  },
  {
   "cell_type": "code",
   "execution_count": 46,
   "metadata": {},
   "outputs": [],
   "source": [
    "# test data's label list\n",
    "original_test = testing_df.select('totalTransactionRevenue').toPandas()"
   ]
  },
  {
   "cell_type": "code",
   "execution_count": 47,
   "metadata": {},
   "outputs": [],
   "source": [
    "# test data's prediction list\n",
    "prediction_nopca = lr_pipeline_nopca.transform(testing_df)"
   ]
  },
  {
   "cell_type": "code",
   "execution_count": null,
   "metadata": {},
   "outputs": [],
   "source": [
    "\n",
    "predicted_result = prediction_nopca.select('prediction').toPandas()\n",
    "predicted_result = predicted_result.astype('int')\n",
    "combine = pd.concat([predicted_result,original_test], axis = 1)\n",
    "df_confusion_test = pd.crosstab(original_test['totalTransactionRevenue'],predicted_result['prediction'])\n",
    "precision = df_confusion_test[1][1]/(df_confusion_test[1][1]+df_confusion_test[1][0])\n",
    "recall = df_confusion_test[1][1]/(df_confusion_test[1][1] + df_confusion_test[0][1])\n",
    "F1 = 2 * (precision * recall) / (precision + recall)\n"
   ]
  },
  {
   "cell_type": "code",
   "execution_count": null,
   "metadata": {},
   "outputs": [],
   "source": [
    "df_confusion_test"
   ]
  },
  {
   "cell_type": "code",
   "execution_count": null,
   "metadata": {},
   "outputs": [],
   "source": [
    "F1"
   ]
  },
  {
   "cell_type": "code",
   "execution_count": null,
   "metadata": {},
   "outputs": [],
   "source": []
  },
  {
   "cell_type": "markdown",
   "metadata": {},
   "source": [
    "### Apply PCA with 25 components logistic model to testing data"
   ]
  },
  {
   "cell_type": "code",
   "execution_count": 64,
   "metadata": {},
   "outputs": [],
   "source": [
    "pipeline_pca_25 = Pipeline(stages=[\n",
    "    feature.VectorAssembler(inputCols=pca_spark_df.columns[:-1],\n",
    "                           outputCol='features'),\n",
    "    feature.StandardScaler(withMean=True,\n",
    "                           inputCol='features', outputCol='zfeatures'\n",
    "                          ),\n",
    "    feature.PCA(k=25, inputCol='zfeatures', outputCol='loadings')\n",
    "]).fit(pca_spark_df)"
   ]
  },
  {
   "cell_type": "code",
   "execution_count": 65,
   "metadata": {},
   "outputs": [],
   "source": [
    "test_pipeline = Pipeline(stages=[pipeline_pca_25, lr]).fit(training_df)"
   ]
  },
  {
   "cell_type": "code",
   "execution_count": 66,
   "metadata": {},
   "outputs": [],
   "source": [
    "prediction_pca_25 = test_pipeline.transform(testing_df)"
   ]
  },
  {
   "cell_type": "code",
   "execution_count": 67,
   "metadata": {},
   "outputs": [],
   "source": [
    "AUC_testing_pca_25 = evaluator.evaluate(prediction_pca_25)"
   ]
  },
  {
   "cell_type": "code",
   "execution_count": 68,
   "metadata": {},
   "outputs": [
    {
     "data": {
      "text/plain": [
       "0.9688749506714862"
      ]
     },
     "execution_count": 68,
     "metadata": {},
     "output_type": "execute_result"
    }
   ],
   "source": [
    "AUC_testing_pca_25"
   ]
  },
  {
   "cell_type": "code",
   "execution_count": 69,
   "metadata": {},
   "outputs": [
    {
     "data": {
      "text/plain": [
       "totalTransactionRevenue    0.975386\n",
       "dtype: float64"
      ]
     },
     "execution_count": 69,
     "metadata": {},
     "output_type": "execute_result"
    }
   ],
   "source": [
    "baseline = 1-((testing_df.select('totalTransactionRevenue').toPandas().sum())/len(testing_df.select('totalTransactionRevenue').toPandas()))\n",
    "baseline\n"
   ]
  },
  {
   "cell_type": "code",
   "execution_count": 70,
   "metadata": {},
   "outputs": [],
   "source": [
    "\n",
    "predicted_result_pca25 = prediction_pca_25.select('prediction').toPandas()\n",
    "predicted_result_pca25 = predicted_result_pca25.astype('int')\n",
    "combine_pca25 = pd.concat([predicted_result_pca25,original_test], axis = 1)\n",
    "df_confusion_pca25 = pd.crosstab(original_test['totalTransactionRevenue'],predicted_result_pca25['prediction'])\n",
    "precision_pca25 = df_confusion_pca25[1][1]/(df_confusion_pca25[1][1]+df_confusion_pca25[1][0])\n",
    "recall_pca25 = df_confusion_pca25[1][1]/(df_confusion_pca25[1][1] + df_confusion_pca25[0][1])\n",
    "F1_pca25 = 2 * (precision_pca25 * recall_pca25) / (precision_pca25 + recall_pca25)\n"
   ]
  },
  {
   "cell_type": "code",
   "execution_count": 71,
   "metadata": {},
   "outputs": [
    {
     "data": {
      "text/html": [
       "<div>\n",
       "<style scoped>\n",
       "    .dataframe tbody tr th:only-of-type {\n",
       "        vertical-align: middle;\n",
       "    }\n",
       "\n",
       "    .dataframe tbody tr th {\n",
       "        vertical-align: top;\n",
       "    }\n",
       "\n",
       "    .dataframe thead th {\n",
       "        text-align: right;\n",
       "    }\n",
       "</style>\n",
       "<table border=\"1\" class=\"dataframe\">\n",
       "  <thead>\n",
       "    <tr style=\"text-align: right;\">\n",
       "      <th>prediction</th>\n",
       "      <th>0</th>\n",
       "      <th>1</th>\n",
       "    </tr>\n",
       "    <tr>\n",
       "      <th>totalTransactionRevenue</th>\n",
       "      <th></th>\n",
       "      <th></th>\n",
       "    </tr>\n",
       "  </thead>\n",
       "  <tbody>\n",
       "    <tr>\n",
       "      <th>0</th>\n",
       "      <td>64806</td>\n",
       "      <td>5296</td>\n",
       "    </tr>\n",
       "    <tr>\n",
       "      <th>1</th>\n",
       "      <td>125</td>\n",
       "      <td>1644</td>\n",
       "    </tr>\n",
       "  </tbody>\n",
       "</table>\n",
       "</div>"
      ],
      "text/plain": [
       "prediction                   0     1\n",
       "totalTransactionRevenue             \n",
       "0                        64806  5296\n",
       "1                          125  1644"
      ]
     },
     "execution_count": 71,
     "metadata": {},
     "output_type": "execute_result"
    }
   ],
   "source": [
    "df_confusion_pca25"
   ]
  },
  {
   "cell_type": "code",
   "execution_count": 72,
   "metadata": {},
   "outputs": [
    {
     "data": {
      "text/plain": [
       "0.3775404753703066"
      ]
     },
     "execution_count": 72,
     "metadata": {},
     "output_type": "execute_result"
    }
   ],
   "source": [
    "F1_pca25"
   ]
  },
  {
   "cell_type": "markdown",
   "metadata": {},
   "source": [
    "## For Demo"
   ]
  },
  {
   "cell_type": "code",
   "execution_count": 50,
   "metadata": {},
   "outputs": [],
   "source": [
    "# set the number of components\n",
    "n_components = 3"
   ]
  },
  {
   "cell_type": "code",
   "execution_count": 51,
   "metadata": {},
   "outputs": [],
   "source": [
    "## \n",
    "\n",
    "pipeline_pca_demo = Pipeline(stages=[\n",
    "    feature.VectorAssembler(inputCols=pca_spark_df.columns[:-1],\n",
    "                           outputCol='features'),\n",
    "    feature.StandardScaler(withMean=True,\n",
    "                           inputCol='features', outputCol='zfeatures'\n",
    "                          ),\n",
    "    feature.PCA(k=n_components, inputCol='zfeatures', outputCol='loadings')\n",
    "]).fit(pca_spark_df)"
   ]
  },
  {
   "cell_type": "code",
   "execution_count": 52,
   "metadata": {},
   "outputs": [],
   "source": [
    "lr_pipeline_demo = Pipeline(stages=[pipeline_pca_demo, lr]).fit(training_df)"
   ]
  },
  {
   "cell_type": "code",
   "execution_count": 53,
   "metadata": {},
   "outputs": [],
   "source": [
    "#test_sample1,test_sample2 = testing_df.randomSplit([0.3,0.7], seed=0)\n"
   ]
  },
  {
   "cell_type": "code",
   "execution_count": 78,
   "metadata": {},
   "outputs": [],
   "source": [
    "file = pd.read_csv('demo_logistic.csv',sep = ',')"
   ]
  },
  {
   "cell_type": "code",
   "execution_count": 83,
   "metadata": {},
   "outputs": [],
   "source": [
    "test_demo = spark.createDataFrame(file)"
   ]
  },
  {
   "cell_type": "code",
   "execution_count": 84,
   "metadata": {},
   "outputs": [],
   "source": [
    "test_sample_dm = test_demo# test_sample1 or test_sample2"
   ]
  },
  {
   "cell_type": "code",
   "execution_count": null,
   "metadata": {},
   "outputs": [],
   "source": []
  },
  {
   "cell_type": "code",
   "execution_count": null,
   "metadata": {},
   "outputs": [],
   "source": []
  },
  {
   "cell_type": "code",
   "execution_count": 85,
   "metadata": {},
   "outputs": [],
   "source": [
    "## choose to fit validation or testing data\n",
    "demo_df = test_sample_dm\n",
    "#original_demo = demo_df.select('totalTransactionRevenue').toPandas()\n"
   ]
  },
  {
   "cell_type": "code",
   "execution_count": 86,
   "metadata": {},
   "outputs": [],
   "source": [
    "prediction = lr_pipeline_demo.transform(demo_df).select('prediction').toPandas()\n",
    "prediction = prediction.astype('int')"
   ]
  },
  {
   "cell_type": "code",
   "execution_count": 87,
   "metadata": {},
   "outputs": [
    {
     "data": {
      "text/html": [
       "<div>\n",
       "<style scoped>\n",
       "    .dataframe tbody tr th:only-of-type {\n",
       "        vertical-align: middle;\n",
       "    }\n",
       "\n",
       "    .dataframe tbody tr th {\n",
       "        vertical-align: top;\n",
       "    }\n",
       "\n",
       "    .dataframe thead th {\n",
       "        text-align: right;\n",
       "    }\n",
       "</style>\n",
       "<table border=\"1\" class=\"dataframe\">\n",
       "  <thead>\n",
       "    <tr style=\"text-align: right;\">\n",
       "      <th></th>\n",
       "      <th>prediction</th>\n",
       "    </tr>\n",
       "  </thead>\n",
       "  <tbody>\n",
       "    <tr>\n",
       "      <th>0</th>\n",
       "      <td>0</td>\n",
       "    </tr>\n",
       "  </tbody>\n",
       "</table>\n",
       "</div>"
      ],
      "text/plain": [
       "   prediction\n",
       "0           0"
      ]
     },
     "execution_count": 87,
     "metadata": {},
     "output_type": "execute_result"
    }
   ],
   "source": [
    "prediction"
   ]
  },
  {
   "cell_type": "code",
   "execution_count": 56,
   "metadata": {},
   "outputs": [
    {
     "data": {
      "text/plain": [
       "0.3429187634795111"
      ]
     },
     "execution_count": 56,
     "metadata": {},
     "output_type": "execute_result"
    }
   ],
   "source": [
    "def F1_score_demo(pipeline):\n",
    "    prediction = pipeline.transform(demo_df).select('prediction').toPandas()\n",
    "    prediction = prediction.astype('int')\n",
    "    combine = pd.concat([prediction,original_demo], axis = 1)\n",
    "    df_confusion = pd.crosstab(original_demo['totalTransactionRevenue'],prediction['prediction'])\n",
    "    precision = df_confusion[1][1]/(df_confusion[1][1]+df_confusion[1][0])\n",
    "    recall = df_confusion[1][1]/(df_confusion[1][1] + df_confusion[0][1])\n",
    "    F1 = 2 * (precision * recall) / (precision + recall)\n",
    "    return F1\n"
   ]
  },
  {
   "cell_type": "code",
   "execution_count": 60,
   "metadata": {},
   "outputs": [],
   "source": [
    "def CM_demo(pipeline):\n",
    "    prediction = pipeline.transform(demo_df).select('prediction').toPandas()\n",
    "    prediction = prediction.astype('int')\n",
    "    combine = pd.concat([prediction,original_demo], axis = 1)\n",
    "    df_confusion = pd.crosstab(original_demo['totalTransactionRevenue'],prediction['prediction'])\n",
    "    precision = df_confusion[1][1]/(df_confusion[1][1]+df_confusion[1][0])\n",
    "    recall = df_confusion[1][1]/(df_confusion[1][1] + df_confusion[0][1])\n",
    "    F1 = 2 * (precision * recall) / (precision + recall)\n",
    "    return df_confusion\n"
   ]
  },
  {
   "cell_type": "code",
   "execution_count": 61,
   "metadata": {},
   "outputs": [
    {
     "data": {
      "text/plain": [
       "0.3429187634795111"
      ]
     },
     "execution_count": 61,
     "metadata": {},
     "output_type": "execute_result"
    }
   ],
   "source": [
    "F1_score_demo(lr_pipeline_demo)"
   ]
  },
  {
   "cell_type": "code",
   "execution_count": 62,
   "metadata": {},
   "outputs": [
    {
     "data": {
      "text/html": [
       "<div>\n",
       "<style scoped>\n",
       "    .dataframe tbody tr th:only-of-type {\n",
       "        vertical-align: middle;\n",
       "    }\n",
       "\n",
       "    .dataframe tbody tr th {\n",
       "        vertical-align: top;\n",
       "    }\n",
       "\n",
       "    .dataframe thead th {\n",
       "        text-align: right;\n",
       "    }\n",
       "</style>\n",
       "<table border=\"1\" class=\"dataframe\">\n",
       "  <thead>\n",
       "    <tr style=\"text-align: right;\">\n",
       "      <th>prediction</th>\n",
       "      <th>0</th>\n",
       "      <th>1</th>\n",
       "    </tr>\n",
       "    <tr>\n",
       "      <th>totalTransactionRevenue</th>\n",
       "      <th></th>\n",
       "      <th></th>\n",
       "    </tr>\n",
       "  </thead>\n",
       "  <tbody>\n",
       "    <tr>\n",
       "      <th>0</th>\n",
       "      <td>19147</td>\n",
       "      <td>1754</td>\n",
       "    </tr>\n",
       "    <tr>\n",
       "      <th>1</th>\n",
       "      <td>74</td>\n",
       "      <td>477</td>\n",
       "    </tr>\n",
       "  </tbody>\n",
       "</table>\n",
       "</div>"
      ],
      "text/plain": [
       "prediction                   0     1\n",
       "totalTransactionRevenue             \n",
       "0                        19147  1754\n",
       "1                           74   477"
      ]
     },
     "execution_count": 62,
     "metadata": {},
     "output_type": "execute_result"
    }
   ],
   "source": [
    "CM_demo(lr_pipeline_demo)"
   ]
  },
  {
   "cell_type": "code",
   "execution_count": null,
   "metadata": {},
   "outputs": [],
   "source": []
  }
 ],
 "metadata": {
  "kernelspec": {
   "display_name": "Python 3",
   "language": "python",
   "name": "python3"
  },
  "language_info": {
   "codemirror_mode": {
    "name": "ipython",
    "version": 3
   },
   "file_extension": ".py",
   "mimetype": "text/x-python",
   "name": "python",
   "nbconvert_exporter": "python",
   "pygments_lexer": "ipython3",
   "version": "3.6.8"
  }
 },
 "nbformat": 4,
 "nbformat_minor": 2
}
