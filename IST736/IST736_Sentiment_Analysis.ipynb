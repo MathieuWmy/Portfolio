{
 "cells": [
  {
   "cell_type": "code",
   "execution_count": 29,
   "metadata": {},
   "outputs": [],
   "source": [
    "import pandas as p\n",
    "train=p.read_csv(\"736project data.tsv\", delimiter='\\t')\n",
    "YS = train.loc[train['Bottle'] == 0]\n",
    "YS_sentiment = YS['Sentiment'].values\n",
    "YS_review = YS['Review'].values\n",
    "Y12 = train.loc[train['Bottle'] == 1]\n",
    "Y12_Pos = Y12.loc[Y12['Sentiment'] ==0]\n",
    "Y12_Pos_review = Y12_Pos['Review'].values\n",
    "Y12_Neg = Y12.loc[Y12['Sentiment'] ==2]\n",
    "Y12_Neg_review = Y12_Neg['Review'].values\n",
    "NB = train.loc[train['Bottle'] == 2]\n",
    "NB_sentiment = NB['Sentiment'].values\n",
    "NB_review = NB['Review'].values"
   ]
  },
  {
   "cell_type": "code",
   "execution_count": 30,
   "metadata": {},
   "outputs": [],
   "source": [
    "Y12_Pos = Y12.loc[Y12['Sentiment'] ==0]\n",
    "Y12_Pos_review = Y12_Pos['Review'].values\n",
    "Y12_Neg = Y12.loc[Y12['Sentiment'] ==2]\n",
    "Y12_Neg_review = Y12_Neg['Review'].values"
   ]
  },
  {
   "cell_type": "code",
   "execution_count": 31,
   "metadata": {},
   "outputs": [],
   "source": [
    "from sklearn.feature_extraction.text import CountVectorizer\n",
    "from sklearn.feature_extraction.text import TfidfVectorizer\n",
    "#  unigram term frequency vectorizer, set minimum document frequency to 5\n",
    "unigram_count_vectorizer = CountVectorizer(encoding='latin-1', binary=False, min_df=2, stop_words='english')"
   ]
  },
  {
   "cell_type": "code",
   "execution_count": 32,
   "metadata": {},
   "outputs": [],
   "source": [
    "Y12_Pos_vec = unigram_count_vectorizer.fit_transform(Y12_Pos_review)\n",
    "Y12_Neg_vec = unigram_count_vectorizer.fit_transform(Y12_Neg_review)"
   ]
  },
  {
   "cell_type": "code",
   "execution_count": 51,
   "metadata": {},
   "outputs": [
    {
     "data": {
      "text/plain": [
       "<1x168 sparse matrix of type '<class 'numpy.int64'>'\n",
       "\twith 4 stored elements in Compressed Sparse Row format>"
      ]
     },
     "execution_count": 51,
     "metadata": {},
     "output_type": "execute_result"
    }
   ],
   "source": []
  },
  {
   "cell_type": "code",
   "execution_count": 34,
   "metadata": {},
   "outputs": [
    {
     "name": "stdout",
     "output_type": "stream",
     "text": [
      "  (0, 51)\t1\n",
      "  (0, 138)\t1\n",
      "  (0, 157)\t1\n",
      "  (0, 10)\t1\n"
     ]
    }
   ],
   "source": [
    "print(Y12_Pos_vec[2])"
   ]
  },
  {
   "cell_type": "code",
   "execution_count": 35,
   "metadata": {
    "scrolled": true
   },
   "outputs": [
    {
     "name": "stdout",
     "output_type": "stream",
     "text": [
      "Requirement already satisfied: wordcloud in /anaconda3/lib/python3.6/site-packages (1.5.0)\n",
      "Requirement already satisfied: pillow in /anaconda3/lib/python3.6/site-packages (from wordcloud) (5.4.1)\n",
      "Requirement already satisfied: numpy>=1.6.1 in /Users/wangminyang/.local/lib/python3.6/site-packages (from wordcloud) (1.16.3)\n",
      "Note: you may need to restart the kernel to use updated packages.\n"
     ]
    }
   ],
   "source": [
    "pip install wordcloud"
   ]
  },
  {
   "cell_type": "code",
   "execution_count": 36,
   "metadata": {},
   "outputs": [],
   "source": [
    "\n",
    "import numpy as np\n",
    "import matplotlib.pyplot as plt\n",
    "from wordcloud import WordCloud"
   ]
  },
  {
   "cell_type": "code",
   "execution_count": 37,
   "metadata": {},
   "outputs": [],
   "source": [
    "wordcloud = WordCloud().generate(Y12_Pos_review[1])"
   ]
  },
  {
   "cell_type": "code",
   "execution_count": 38,
   "metadata": {},
   "outputs": [
    {
     "data": {
      "image/png": "[encoded data removed]",
      "text/plain": [
       "<Figure size 432x288 with 1 Axes>"
      ]
     },
     "metadata": {
      "needs_background": "light"
     },
     "output_type": "display_data"
    }
   ],
   "source": [
    "plt.imshow(wordcloud, interpolation='bilinear')\n",
    "plt.axis(\"off\")\n",
    "plt.show()"
   ]
  },
  {
   "cell_type": "code",
   "execution_count": 39,
   "metadata": {},
   "outputs": [
    {
     "ename": "NameError",
     "evalue": "name 'Y12_review' is not defined",
     "output_type": "error",
     "traceback": [
      "\u001b[0;31m---------------------------------------------------------------------------\u001b[0m",
      "\u001b[0;31mNameError\u001b[0m                                 Traceback (most recent call last)",
      "\u001b[0;32m<ipython-input-39-96473761a236>\u001b[0m in \u001b[0;36m<module>\u001b[0;34m\u001b[0m\n\u001b[1;32m      1\u001b[0m \u001b[0mYS_vec\u001b[0m \u001b[0;34m=\u001b[0m \u001b[0munigram_count_vectorizer\u001b[0m\u001b[0;34m.\u001b[0m\u001b[0mfit_transform\u001b[0m\u001b[0;34m(\u001b[0m\u001b[0mYS_review\u001b[0m\u001b[0;34m)\u001b[0m\u001b[0;34m\u001b[0m\u001b[0;34m\u001b[0m\u001b[0m\n\u001b[0;32m----> 2\u001b[0;31m \u001b[0mY12_vec\u001b[0m \u001b[0;34m=\u001b[0m \u001b[0munigram_count_vectorizer\u001b[0m\u001b[0;34m.\u001b[0m\u001b[0mfit_transform\u001b[0m\u001b[0;34m(\u001b[0m\u001b[0mY12_review\u001b[0m\u001b[0;34m)\u001b[0m\u001b[0;34m\u001b[0m\u001b[0;34m\u001b[0m\u001b[0m\n\u001b[0m\u001b[1;32m      3\u001b[0m \u001b[0mNB_vec\u001b[0m \u001b[0;34m=\u001b[0m \u001b[0munigram_count_vectorizer\u001b[0m\u001b[0;34m.\u001b[0m\u001b[0mfit_transform\u001b[0m\u001b[0;34m(\u001b[0m\u001b[0mNB_review\u001b[0m\u001b[0;34m)\u001b[0m\u001b[0;34m\u001b[0m\u001b[0;34m\u001b[0m\u001b[0m\n",
      "\u001b[0;31mNameError\u001b[0m: name 'Y12_review' is not defined"
     ]
    }
   ],
   "source": [
    "YS_vec = unigram_count_vectorizer.fit_transform(YS_review)\n",
    "Y12_vec = unigram_count_vectorizer.fit_transform(Y12_review)\n",
    "NB_vec = unigram_count_vectorizer.fit_transform(NB_review)"
   ]
  },
  {
   "cell_type": "markdown",
   "metadata": {},
   "source": [
    "# SVMs Yamazaki Sherry 2016 "
   ]
  },
  {
   "cell_type": "markdown",
   "metadata": {},
   "source": [
    "## Uni-gram"
   ]
  },
  {
   "cell_type": "markdown",
   "metadata": {},
   "source": [
    "### feature words"
   ]
  },
  {
   "cell_type": "code",
   "execution_count": 40,
   "metadata": {},
   "outputs": [
    {
     "data": {
      "text/plain": [
       "LinearSVC(C=1, class_weight=None, dual=True, fit_intercept=True,\n",
       "          intercept_scaling=1, loss='squared_hinge', max_iter=1000,\n",
       "          multi_class='ovr', penalty='l2', random_state=None, tol=0.0001,\n",
       "          verbose=0)"
      ]
     },
     "execution_count": 40,
     "metadata": {},
     "output_type": "execute_result"
    }
   ],
   "source": [
    "from sklearn.svm import LinearSVC\n",
    "svm_clf_YS = LinearSVC(C=1)\n",
    "svm_clf_YS.fit(YS_vec,YS_review)"
   ]
  },
  {
   "cell_type": "code",
   "execution_count": 41,
   "metadata": {},
   "outputs": [
    {
     "data": {
      "text/plain": [
       "<115x489 sparse matrix of type '<class 'numpy.int64'>'\n",
       "\twith 2035 stored elements in Compressed Sparse Row format>"
      ]
     },
     "execution_count": 41,
     "metadata": {},
     "output_type": "execute_result"
    }
   ],
   "source": [
    "YS_vec"
   ]
  },
  {
   "cell_type": "code",
   "execution_count": 42,
   "metadata": {},
   "outputs": [
    {
     "data": {
      "text/plain": [
       "array([\"There's not much to say. I've never tasted a whisky like this. To be honest, at first I was skeptical. The nose was familiar, the mouthfeel familiar. The taste familiar. But the finish. Oh. My. God. Not one single whisky I've experienced is even remotely Close to the complexity and longevity of the finish found in this gem. Raisin, chocolate, almond, all working their way from deep at the back of your tongue, and slowly to the front, with a never ending evolution of experience. I count at least 1-2 minutes of altering experiences!I've sadly never owned a bottle, and only experienced it as a single nip. But that nip was heavenly. \",\n",
       "       \"I got a 3cl sample of this and just tried it.  This is so much like Magellan 18 I couldn't believe it!  The Yamazaki 18 is also sherried, but lighter sherry and slightly sweet compared to the Yamazaki Sherry Cask.  The Macallan 18, in comparison, has a deeper sherry flavor, likely due to the fact that it is a true Speyside character to balance.  The Sherry cask has a slightly more complex sherry nuance compared to Macallan 18, but they are so much alike it may be challenging to decipher the two in a blind taste test.I'm glad I had a chance to try it, as the novelty of being best whiskey that year in Murray's whiskey bible.  It is the best example of a sherried whiskey........somewhere between Macallan 18 and Ardbeg Dark Cove (a more heavily sherried islay), more closer to the former than the latter.\",\n",
       "       \"Your'e out of your mind! \", 'Tasty!',\n",
       "       \"This is not whishy. This is a kitsch product for rich idiots. If we got to the point of having to pay 3000 pounds for drink a good whiskey, then it is better not to buy more anything. LiMiTeD eDiTiOn! Please... is just a commercial swindle. Because the suntory don't produce 50000 bottle at a reasonable price instead that only few bottle at shameful price? Even if I had all the money of the world, I do not buy it for 3500€.\",\n",
       "       \"Was recently very fortunate to try a dram of this and there's no doubt it's a cohesive, well balanced, flavorsome expression, packed with depth and complexity...but... stand it up against a Gordon & MacPhail 25 - 30 year old sherry cask Strathisla at less than a sixth of the price and in my humble opinion there can only be one winner, and not only on cost either.Loving your work M of M guys, keep it up.Dave\",\n",
       "       \"Had a full 2oz pour for only $55. Couldn't pass up the  opportunity to try it at my friends bar.Full long lasting rich flavor. Dark Amber in color.And at 48% you get all the powerful flavor with out  intolerable mouth burn.\",\n",
       "       'Bet you guys didn\\'t know the differences between the American release 2016 Sherry Cask and the Japanese release. I have both versions and here are the differences: Yamazaki Sherry Cask 2016 (American Release)      -Larger Bottle (750ml)     -No engravement  on cap saying \"Suntory Single Malt Whisky\"     -Added text including \"Japanese Whisky\" , \"48% Alc/Vol (96 PROOF)\"      -White Panel on back of bottle as opposed to matching beige color on Japanese release     -Slightly Bigger Box / States (Sherry Cask 2016 ) on top of box cap\" Yamazaki Sherry Cask 2016 (Japanese Release)     -Smaller Bottle (700ml)      -No alcohol content display on bottle     -Added Text \"Produced by Suntory\" , \"Product of Japan\"      -Engraved Cap \"Suntory Single Malt Whisky\"      -Smaller Box / only states (Sherry Cask) on top of box capObviously the differences aren\\'t HUGE , but for the price you guys are paying... I want you all to know the exact details of what you are purchasing. The biggest being the bottle size :) Oh and as for the rating ... the whisky is absolutely incredible, probably one of the best drams/bottles you will ever experience !! Easiest 5 star review! Cheers guys! Johnny. B',\n",
       "       'I agree with the last poster, I managed to try some of the 2016 and it was worth every penny.  With only 5000 bottles, I wonder how crazy the price will get for a glass next year....',\n",
       "       'I am very fortunate to obtained 2 bottles of this wonderful sherry juice. Very tasty indeed. Hope everyone have a chance to obtain a sample of this beautifully crafted juice. Good luck!!!',\n",
       "       '£2200 with 4 days to go....https://whisky.auction/auctions/lot/5220Now Looking at the Auction here..  £2600.01 on MoM...  It looks like it will hot £3,000 to £4000It better taste like pure gold ....  If only I had got one of the 90 samples I could have reviewed :( Instead of lending Kanye $1 Billion....  Could someone donate me £3500 for my own bottle of Yamazaki Sherry .... \" I hereby swear not to sell this bottle – but to drink it with my chums. May my taste-buds and olfactory bulb shrivel and die if I should break my word.”Yamazaki party will be announced here if there are any takers .... :)',\n",
       "       'https://whisky.auction/auctions/lot/5220Crazy...  £2000.00 now...  That is an expensive sip...   MOM is a bargain....',\n",
       "       'top 3 of the best whiskies I ever had (so far) ;)',\n",
       "       \"Like the system that you put up to filter out flippers. Would be glad to get a dram even if can't win. Kanpai! \",\n",
       "       'They should do it with all their stock then. Whisky is for drinking right? How dare anyone buy it and keep it.',\n",
       "       'Some set up this not even informed if won or lost out in the earlier lottery plus why damage a good bottle surely the person that wins it still pays the full price it ridiculous to deface such a limited product imagine buy a limited edition pair of trainers or a collectors magazine and writing all over it so thanks to you there is only 4999 limited edition bottles because you have taken it on yourself to intervene in a bit of history ',\n",
       "       'i will gladly take a bottle with the label even scratched off or taken right off so it would be harder to sell....',\n",
       "       'by scribbling that crap across the back of the label you are creating a unique, one off product. Ladies and Gentleman, this is your last chance to buy....The Master of Malt Olfactory Bulb Edition',\n",
       "       'Have been drinking Yam for some time. Got a good collection and now waiting to try the new member Sherry Cask 2016',\n",
       "       'There is always the fear that hype will never live up to expectation. Clever marketing and supply tactics can have the potential to force peoples opinions and overall review. Will this be the case here. A PR win at the expense of dram quality.',\n",
       "       'I am really glad that you are defacing the bottle to put off flippers.',\n",
       "       'I had the opportunity to try a Yamazaki 25y.o. yesterday and I must say it was the best dram I have ever tasted (so far).The rest of the one that tried it agreed. ',\n",
       "       'ONE OF FUSION OF WORLD WISKEY',\n",
       "       'I am really glad that you are defacing the bottle to put off flippers.Pedro ',\n",
       "       'Superb taste', 'Superb ',\n",
       "       'Would love to have a sample of this juice. They did a very fair deal here for everyone and the flipper are completely flipping out.',\n",
       "       'I was so lucky to get hold of a bottle of the 2013 version and I loved it.Now I want to compare the 2016. I can not wait.',\n",
       "       \"Just picked mine up here in 'Merica at retail.  Have fun with the auction ;)\",\n",
       "       'Love it.',\n",
       "       \"Don't know waht to find of it. Did not have the chance to try it. Let me win the sample and i will give you a complete and very detailed review ;-)\",\n",
       "       'good job',\n",
       "       \"So many bell ends having a moan cause they've got nothing better to do. It's a Whisky guys. Get over it. They're doing the right thing and trying to make it fair for everyone. If you can't recognise that then you are actually mental. \",\n",
       "       'Genuinely can\\'t get enough of \"Flippers\" posting angry comments. \"It\\'s simply a disgrace!! I demand that I should have the chance to buy a bottle and make easy money!!\"10/10 for MoM for the handling of these six bottles.  ',\n",
       "       '@@@unscrupulous I do hope you were not making reference to me when you maligned \"these idiots \"I most certainly am not, I absolutely have and will not rise to immature tactics by any retailers .I got my bottle from a legitimate source , you asked me to \"share the love \" I hinted as much as I would be allowed so next time don\\'t ask if you not prepared for the answer.I find this whole nonsense quite amusing certainly helps with tedious daily train journey .',\n",
       "       'Agree MoM lost all credibility as a retailer, behaving very immature .',\n",
       "       \"Send me £180 and I will send you a bottle first thing tomorrow. Surely you believe me, as it's written on the internet.MoM you really are stringing this out for these idiots aren't you? Is this for your own amusement or cheap publicity? (personally I don't care for this bottle, it's one fish in the sea, but my opinion of you as a retailer has sank dramatically for adding to this pathetic fiasco).\",\n",
       "       \"Not sure MoM will allow or be happy Let's  just say a certain retailer in Scotland has received an allocation that has arrived in their warehouse Also there is another online retailer that is expecting some - normal price \",\n",
       "       'Any chance you can share the love and tell us where from?',\n",
       "       'You all need to stop hedging your bets on getting a bottle with MoM - they are just dangling a carrot. Plenty retailers out there still have  bottles. My bottle purchased on Tuesday came from a delightful retailer £180 No gimmicks ,no strings , no empty promises or raising ones hopes .The flippers can only be insiders,ask yourself guys how can some bottles  appear in auction so soon given that you need to have your bottle with them at least 2 weeks in advance, and auction was opened for 2 weeks  thereafter .The bottles sold last week in auction at ridiculous prices Do the maths guys ?  Yamazaki was released 2nd Feb! Bottles are been kept by the retailers / staff, with one or two allocated to the public to keep everyone sweet with false hopes, and creating this ridiculous frenzy,and demeaning the sheer beauty and enjoyment of whisky.',\n",
       "       \"This whisky is very good but not amazing, scores 88 points in my opinion.  Not really worth the price of £200 as you can get some sherried beauties that score 90-95 for this price or less.  As for the second market price - don't even go there.  To the below...........I have tasted this whisky and there are many substitutes, I don't even have time to list them all right now so no need for the love-in with Suntory.  \",\n",
       "       \"there is a reason why this whisky is in high demand, it's not because it's highly rated in some review, it's because if you have tasted this whisky, you will realize that there are absolutely no substitutes. Even if there were, none of you will be posting all these negative remarks and showing how ugly you truly are.Yes, it's uncool for Suntory to make small batches every year, but have you thought that maybe that reason is because they are perfectionist? They won't release mediocre whisky into the market just to make money, especially since their cost price to people like MoM is as per the norm. All I'm saying is, if there's a high demand for a product, be prepared to pay for it, if you can't afford it, go drink something else. If there's a substitute for it, go buy that instead and stop complaining that this is just another overrated whisky. I've tried it and it's the best whisky I've ever tasted. Even if you think I'm wrong, taste is all personal, not general.  Thank you MoM for giving us a chance to own this bottle at a fair price. \",\n",
       "       \"I have plenty of respect for whisky 'drinkers' (although £200 for a NAS is frankly ridiculous). My post called foul on the 'investors', I thought that much was clear? This is the whisky equivalent of all those empty London flats, nothing but safety deposit boxes for the super rich. I have no problem calling this out for what it is. If you get a bottle and drink it, fair play. But whisky should be drunk. I've met Shinji personally and I wonder if it would sadden him that much of this expression, which I'm certain he has invested time and care in, will never be drunk. Investors are a reality of the secondary market but this frenzy is an affront. Sic transit gloria mundi! \",\n",
       "       'Good that everyone gets the opportunity and think great idea. Was incredibly lucky to get a Yamazaki Sherry Cask 2013 which l have ended up sharing with quite a few people so they could all try it. Not one for ever storing anything (except Vintage Port!). Best of luck everyone!',\n",
       "       'The person who has written under the title \"shameless\", well I say shame on you for writing such an aggressive messages.You are obviously aggrieved by the fact you are not going to be the recipient of a bottle - what one chooses to do with their purchase be it a bottle, art,car etc is up to them. If you are old enough to drink Sir then you are old enough to act with some degree of maturity and integrity and respect for fellow whisky drinkers,collectors,investors or whatever it\\'s  quite simply we all have choices In life ,if this is so upsetting to you that you feel the need for such vulgarity of spitting in someone\\'s face ( it\\'s one thing to think such nasty thoughts it\\'s another level to write it )then start drinking something else - may I suggest coke ( tons of it everywhere!) then you will never have the need to whinge,whine,insult and behave like a spoilt brat.',\n",
       "       'Not sure what all the hype is I just got a  bottle  from a retailer no queues no lottery no daft auction no questions and definitely no silly prices - walked in asked payed walked straight out.',\n",
       "       'So this is the logical outcome of \\'premiumisation\\', and the irony is delicious! An unseemly scramble through the slimy detritus of human greed and obsession. £200 for a NAS whisky to be flipped for £2000 and then sat in a display cabinet, never to be drunk, as much use as a pair of deer antlers up on the wall. Yup, this is what it\\'s come to.  I spit in all your shameless faces.The retailers should start selling their wares in unsealed screw cap bottles to ensure the contents are simply drunk. The \"collectors\" (read investors) should take stock of what they\\'re actually doing and accept this is not about whisky, it\\'s just capitalist fetishism.',\n",
       "       \"Kudos to Mr. Don't post it Yet! He has a very unique perspective.  My take is that even if you get a bottle you won't be able to drink it..hahahahaaa..that's the irony. You pay 200gbp or roughly 285 US you'll say to yourself I can pour it down the old flesh tube or make a smart investment decision. Of course the old canary will be in your ear to do the latter and there you have it.  You can take the old bird on a nice date, get a good bottle for your troubles and still have a few left over when its all said and done...bwahhahhaaaahaa\",\n",
       "       \"Mom, the comments below make my day. I read this religiously every day. It is better than a Comedy Show. You got the mad ones, the whiners, the selfish (UK only), the Pros (scotch experts), and the ones who hope to get selected. Hold it for one more month, we need to hear a little more from this very valuable customer, and give me a good reason not to buy it. For 200 pounds, believe me I can choose from better, and don't have to heard my self on the waiting list. Again, don't stop it, this is good, very funny.... \",\n",
       "       'You guys know this right? Hence I really don\\'t think it matters how they choose to sell it, there is little chance anyone will get it at \"retail\" anyway. It\\'s rare and full of hype, so if you want it the chances are small regardless, unless you want to spend an overinflated collectors price.To drink there are plenty probably better if you want to spend 200GBP',\n",
       "       'Tried a sample of this and not worth 200 quid, let alone what the current auction prices are up to.  Save your money and get a decent sherried speysider. ',\n",
       "       \"Last night I red the post from MoM about This incredible product. The odds to get it are pretty low and I'm quite sad about it since I want so badly this bottle.. to celebrate the birth of my son which will happen the next days... However I really want to congratulate with the MoM chaps to have chosen a fair, intelligent and ethical method to allocate this amazing whisky. Your post shows clearly how You took seriously all comments for your customer and the dedication to this business for you and a passion for me. I'm constantly buying great products from your website, even if I'm doing that form Italy so with shipping costs and not always a great exchange rate... But all this event about the realese of the Yamazaki sherry cask 2016 and how you managed it raised totally  my loyalty towards this website which will be my most favourite source to purchase whiskys, gins and all Frat thing.. Alessandro\",\n",
       "       '200 bottles allocated to the uk. Population 65million, what are the odds of picking one up for £200. ',\n",
       "       \"pLEASE READ THE BLOG POSTFolks - we've now published a blog post to explain the reasons behind the method of sale here (Drams, Lottery, Auction). If you've got any observations about the method of sale (as opposed to the liquid itself) please head over he\",\n",
       "       \"... is by far the best solution.  Unless you are a flipper in disguise, isn't getting 3cl to enjoy better than getting nothing? This way the most people will get to try it (And it wont be at the mark up to be found in the bars and hotels)\",\n",
       "       'Asking for a friend obviously.  Will you auction them too if they sell out instantly or leave the flippers to auction them instead ?Just lottery it off.  Stop playing with the fire the fire of auctions.',\n",
       "       'MoM have become utter jabronis. It all started with that bastard Whisky Santa. Nearly two months straight of being skunked by that rapscallion was bad enough, but now this? Make the announcement in the morning, release in the afternoon, and be done with it. This is out of control. ',\n",
       "       'Bang. On.',\n",
       "       \"Lottery: fairAuction: unfairI don't see why the first come first served method has changed - seems MoM have shot themselves in the foot with the BTAC release by announcing it a week in advance, allowing thousands of people around the world the time to get ready to crash the site instead of what's happened in the past which is to announce it the morning it goes live instead. Snooze you lose. \",\n",
       "       \"To @whiners: Read the comments you buffoon. Nobody here is moaning about the lottery! We are moaning about the auction!  In fact, nearly everyone is fully in favour of the lottery system!  Please don't comment unless you understand the topic.\",\n",
       "       'Reading some true nonsense in a few of the comments below regarding \"market value\".  Some people saying that if a retailer auctions them then \" The customer pays market price for the whisky\".  Okay, lets assume we should pay \"market price\" ie auction price from an online retailer.  That would be on the assumption that everything is  worth was somebody is willing to pay for them.  I have an idea that would make this suggestion fair across the board...How about the stuff on here that is OVERPRICED, as in over market value, you start auctioning at £0 with no reserve.  Customers can bid what they like and anything that is sold below the recommended retail price, MoM can kindly donate the money to charity.  I\\'m thinking things like Octomore which is on here for over £100 but was way overpriced and can be bought for £50 to £6o at auction.  Sound fair?  Good cause etc etc? No didn\\'t think so...  Just get on with the lottery please! ',\n",
       "       'I agree with one of the comments below, break the seal and let the genuine drinkers acquire a bottle.',\n",
       "       'Are people on this forum aware that Suntory opened a lottery application window for this release for only 2 weeks in January in Japan. Any direct buyers had to apply during those to weeks to be eligible  for the lottery. Why is everyone giving MoM a hard time about a lottery system. Be happy that you can still join the lottery because the window has passed here in Japan.',\n",
       "       \"Tell that to the distillery in Japan that try to inflate their whisky prices globally by using those marketing tactics.@The the comment below!Agreed. Let me add the fact that, If I am not mistaken, when have we ever seen before a whisky go on global sale in the form of lottery? That's most probably a first and from the looks of it, is not going to be the last time. It seems like the Japanese haven't only mastered the art of Karate but other forms of art. Marketing shenanigans 101.Let's also ignore the fact that a whisky product will be sold in the form of an auction on non-auction house whisky website/store.Controversy in the comments section of MoM is not a first either and I am sure they enjoy that each and every time if not nudge it a bit.\",\n",
       "       \"When your customers buy a bottle of whisky from you, it's up to them what they do with it. People have lost hundreds of pounds by putting there bottles into auction and when one bottle comes along which is a sure winner and came make their money back we can't even buy that in the normal way that were used to. The house wins all the time. The house being Master Of Malt.\",\n",
       "       \"What's the matter master of malt? Aren't the rest of your products selling? So you've seen away how one product can cover your costs for the whole year. \",\n",
       "       \"Auctions have their place. I wouldn't even begrudge a speculator grabbing a bottle and flipping it to make a few quid. Free market economy allows us that freedom so we shouldn't bemoan it. Hey, eBay works ok right?That said, an online retailer auctioning product doesn't feel right to me. The charity thing is a red herring and yes, possibly a cyclical publicity stunt to raise profile of business. ALL bottles should be placed in a lottery for registered customers. Those customers pay RRP. Any of those customers want to flip the bottle? Fair play. Their prerogative. \",\n",
       "       \"You forgot to mention the self righteous category that you obviously fall under!  It seems there are some that feel they are in some way above all of this crazy hype over a drink that we clearly wouldn't even know about unless we heard of it through the Whisky Bible.  Of course people are bitter!  The process of getting this probably fantastic product fairly to the market place has been an absolute shambles.  I fail to see how people voicing their concerns automatically places them in one of the three categories below.  Having said that, this is coming from someone who has the time to check in on internet comments on a daily basis for his own personal amusement.  I suggest finding a new hobby to avoid your even sadder existence that awaits you once this listing is over!   \",\n",
       "       'Question to all of you who thinks the bottles only should be sold to UK residents.I understand that you want to keep the bottles to yourself and thereby getting some kind off better oddsof getting one.But what do you think about the countries that dont get any allocation at all? Should they be left outside? The last thing I read was that my country would not have any.I can guarantee that there is 3500 people in Japan (1500 bottles of 5000 to Japan) that thinks that \"their\" Whisky should not be sold outside of Japan.',\n",
       "       \"I'll be sad when this gets listed - I've enjoyed visiting this page each day to catch up on the slew of hilarious posts. There's just such a perfect mix of the overprivileged, the bitter, and the deluded here that hilarity is pretty much guaranteed.\",\n",
       "       \"I think some people might be more annoyed at the returns they wont make more like.  It's already at over £1K on an auction site which doesn't end until the weekend and most of these will just appear on these types of sites within a month. How about MOM break the seal for each bottle and then lottery it off.  This will sort the genuine drinkers from the money makers.Either way - JUST GET ON WITH IT! \",\n",
       "       \"I don't have any issue with either the auction or the raffle. Admittedly I'm not rich enough to win the auction but as for the lottery I'd rather be in with a chance of winning a bottle than having no chance which is where I am currently! It's a tough situation for the retailers as there simply isn't enough to go round but that's true for lots of bottles so I don't see why there is such outrage when there is actually a chance some of the people complaining may actually win a bottle!If I don't win sure I'll be jealous but I'll take the £200 and buy another bottle.I think we should remember that this whole pastime is meant to be fun! And who doesn't get excited at a lottery!\",\n",
       "       'God knows how much the drams are going to sell for if the bottle costs £200+3cl is a measly 3 sips!!',\n",
       "       'I dare say that the price of this during the auction process will well exceed the price of a 30 year old single cask cask bottle of Karuizawa at auction, which at tops only a few hundred bottles are available in the world, hype hype hypeI have even seen a London bar charging £140 for a 50ml measure, you can go to Roka and  a 50ml Karuizawa SherryCask #5347 is £100,.I know what I would choose every day of the week.',\n",
       "       \"Can you just release this whisky already so people can stop complaining. Next time just go to Japan and camp outside the distillery...If Jim Murray didn't write that review half of you wouldn't be here in the first place\",\n",
       "       \"If out of a European allocation of 2000 bottles, 198 are available in the UK, they should really be sold to UK residents. I wouldn't attempt to purchase a bottle from a German/Dutch/French website. If bottles are allocated to a country, they should stay there. Also, auctions are contemptible. \",\n",
       "       'The issue is not charity and donating in general.The issue is (a) by saying proceeds (above RRP) go to charity it automatically implies there\\'s gonna be a bidding war. The price will go way up there where ordinary folks like you and I won\\'t even stand a chance to buy and (b) I think you got it wrong. You say \"MoM give the excess to charity so they\\'re not accused of profiteering.\"Way up there in the page is says - \"(where anything over RRP will be donated to charity)\"Where do you think this \"over RRP\" comes from?Where do you see MoM saying they\\'ll put money from their pocket?It\\'s their customers\\' pocket...Like many people mentioned below. Everyone chooses to donate to the charity of their choice.As for UK addresses I can only assume the comments that oppose to this are from outside the UK? Surely.MoM is UK based and their profits for the most part come from UK customers. Not from international sales.This coupled with the fact that there is only a handful of bottles allocated within the UK (most of which are already reserved for rich clientele and high end bars) I don\\'t see what\\'s unfair about it.If the US gets its allocation of bottles why should a folk from the states have a chance to buy from the UK site? Any UK site for that matter.',\n",
       "       'This is the only honest way of getting to taste this.  What other ways do retailers have of getting this to us drinkers.  If you don’t like it, you have very little choice.Either ignore the hype and sit it out.Wait to see if a bottle arrives on an auction site and put the hammer price in the pocket of the auction site or that of someone looking to make a quick profit.There are plenty of other £200 bottles that may be better.The hype around this is only based on the 2013 bottle and the unusual hype and increasing price of Japan Whisky anyway.I for one want to taste it, purely because I want to see the difference between the bottles I can afford/buy and those that are supposed to the best in the world.  I cant afford a bottle but ill certainly be on the look out for a 3cl sample.Good luck to everyone.',\n",
       "       \"AUCTION PRICE IS NOT RETAIL MARKET PRICE!!!! The market price from a retailer is £200.  Not a penny more!  When will you people learn the difference???  Or perhaps you don't fully understand what they are proposing?  An auction is when people all bid for something.  If the auction price starts at £200, then guess what?  People will have to pay more!!! And lastly THIS IS NOT AN AUCTION SITE!!!  Its a respected online retailer that has been entrusted by multiple brands to adhere to the RETAIL price.  Do you understand yet...\",\n",
       "       \"As for the auction this is a joke.@MoM if you want to donate to charity do it from your own pocket. Don't force it upon your customers.They're not forcing anybody to donate to charity. The customer pays market price for the whisky. MoM give the excess to charity so they're not accused of profiteering. If you don't like it, go and buy your bottle off another online auction so that you're donating to a private individual instead - that's obviously preferable, right?\",\n",
       "       \"To the Gordan Gekko wannaby below.  The Market rate is £200, this is not an auction site!  And Yamazaki do care about this kind of thing!  Any respected retailer has an obligation to adhere to the set retail price.  Retailers that don't stand to risk not getting future allocation.  THAT is the real world. Thats also why in Japan 100% that was retailed was by way of auction!  Nice try at sounding clever though ! \",\n",
       "       \"Eh, the price Yamazaki set does matter!  That's why the set it and trust respected retailers to adhere to them.  That's why 100% of retail sales in Japan were by way of lottery.  Failure to stick to them usually results in future allocation being suspended.  THAT is how the real world works.  Not you're Gordan Gekko fantasy.  But nice try! \",\n",
       "       'To the comments below asking us to stop whining:  \"Money talks\" are you serious?  Who do you think you are Gordan Gekko?  The retail price that Yamazaki set does matter.  It\\'s the true market rate and respected retailers are DUTY bound to adhere to them.  Any that don\\'t should have future allocation blocked.  THAT is how the real world works!  And as for good causes etc Give me a break.  I walked 970 miles in 35 degree heat last year for charity.  Three years before that I did the West Highland Way.  I also pay online to WWF.  I don\\'t need dictated too by anyone else about giving to some unspecified charity when making an online purchase! The lottery system is fair (that\\'s how 100% was allocated by retailers in Japan) the rest is a farce!  Glad MoM are half seeing sense.  Hope the rest get their knuckles rapped by Yamazaki for the utter shambles that has unfolded these last few weeks... ',\n",
       "       \"I'm out, so one less to  concern for the lottery/auction . To those who care, scotch come from Scotland, and there is a great variety,  for a great price. If you complaint so bad,  is over price, etc., don’t buy it. UK customers Only, RELLY, you must be a JOKE, can be take your comment for real. Master of Malt sales to the word, NOT JUST TO UK. One more thing, you complainers want to buy that bottle so bad...\",\n",
       "       \"Seriously most of you sound like spoiled children. Splitting allocation between a charity (supporting worthwhile causes) and a lottery is fair and equitable. You guys clearly haven't seen how many other retailers have just instantly started selling their stock for double, triple, even 10x the recommended retail price. Well done to MoM for their model. (Just wish they'd hurry up with it! Surely they have the stock now.)Also for those saying this should be UK only - haha. MoM are a well-respected International retailer and would lose a lot of credibility doing so.\",\n",
       "       \"Life's not fair. Get over yourselves everyone.So much whining and whingeing, some people on here sound like complete BABIES.  Mummy, I didn't get what I wanted today. Waaaahhhhhhh!!Listen to yourselves.  All this rubbish about rich people getting priority.  That's LIFE.  Money talks guys, if you want this bottle you gonna pay the market rate which has absolutely nothing to do with whatever release price Yamazaki have decieded on.\",\n",
       "       'This way everyone can get a taste and lock out all the secondary market punters!',\n",
       "       \"The problem is with Japanese Whisky in general. Prices have skyrocketed  in recent years.As good as Japanese Whisky might be it is certainly not worth £200 a bottle let alone $2500.This is purely marketing shenanigans to create artificial demand.Of course all retailers outside Japan are willing to indulge...and jump on the bandwagon.I hope buyers will wake up and sabotage any brand or retailer that manipulates prices like that.Having said that, the sale here should be restricted to UK residents only.As for the auction this is a joke.@MoM if you want to donate to charity do it from your own pocket. Don't force it upon your customers.\",\n",
       "       \"After the BTAC fiasco last year, there's no perfect way of allocating these highly sought after bottles, and while it pains me to see UK retailers following the American lottery system, I think this is the best way to allocate bottles, and I commend MoM for taking this step. Having said that, I agree entirely with the comment below - please MoM, if at all possible under EU trade laws restrict the lottery to UK buyers only. There is a huge amount of global demand for this whisky and as one of the most acclaimed online retailers in the world, there will be a huge interest for places in the lottery from all corners of the globe. If I had to guess, I think there will be less than 10 bottles available to the general public to buy in the UK once VIP customers, bars and hotels have received their priority allocation, and if this is the case, I think wherever possible, UK retailers should try to ensure British customers are given priority over international customers.\",\n",
       "       \"As their are only 198 bottles expected to come into the UK and 2 of the main suppliers have already allocated all of their stock to their VIP customers.  I can't see there being more than 50 bottles left for your average drinker, with some being auctioned off to people with the deepest pockets there will only be a handful of regular people who manage to get one. \",\n",
       "       'Just hope for a lucky day!',\n",
       "       'Auctioning is all that is wrong with the whisky world at the moment.Crack all the seals and then only the drinkers will be interested not the profiteers.',\n",
       "       \"'You can please some of the people all of the time and all of the people some of the time but you can't please all of the people all of the time'?\",\n",
       "       'I am happy with this system, seems fair, just hope for a lucky day!',\n",
       "       \"Harvey Nicks...  Pre sold to the VIPSThis is not correct, I am not a V.I.P and Harvey Nichols in London have confirmed they are selling from a list but that list is on a 'first come first served basis', they have stated I'm number 2 on  it so we will see, they have still not received stock  and as of 12/02/16 state the way they are selling it is still from the list although this has now grown to over 50.\",\n",
       "       'I think a lottery is fair and good practice. The auction idea despite the profits going for charity seems not fair as whisky fans who are being continuously  out marked by people with deep pocket.',\n",
       "       \"Lottery..... I agree. Auction.... disgrace! Yes it's for charity, but you're going to push the average joe's chances of ever getting a bottle to almost nil. I give to charity on a monthly basis and choose to do so, but this should not be forced upon us. I expected better from Master of Malt.\",\n",
       "       \"The only thing really correct for a trader in this situation is the 'principle' of equality of its customers. (No discrimination on the basis of their pocket depth.) For this reason I recommend you:1. to keep  stopped the price ($ 300);2. to enable all interested customers to join the lottery;3. To whom will be drawn you will give the opportunity to buy the bottle at its real price ($ 300). Without any increase.I am sure it is the only successful way, and, at the same time, I'm sure this way will eliminate our negative comments about the auction solution. \",\n",
       "       'Those who have tasted it says is not as good as the version 2013. Too taste of tomato. Do we need to make pizza? No. Rather, I would pay $ 1,000 less for the King  Yamazaki Sherry Cask 2013. -1 participant to this unhappy auction... ',\n",
       "       'Yes....we all know it is going to be a good bottle. Yes it will become an instant collectors piece. If it means THAT much for you to have it... purchase it at Dekantä for a $3600 price tag. If you use their 10% coupon code it comes out to $3060. Even tho it is a crazy makeup price, wait till you see what it hits in the future. Or take your chances here..... Good luck everyone! Btw for that price point , I would rather commit to a Port Ellen that will be gone forever with a few more batches.Johnny ',\n",
       "       'After the BTC debacle, kudos for trying a lottery.  I commend your efforts to give more people a fair shot at this release.',\n",
       "       'it all favours the rich',\n",
       "       'Harvey Nicks... Pre sold to the VIPSSelfridges... Pre  Sold to VIPSHarrods... Pre Sold to VIPSWhisky Exchange... To quote them.... \"We know nothing\"Vintage House .... Pre sold to VIPS......Master of Malt... Auction????  Reallly????This is a complete shambles for all involved from Maxxium to the Retailers...  Great job!!!!',\n",
       "       'Why dont MoM split the seals of most bottles so the drink will be shared amongst friends; and keep the auctioned ones intact. You will be increasing the potential value for investors, raise more money for charity and create enjoyment by allowing the drinkers more chance of a tot. Collectors like me will just have to hope the UK is given a slightly larger allocation in the next release...',\n",
       "       'I am afraid that selling these bottles by auction simply fuels the hysteria over Japanese whisky at the present time and surely the producers view on the appropriate price should be respected. Lottery would be sufficient to ensure fairness.',\n",
       "       'In the not to distant past, I purchased Yamazaki Sherry 2009 purchased in Hong Kong for $93 USD, 2010 version purchased in Japan 112 USD. I have contacted 11 stores throughout the US, no luck. Probably already sent to the auction block. I thought of entering this lottery, but decided to pass let some of my UK friends get a chance to win.  Early reviews say its just as mind blowing as the 2013 release!',\n",
       "       'I\\'ve been refreshing this site several time an hour for the last few days and on a few of those occasions I saw the price MoM is going to sell this bottle for. I called them directly thinking maybe there was a glitch on my side and the bottle had been put up for sale yet I could only see the \"coming soon!\" While I don\\'t agree 100% on the auction, I\\'m ok with it because at least MoM isn\\'t jacking up the price like one retailer I found in Japan who at least as of 3 days ago had a few bottles in stock and was selling each bottle for $3,600! I even emailed them to confirm the price. Their response was, \"yes we are selling it for $3,600 American dollars. This is our Marketing cost and know people way pay it for such a rare and highly sought out bottle\" that online Co is dekanta',\n",
       "       'Lottery yes, first come first serve yes, but auction is just playing into the whole marketing hype and inflating the price for no reason. If Suntory has suggested a retail price of $300/£200 then stick to it. The auction will only serve to fuel the secondary market for those buying this for speculative reasons & \"investment\". I beg you to make the right choice here.',\n",
       "       'I agree with the others in the comments, the auction does nothing for a majority of those here, only the ones with the most money. Fail.',\n",
       "       \"It's bad enough that thanks to the ramblings of a certain panama-hatted, self-proclaimed whisky expert, we're forced to enter a sodding lottery to buy a bottle of whisky, but to put some up for auction is frankly embarrassing. I can only echo the sentiments of other commenters who made the valid point that such an auction is only for those with more money than sense, and it shouldn't be down to an online retailer to decide if we wish to give to charity; it smacks of a publicity stunt. I give to charity on my own terms, and not when I'm making a normal online purchase. \",\n",
       "       'Agree with others here.. Just stick to it being a lottery. You\\'re only allowing person with most money to buy the bottle otherwise..As someone else suggested, charge a nominal £1 to enter.. Also, consider restricting to existing customers and not newly opened accounts.. That way, it stops multiple entries, and goes to existing, loyal M0M customers. You could just create a stock item that\\'s \"1 per customer\", that once purchased if your entry..',\n",
       "       \"Should lotto all of them off so everyone has an equal chance or people that want to enter the lottery pay £1 entry for the chance and that money goes to the charities that means people who's pockets aren't as deep have the same chance.\",\n",
       "       'I agree, the lottery system is very fair considering the limited amount of bottles produced, and the number of people that want them. But I do not agree with the auction, as previously stated, it will only help the ones with deep pockets.......',\n",
       "       \"I agree that the lottery system is the fairest way, but certainly not the auction!  Firstly, like a lot of people, I give to charity already, and secondly it just means those with the most money will get the bottles.  I'm positive that's not what Yamazaki would have wanted or envisioned for this whisky.\",\n",
       "       'Fair play to you. This is a great way of allocating bottles. '],\n",
       "      dtype=object)"
      ]
     },
     "execution_count": 42,
     "metadata": {},
     "output_type": "execute_result"
    }
   ],
   "source": [
    "YS_review"
   ]
  },
  {
   "cell_type": "code",
   "execution_count": 43,
   "metadata": {
    "scrolled": true
   },
   "outputs": [
    {
     "name": "stdout",
     "output_type": "stream",
     "text": [
      "Yamazaki Sherry Cask 2016 positive feature words\n",
      "(1.734723475976807e-18, 'allocation')\n",
      "(1.734723475976807e-18, 'purchase')\n",
      "(1.734723475976807e-18, 'yes')\n",
      "(0.24256056635334766, 'people')\n",
      "(0.3576064766389474, 'time')\n",
      "Yamazaki Sherry Cask 2016 neutral feature words\n",
      "(0.1352126287063558, 'bars')\n",
      "(0.1352126287063558, 'enjoy')\n",
      "(0.1352126287063558, 'hotels')\n",
      "(0.1352126287063558, 'isn')\n",
      "(0.21612957545261097, 'getting')\n",
      "Yamazaki Sherry Cask 2016 negative feature words\n",
      "(0.08630816395984256, 'bottles')\n",
      "(0.1377489900079599, 'uk')\n",
      "(0.23432965878106854, 'allocated')\n",
      "(0.32110361007845223, 'odds')\n",
      "(0.46867264746908666, '200')\n"
     ]
    }
   ],
   "source": [
    "\n",
    "\n",
    "pos_feature_ranks = sorted(zip(svm_clf_YS.coef_[0], unigram_count_vectorizer.get_feature_names()))\n",
    "Yamazaki_Sherry_Positive_10 = pos_feature_ranks[-5:]\n",
    "print(\"Yamazaki Sherry Cask 2016 positive feature words\")\n",
    "for i in range(0, len(Yamazaki_Sherry_Positive_10)):\n",
    "    print(Yamazaki_Sherry_Positive_10[i])\n",
    "    \n",
    "neu_feature_ranks = sorted(zip(svm_clf_YS.coef_[1], unigram_count_vectorizer.get_feature_names()))\n",
    "Yamazaki_Sherry_neutral_10 = neu_feature_ranks[-5:]\n",
    "print(\"Yamazaki Sherry Cask 2016 neutral feature words\")\n",
    "for i in range(0, len(Yamazaki_Sherry_neutral_10)):\n",
    "    print(Yamazaki_Sherry_neutral_10[i])\n",
    "    \n",
    "\n",
    "\n",
    "neg_feature_ranks = sorted(zip(svm_clf_YS.coef_[2], unigram_count_vectorizer.get_feature_names()))\n",
    "Yamazaki_Sherry_negative_10 = neg_feature_ranks[-5:]\n",
    "print(\"Yamazaki Sherry Cask 2016 negative feature words\")\n",
    "for i in range(0, len(Yamazaki_Sherry_negative_10)):\n",
    "    print(Yamazaki_Sherry_negative_10[i])\n"
   ]
  },
  {
   "cell_type": "markdown",
   "metadata": {},
   "source": [
    "### sentiment prediction"
   ]
  },
  {
   "cell_type": "code",
   "execution_count": 54,
   "metadata": {},
   "outputs": [],
   "source": [
    "from sklearn.model_selection import train_test_split\n",
    "X_train, X_test, y_train, y_test = train_test_split(YS_review, YS_sentiment, test_size=0.4, random_state=0)\n"
   ]
  },
  {
   "cell_type": "code",
   "execution_count": 55,
   "metadata": {},
   "outputs": [],
   "source": [
    "X_train_vec = unigram_count_vectorizer.fit_transform(X_train)\n",
    "X_test_vec = unigram_count_vectorizer.transform(X_test)"
   ]
  },
  {
   "cell_type": "code",
   "execution_count": 52,
   "metadata": {},
   "outputs": [
    {
     "data": {
      "text/plain": [
       "array([2, 1, 1, 2, 0, 2, 1, 0, 2, 1, 1, 1, 1, 1, 0, 1, 1, 1, 1, 1, 1, 2,\n",
       "       1, 1, 0, 1, 1, 2, 2, 1, 1, 2, 1, 1, 0, 2, 1, 1, 1, 2, 1, 1, 2, 2,\n",
       "       1, 0, 1, 1, 2, 2, 1, 1, 1, 2, 0, 2, 1, 1, 1, 1, 1, 1, 0, 1, 1, 2,\n",
       "       1, 1, 1])"
      ]
     },
     "execution_count": 52,
     "metadata": {},
     "output_type": "execute_result"
    }
   ],
   "source": [
    "y_train"
   ]
  },
  {
   "cell_type": "code",
   "execution_count": 53,
   "metadata": {},
   "outputs": [
    {
     "data": {
      "text/plain": [
       "<69x312 sparse matrix of type '<class 'numpy.int64'>'\n",
       "\twith 1167 stored elements in Compressed Sparse Row format>"
      ]
     },
     "execution_count": 53,
     "metadata": {},
     "output_type": "execute_result"
    }
   ],
   "source": [
    "X_train_vec"
   ]
  },
  {
   "cell_type": "code",
   "execution_count": 46,
   "metadata": {},
   "outputs": [
    {
     "data": {
      "text/plain": [
       "LinearSVC(C=1, class_weight=None, dual=True, fit_intercept=True,\n",
       "          intercept_scaling=1, loss='squared_hinge', max_iter=1000,\n",
       "          multi_class='ovr', penalty='l2', random_state=None, tol=0.0001,\n",
       "          verbose=0)"
      ]
     },
     "execution_count": 46,
     "metadata": {},
     "output_type": "execute_result"
    }
   ],
   "source": [
    "from sklearn.svm import LinearSVC\n",
    "svm_clf = LinearSVC(C=1)\n",
    "svm_clf.fit(X_train_vec,y_train)"
   ]
  },
  {
   "cell_type": "code",
   "execution_count": 47,
   "metadata": {},
   "outputs": [
    {
     "data": {
      "text/plain": [
       "<69x312 sparse matrix of type '<class 'numpy.int64'>'\n",
       "\twith 1167 stored elements in Compressed Sparse Row format>"
      ]
     },
     "execution_count": 47,
     "metadata": {},
     "output_type": "execute_result"
    }
   ],
   "source": [
    "X_train_vec"
   ]
  },
  {
   "cell_type": "code",
   "execution_count": 153,
   "metadata": {},
   "outputs": [
    {
     "data": {
      "text/plain": [
       "0.45652173913043476"
      ]
     },
     "execution_count": 153,
     "metadata": {},
     "output_type": "execute_result"
    }
   ],
   "source": [
    "svm_clf.score(X_test_vec,y_test)"
   ]
  },
  {
   "cell_type": "code",
   "execution_count": 154,
   "metadata": {},
   "outputs": [
    {
     "name": "stdout",
     "output_type": "stream",
     "text": [
      "[[ 5  6  0]\n",
      " [ 5 15  4]\n",
      " [ 2  8  1]]\n",
      "\n",
      "             precision    recall  f1-score   support\n",
      "\n",
      "          0       0.42      0.45      0.43        11\n",
      "          1       0.52      0.62      0.57        24\n",
      "          2       0.20      0.09      0.13        11\n",
      "\n",
      "avg / total       0.42      0.46      0.43        46\n",
      "\n"
     ]
    }
   ],
   "source": [
    "from sklearn.metrics import confusion_matrix\n",
    "y_pred = svm_clf.predict(X_test_vec)\n",
    "cm=confusion_matrix(y_test, y_pred, labels=[0,1,2])\n",
    "print(cm)\n",
    "print()\n",
    "from sklearn.metrics import classification_report\n",
    "target_names = ['0','1','2']\n",
    "print(classification_report(y_test, y_pred, target_names=target_names))"
   ]
  },
  {
   "cell_type": "code",
   "execution_count": null,
   "metadata": {},
   "outputs": [],
   "source": []
  },
  {
   "cell_type": "code",
   "execution_count": 155,
   "metadata": {},
   "outputs": [],
   "source": [
    "from sklearn.model_selection import train_test_split\n",
    "X_train, X_test, y_train, y_test = train_test_split(Y12_review, Y12_sentiment, test_size=0.4, random_state=0)\n",
    "\n",
    "\n",
    "X_train_vec = unigram_count_vectorizer.fit_transform(X_train)\n",
    "X_test_vec = unigram_count_vectorizer.transform(X_test)\n",
    "\n"
   ]
  },
  {
   "cell_type": "code",
   "execution_count": 156,
   "metadata": {},
   "outputs": [
    {
     "name": "stdout",
     "output_type": "stream",
     "text": [
      "[[27  5  1]\n",
      " [ 6  5  1]\n",
      " [ 2  1  1]]\n",
      "\n",
      "             precision    recall  f1-score   support\n",
      "\n",
      "          0       0.77      0.82      0.79        33\n",
      "          1       0.45      0.42      0.43        12\n",
      "          2       0.33      0.25      0.29         4\n",
      "\n",
      "avg / total       0.66      0.67      0.66        49\n",
      "\n"
     ]
    }
   ],
   "source": [
    "from sklearn.svm import LinearSVC\n",
    "svm_clf = LinearSVC(C=1)\n",
    "svm_clf.fit(X_train_vec,y_train)\n",
    "\n",
    "\n",
    "\n"
   ]
  },
  {
   "cell_type": "code",
   "execution_count": 157,
   "metadata": {},
   "outputs": [
    {
     "data": {
      "text/plain": [
       "0.673469387755102"
      ]
     },
     "execution_count": 157,
     "metadata": {},
     "output_type": "execute_result"
    }
   ],
   "source": [
    "svm_clf.score(X_test_vec,y_test)"
   ]
  },
  {
   "cell_type": "code",
   "execution_count": 158,
   "metadata": {},
   "outputs": [
    {
     "name": "stdout",
     "output_type": "stream",
     "text": [
      "[[27  5  1]\n",
      " [ 6  5  1]\n",
      " [ 2  1  1]]\n",
      "\n",
      "             precision    recall  f1-score   support\n",
      "\n",
      "          0       0.77      0.82      0.79        33\n",
      "          1       0.45      0.42      0.43        12\n",
      "          2       0.33      0.25      0.29         4\n",
      "\n",
      "avg / total       0.66      0.67      0.66        49\n",
      "\n"
     ]
    }
   ],
   "source": [
    "from sklearn.metrics import confusion_matrix\n",
    "y_pred = svm_clf.predict(X_test_vec)\n",
    "cm=confusion_matrix(y_test, y_pred, labels=[0,1,2])\n",
    "print(cm)\n",
    "print()\n",
    "from sklearn.metrics import classification_report\n",
    "target_names = ['0','1','2']\n",
    "print(classification_report(y_test, y_pred, target_names=target_names))"
   ]
  },
  {
   "cell_type": "code",
   "execution_count": null,
   "metadata": {},
   "outputs": [],
   "source": []
  },
  {
   "cell_type": "code",
   "execution_count": 140,
   "metadata": {},
   "outputs": [
    {
     "data": {
      "text/plain": [
       "LinearSVC(C=1, class_weight=None, dual=True, fit_intercept=True,\n",
       "     intercept_scaling=1, loss='squared_hinge', max_iter=1000,\n",
       "     multi_class='ovr', penalty='l2', random_state=None, tol=0.0001,\n",
       "     verbose=0)"
      ]
     },
     "execution_count": 140,
     "metadata": {},
     "output_type": "execute_result"
    }
   ],
   "source": [
    "\n",
    "svm_clf_Y12 = LinearSVC(C=1)\n",
    "svm_clf_Y12.fit(Y12_vec,Y12_review)"
   ]
  },
  {
   "cell_type": "code",
   "execution_count": 141,
   "metadata": {
    "scrolled": true
   },
   "outputs": [
    {
     "name": "stdout",
     "output_type": "stream",
     "text": [
      "Yamazaki 12 Year Old positive feature words\n",
      "(0.06280043221667303, 'evident')\n",
      "(0.2952863261647363, 'seconds')\n",
      "(0.38640505846871975, 'didn')\n",
      "(0.43515344850158016, 'pungent')\n",
      "(0.4840857507847187, 'open')\n",
      "Yamazaki 12 Year Old neutral feature words\n",
      "(0.3059864641664776, 'lot')\n",
      "(0.3094776258867953, 'money')\n",
      "(0.3178123284343278, 'shape')\n",
      "(0.37471374236790395, 'came')\n",
      "(0.3800297981873839, 'finish')\n",
      "Yamazaki 12 Year Old negative feature words\n",
      "(0.05259038215208521, 'flavors')\n",
      "(0.06478156551511362, 'months')\n",
      "(0.07066454719164067, 'comes')\n",
      "(0.07248993283968633, 'easily')\n",
      "(0.07248993283968634, 'matured')\n"
     ]
    }
   ],
   "source": [
    "\n",
    "pos_feature_ranks = sorted(zip(svm_clf_Y12.coef_[0], unigram_count_vectorizer.get_feature_names()))\n",
    "Yamazaki_12_Positive_10 = pos_feature_ranks[-5:]\n",
    "print(\"Yamazaki 12 Year Old positive feature words\")\n",
    "for i in range(0, len(Yamazaki_12_Positive_10)):\n",
    "    print(Yamazaki_12_Positive_10[i])\n",
    "\n",
    "neu_feature_ranks = sorted(zip(svm_clf_Y12.coef_[1], unigram_count_vectorizer.get_feature_names()))\n",
    "Yamazaki_12_Neutral_10 = neu_feature_ranks[-5:]\n",
    "print(\"Yamazaki 12 Year Old neutral feature words\")\n",
    "for i in range(0, len(Yamazaki_12_Neutral_10)):\n",
    "    print(Yamazaki_12_Neutral_10[i])\n",
    "\n",
    "neg_feature_ranks = sorted(zip(svm_clf_Y12.coef_[2], unigram_count_vectorizer.get_feature_names()))\n",
    "Yamazaki_12_Negative_10 = neg_feature_ranks[-5:]\n",
    "print(\"Yamazaki 12 Year Old negative feature words\")\n",
    "for i in range(0, len(Yamazaki_12_Negative_10)):\n",
    "    print(Yamazaki_12_Negative_10[i])"
   ]
  },
  {
   "cell_type": "code",
   "execution_count": null,
   "metadata": {},
   "outputs": [],
   "source": []
  },
  {
   "cell_type": "code",
   "execution_count": 160,
   "metadata": {},
   "outputs": [],
   "source": [
    "from sklearn.model_selection import train_test_split\n",
    "X_train, X_test, y_train, y_test = train_test_split(NB_review, NB_sentiment, test_size=0.4, random_state=0)\n",
    "\n",
    "\n",
    "X_train_vec = unigram_count_vectorizer.fit_transform(X_train)\n",
    "X_test_vec = unigram_count_vectorizer.transform(X_test)\n"
   ]
  },
  {
   "cell_type": "code",
   "execution_count": 161,
   "metadata": {},
   "outputs": [
    {
     "data": {
      "text/plain": [
       "LinearSVC(C=1, class_weight=None, dual=True, fit_intercept=True,\n",
       "     intercept_scaling=1, loss='squared_hinge', max_iter=1000,\n",
       "     multi_class='ovr', penalty='l2', random_state=None, tol=0.0001,\n",
       "     verbose=0)"
      ]
     },
     "execution_count": 161,
     "metadata": {},
     "output_type": "execute_result"
    }
   ],
   "source": [
    "from sklearn.svm import LinearSVC\n",
    "svm_clf = LinearSVC(C=1)\n",
    "svm_clf.fit(X_train_vec,y_train)\n"
   ]
  },
  {
   "cell_type": "code",
   "execution_count": 162,
   "metadata": {},
   "outputs": [
    {
     "data": {
      "text/plain": [
       "0.8166666666666667"
      ]
     },
     "execution_count": 162,
     "metadata": {},
     "output_type": "execute_result"
    }
   ],
   "source": [
    "svm_clf.score(X_test_vec,y_test)\n",
    "\n"
   ]
  },
  {
   "cell_type": "code",
   "execution_count": 163,
   "metadata": {},
   "outputs": [
    {
     "name": "stdout",
     "output_type": "stream",
     "text": [
      "[[45  6  0]\n",
      " [ 4  4  0]\n",
      " [ 1  0  0]]\n",
      "\n",
      "             precision    recall  f1-score   support\n",
      "\n",
      "          0       0.90      0.88      0.89        51\n",
      "          1       0.40      0.50      0.44         8\n",
      "          2       0.00      0.00      0.00         1\n",
      "\n",
      "avg / total       0.82      0.82      0.82        60\n",
      "\n"
     ]
    },
    {
     "name": "stderr",
     "output_type": "stream",
     "text": [
      "/anaconda3/lib/python3.7/site-packages/sklearn/metrics/classification.py:1135: UndefinedMetricWarning: Precision and F-score are ill-defined and being set to 0.0 in labels with no predicted samples.\n",
      "  'precision', 'predicted', average, warn_for)\n"
     ]
    }
   ],
   "source": [
    "from sklearn.metrics import confusion_matrix\n",
    "y_pred = svm_clf.predict(X_test_vec)\n",
    "cm=confusion_matrix(y_test, y_pred, labels=[0,1,2])\n",
    "print(cm)\n",
    "print()\n",
    "from sklearn.metrics import classification_report\n",
    "target_names = ['0','1','2']\n",
    "print(classification_report(y_test, y_pred, target_names=target_names))"
   ]
  },
  {
   "cell_type": "code",
   "execution_count": null,
   "metadata": {},
   "outputs": [],
   "source": []
  },
  {
   "cell_type": "code",
   "execution_count": 142,
   "metadata": {},
   "outputs": [
    {
     "data": {
      "text/plain": [
       "LinearSVC(C=1, class_weight=None, dual=True, fit_intercept=True,\n",
       "     intercept_scaling=1, loss='squared_hinge', max_iter=1000,\n",
       "     multi_class='ovr', penalty='l2', random_state=None, tol=0.0001,\n",
       "     verbose=0)"
      ]
     },
     "execution_count": 142,
     "metadata": {},
     "output_type": "execute_result"
    }
   ],
   "source": [
    "\n",
    "svm_clf_NB = LinearSVC(C=1)\n",
    "svm_clf_NB.fit(NB_vec,NB_review)"
   ]
  },
  {
   "cell_type": "code",
   "execution_count": 143,
   "metadata": {},
   "outputs": [
    {
     "name": "stdout",
     "output_type": "stream",
     "text": [
      "Nikka Whisky positive feature words\n",
      "(0.18308020067508085, 'smells')\n",
      "(0.2010198632435432, 'home')\n",
      "(0.20692646579043164, 'arrived')\n",
      "(0.21125172625503663, 'suggest')\n",
      "(0.21422894556431285, 'work')\n",
      "Nikka Whisky neutral feature words\n",
      "(0.056513978081861156, 'nose')\n",
      "(0.0567976211655845, 'does')\n",
      "(0.05775221729281895, 'hits')\n",
      "(0.05937325666312584, 'winter')\n",
      "(0.0830557167513568, 'spice')\n"
     ]
    }
   ],
   "source": [
    "pos_feature_ranks = sorted(zip(svm_clf_NB.coef_[0], unigram_count_vectorizer.get_feature_names()))\n",
    "Nikka_Positive_10 = pos_feature_ranks[-5:]\n",
    "print(\"Nikka Whisky positive feature words\")\n",
    "for i in range(0, len(Nikka_Positive_10)):\n",
    "    print(Nikka_Positive_10[i])\n",
    "\n",
    "neu_feature_ranks = sorted(zip(svm_clf_NB.coef_[1], unigram_count_vectorizer.get_feature_names()))\n",
    "Nikka_Neutral_10 = neu_feature_ranks[-5:]\n",
    "print(\"Nikka Whisky neutral feature words\")\n",
    "for i in range(0, len(Nikka_Neutral_10)):\n",
    "    print(Nikka_Neutral_10[i])"
   ]
  },
  {
   "cell_type": "code",
   "execution_count": null,
   "metadata": {},
   "outputs": [],
   "source": []
  }
 ],
 "metadata": {
  "kernelspec": {
   "display_name": "Python 3",
   "language": "python",
   "name": "python3"
  },
  "language_info": {
   "codemirror_mode": {
    "name": "ipython",
    "version": 3
   },
   "file_extension": ".py",
   "mimetype": "text/x-python",
   "name": "python",
   "nbconvert_exporter": "python",
   "pygments_lexer": "ipython3",
   "version": "3.6.8"
  }
 },
 "nbformat": 4,
 "nbformat_minor": 2
}
