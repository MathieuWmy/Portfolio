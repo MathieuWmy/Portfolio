{
 "cells": [
  {
   "cell_type": "code",
   "execution_count": 1,
   "metadata": {},
   "outputs": [],
   "source": [
    "import pandas as p\n",
    "train=p.read_csv(\"736project data.tsv\", delimiter='\\t')\n",
    "y=train['Bottle'].values\n",
    "X=train['Review'].values\n",
    "\n",
    "# Yamazaki Sherry 2016-0\n",
    "# Yamazaki 12 Year Old-1\n",
    "# Nikka Whisky From The Barrel-2\n",
    "\n",
    "# positive 0\n",
    "# neutral 1\n",
    "# negative 2"
   ]
  },
  {
   "cell_type": "code",
   "execution_count": 5,
   "metadata": {},
   "outputs": [],
   "source": [
    "from sklearn.feature_extraction.text import CountVectorizer\n",
    "from sklearn.feature_extraction.text import TfidfVectorizer\n",
    "#  unigram term frequency vectorizer, set minimum document frequency to 5\n",
    "unigram_count_vectorizer = CountVectorizer(encoding='latin-1', binary=False, min_df=3, stop_words='english')\n",
    "\n",
    "#  unigram and bigram term frequency vectorizer, set minimum document frequency to 5\n",
    "gram12_count_vectorizer = CountVectorizer(encoding='latin-1', ngram_range=(1,3), min_df=2, stop_words='english')"
   ]
  },
  {
   "cell_type": "markdown",
   "metadata": {},
   "source": [
    "# U-Gram SVM Bottle Review feature words"
   ]
  },
  {
   "cell_type": "code",
   "execution_count": 6,
   "metadata": {},
   "outputs": [],
   "source": [
    "X_vec = unigram_count_vectorizer.fit_transform(X)"
   ]
  },
  {
   "cell_type": "code",
   "execution_count": 7,
   "metadata": {
    "scrolled": true
   },
   "outputs": [
    {
     "data": {
      "text/plain": [
       "LinearSVC(C=1, class_weight=None, dual=True, fit_intercept=True,\n",
       "     intercept_scaling=1, loss='squared_hinge', max_iter=1000,\n",
       "     multi_class='ovr', penalty='l2', random_state=None, tol=0.0001,\n",
       "     verbose=0)"
      ]
     },
     "execution_count": 7,
     "metadata": {},
     "output_type": "execute_result"
    }
   ],
   "source": [
    "from sklearn.svm import LinearSVC\n",
    "svm_clf = LinearSVC(C=1)\n",
    "svm_clf.fit(X_vec,y)"
   ]
  },
  {
   "cell_type": "code",
   "execution_count": 8,
   "metadata": {},
   "outputs": [
    {
     "name": "stdout",
     "output_type": "stream",
     "text": [
      "0.5964342948717949\n"
     ]
    }
   ],
   "source": [
    "from sklearn.pipeline import Pipeline\n",
    "from sklearn.model_selection import cross_val_score\n",
    "svm_clf_pipe = Pipeline([('vect', CountVectorizer(encoding='latin-1', binary=False, min_df=2, stop_words='english')),('svm', LinearSVC())])\n",
    "scores = cross_val_score(svm_clf_pipe, X, y, cv=3)\n",
    "avg=sum(scores)/len(scores)\n",
    "print(avg)\n",
    "\n"
   ]
  },
  {
   "cell_type": "code",
   "execution_count": 9,
   "metadata": {},
   "outputs": [
    {
     "name": "stdout",
     "output_type": "stream",
     "text": [
      "Yamazaki Sherry Cask 2016 feature words\n",
      "(0.670963034810762, 'right')\n",
      "(0.6795864064814445, 'glad')\n",
      "(0.7834378522315931, 'rich')\n",
      "(0.8288078299007421, 'tasty')\n",
      "(0.8991672490553362, 'bang')\n",
      "(0.9168052598312819, 'auction')\n",
      "(0.9562619495322106, 'world')\n",
      "(0.985297371501863, 'mind')\n",
      "(1.0298075270952967, 'superb')\n",
      "(1.0560005096158611, 'job')\n"
     ]
    }
   ],
   "source": [
    "feature_ranks = sorted(zip(svm_clf.coef_[0], unigram_count_vectorizer.get_feature_names()))\n",
    "Yamazaki_Sherry_10 = feature_ranks[-10:]\n",
    "print(\"Yamazaki Sherry Cask 2016 feature words\")\n",
    "for i in range(0, len(Yamazaki_Sherry_10)):\n",
    "    print(Yamazaki_Sherry_10[i])\n"
   ]
  },
  {
   "cell_type": "code",
   "execution_count": 141,
   "metadata": {
    "scrolled": true
   },
   "outputs": [
    {
     "name": "stdout",
     "output_type": "stream",
     "text": [
      "Yamazaki 12 Year Old feature words\n",
      "(0.6767582066066857, 'lovely')\n",
      "(0.7690345988913907, 'soft')\n",
      "(0.7700945811937437, 'profile')\n",
      "(0.7850913188486477, 'drop')\n",
      "(0.7907242668754786, 'write')\n",
      "(0.81517127439993, 'smooth')\n",
      "(0.8391015283302403, 'distillery')\n",
      "(0.8785478975965563, 'chocolate')\n",
      "(0.8985871091981449, 'overrated')\n",
      "(0.8987248133705696, 'exotic')\n",
      "\n"
     ]
    }
   ],
   "source": [
    "feature_ranks = sorted(zip(svm_clf.coef_[1], unigram_count_vectorizer.get_feature_names()))\n",
    "Yamazaki_12_10 = feature_ranks[-10:]\n",
    "print(\"Yamazaki 12 Year Old feature words\")\n",
    "for i in range(0, len(Yamazaki_12_10)):\n",
    "    print(Yamazaki_12_10[i])\n",
    "print()"
   ]
  },
  {
   "cell_type": "code",
   "execution_count": 142,
   "metadata": {
    "scrolled": false
   },
   "outputs": [
    {
     "name": "stdout",
     "output_type": "stream",
     "text": [
      "Nikka Whisky From The Barrel feature words\n",
      "(0.6463015926149444, 'toffee')\n",
      "(0.6487697474356708, 'blended')\n",
      "(0.7112167711961717, 'pleasant')\n",
      "(0.7393777005884247, 'drinkable')\n",
      "(0.7581678998733733, 'aftertaste')\n",
      "(0.7807101306263778, 'thank')\n",
      "(0.7887779243763926, 'fantastic')\n",
      "(0.8328913227364254, 'high')\n",
      "(0.9408376614501961, 'packaging')\n",
      "(0.9524326300158497, 'nikka')\n",
      "\n"
     ]
    }
   ],
   "source": [
    "feature_ranks = sorted(zip(svm_clf.coef_[2], unigram_count_vectorizer.get_feature_names()))\n",
    "Nikka_10 = feature_ranks[-10:]\n",
    "print(\"Nikka Whisky From The Barrel feature words\")\n",
    "for i in range(0, len(Nikka_10)):\n",
    "    print(Nikka_10[i])\n",
    "print()"
   ]
  },
  {
   "cell_type": "code",
   "execution_count": 8,
   "metadata": {},
   "outputs": [],
   "source": [
    "from sklearn.model_selection import cross_validate"
   ]
  },
  {
   "cell_type": "code",
   "execution_count": 11,
   "metadata": {},
   "outputs": [
    {
     "name": "stdout",
     "output_type": "stream",
     "text": [
      "{'fit_time': array([0.00400114, 0.00304508, 0.00344181, 0.00327206, 0.00323105]), 'score_time': array([0.00082493, 0.00079203, 0.00073814, 0.00107694, 0.00081611]), 'test_precision_macro': array([0.51388889, 0.67673993, 0.72646465, 0.76181167, 0.69999147]), 'test_recall_macro': array([0.47932367, 0.62391304, 0.72934783, 0.75652174, 0.67137681])}\n"
     ]
    }
   ],
   "source": [
    "scoring = ['precision_macro', 'recall_macro']\n",
    "scores = cross_validate(svm_clf, X_vec, y, scoring=scoring,cv=5, return_train_score=False)\n",
    "print(scores)"
   ]
  },
  {
   "cell_type": "markdown",
   "metadata": {},
   "source": [
    "# U-Gram SVM Bottle prediction"
   ]
  },
  {
   "cell_type": "code",
   "execution_count": 12,
   "metadata": {
    "scrolled": false
   },
   "outputs": [
    {
     "name": "stdout",
     "output_type": "stream",
     "text": [
      "(231,) (231,) (155,) (155,)\n",
      "I enjoyed my bottle of Nikka, found it a little harsh neat, but just a drop of water opened it up nicely and made it thoroughly drinkable. \n",
      "2\n",
      "The best blended I have ever tried , full (but not too full) and kind of sweet , almost perfect \n",
      "2\n"
     ]
    }
   ],
   "source": [
    "from sklearn.model_selection import train_test_split\n",
    "X_train, X_test, y_train, y_test = train_test_split(X, y, test_size=0.4, random_state=0)\n",
    "\n",
    "print(X_train.shape, y_train.shape, X_test.shape, y_test.shape)\n",
    "print(X_train[0])\n",
    "print(y_train[0])\n",
    "print(X_test[0])\n",
    "print(y_test[0])\n",
    "\n"
   ]
  },
  {
   "cell_type": "code",
   "execution_count": 97,
   "metadata": {
    "scrolled": true
   },
   "outputs": [
    {
     "name": "stdout",
     "output_type": "stream",
     "text": [
      "{0, 1, 2}\n",
      "[[ 0 68]\n",
      " [ 1 73]\n",
      " [ 2 90]]\n",
      "[[ 0 47]\n",
      " [ 1 48]\n",
      " [ 2 60]]\n"
     ]
    },
    {
     "name": "stderr",
     "output_type": "stream",
     "text": [
      "/anaconda3/lib/python3.7/site-packages/ipykernel_launcher.py:4: DeprecationWarning: `itemfreq` is deprecated!\n",
      "`itemfreq` is deprecated and will be removed in a future version. Use instead `np.unique(..., return_counts=True)`\n",
      "  after removing the cwd from sys.path.\n",
      "/anaconda3/lib/python3.7/site-packages/ipykernel_launcher.py:6: DeprecationWarning: `itemfreq` is deprecated!\n",
      "`itemfreq` is deprecated and will be removed in a future version. Use instead `np.unique(..., return_counts=True)`\n",
      "  \n"
     ]
    }
   ],
   "source": [
    "training_labels = set(y_train)\n",
    "print(training_labels)\n",
    "from scipy.stats import itemfreq\n",
    "training_category_dist = itemfreq(y_train)\n",
    "print(training_category_dist)\n",
    "testing_category_dist = itemfreq(y_test)\n",
    "print(testing_category_dist)"
   ]
  },
  {
   "cell_type": "code",
   "execution_count": 13,
   "metadata": {},
   "outputs": [],
   "source": [
    "X_train_vec = unigram_count_vectorizer.fit_transform(X_train)\n",
    "X_test_vec = unigram_count_vectorizer.transform(X_test)"
   ]
  },
  {
   "cell_type": "code",
   "execution_count": 14,
   "metadata": {
    "scrolled": true
   },
   "outputs": [
    {
     "data": {
      "text/plain": [
       "LinearSVC(C=1, class_weight=None, dual=True, fit_intercept=True,\n",
       "     intercept_scaling=1, loss='squared_hinge', max_iter=1000,\n",
       "     multi_class='ovr', penalty='l2', random_state=None, tol=0.0001,\n",
       "     verbose=0)"
      ]
     },
     "execution_count": 14,
     "metadata": {},
     "output_type": "execute_result"
    }
   ],
   "source": [
    "from sklearn.svm import LinearSVC\n",
    "svm_clf = LinearSVC(C=1)\n",
    "svm_clf.fit(X_train_vec,y_train)"
   ]
  },
  {
   "cell_type": "code",
   "execution_count": 15,
   "metadata": {},
   "outputs": [
    {
     "data": {
      "text/plain": [
       "0.6387096774193548"
      ]
     },
     "execution_count": 15,
     "metadata": {},
     "output_type": "execute_result"
    }
   ],
   "source": [
    "svm_clf.score(X_test_vec,y_test)"
   ]
  },
  {
   "cell_type": "code",
   "execution_count": 108,
   "metadata": {
    "scrolled": true
   },
   "outputs": [
    {
     "name": "stdout",
     "output_type": "stream",
     "text": [
      "[[27  9 11]\n",
      " [ 2 29 17]\n",
      " [ 2 15 43]]\n",
      "\n",
      "             precision    recall  f1-score   support\n",
      "\n",
      "          0       0.87      0.57      0.69        47\n",
      "          1       0.55      0.60      0.57        48\n",
      "          2       0.61      0.72      0.66        60\n",
      "\n",
      "avg / total       0.67      0.64      0.64       155\n",
      "\n"
     ]
    }
   ],
   "source": [
    "from sklearn.metrics import confusion_matrix\n",
    "y_pred = svm_clf.predict(X_test_vec)\n",
    "cm=confusion_matrix(y_test, y_pred, labels=[0,1,2])\n",
    "print(cm)\n",
    "print()\n",
    "from sklearn.metrics import classification_report\n",
    "target_names = ['0','1','2']\n",
    "print(classification_report(y_test, y_pred, target_names=target_names))"
   ]
  },
  {
   "cell_type": "markdown",
   "metadata": {},
   "source": [
    "# N-Gram SVM Bottle review feature words"
   ]
  },
  {
   "cell_type": "code",
   "execution_count": 143,
   "metadata": {},
   "outputs": [],
   "source": [
    "X_vec = gram12_count_vectorizer.fit_transform(X)"
   ]
  },
  {
   "cell_type": "code",
   "execution_count": 144,
   "metadata": {
    "scrolled": true
   },
   "outputs": [
    {
     "data": {
      "text/plain": [
       "LinearSVC(C=1, class_weight=None, dual=True, fit_intercept=True,\n",
       "     intercept_scaling=1, loss='squared_hinge', max_iter=1000,\n",
       "     multi_class='ovr', penalty='l2', random_state=None, tol=0.0001,\n",
       "     verbose=0)"
      ]
     },
     "execution_count": 144,
     "metadata": {},
     "output_type": "execute_result"
    }
   ],
   "source": [
    "from sklearn.svm import LinearSVC\n",
    "svm_clf = LinearSVC(C=1)\n",
    "svm_clf.fit(X_vec,y)"
   ]
  },
  {
   "cell_type": "code",
   "execution_count": 145,
   "metadata": {},
   "outputs": [
    {
     "name": "stdout",
     "output_type": "stream",
     "text": [
      "0.5964342948717949\n"
     ]
    }
   ],
   "source": [
    "svm_clf_pipe = Pipeline([('vect', CountVectorizer(encoding='latin-1', binary=False, min_df=2, stop_words='english')),('svm', LinearSVC())])\n",
    "scores = cross_val_score(svm_clf_pipe, X, y, cv=3)\n",
    "avg=sum(scores)/len(scores)\n",
    "print(avg)"
   ]
  },
  {
   "cell_type": "code",
   "execution_count": 146,
   "metadata": {},
   "outputs": [
    {
     "name": "stdout",
     "output_type": "stream",
     "text": [
      "Yamazaki Sherry Cask 2016 feature words\n",
      "(0.6040900855760505, 'far')\n",
      "(0.6466787869705506, 'people')\n",
      "(0.739378060695505, 'auction')\n",
      "(0.7802462497862717, 'rich')\n",
      "(0.8327756503634887, 'tasty')\n",
      "(0.898200840199263, 'bang')\n",
      "(0.9414181359251721, 'world')\n",
      "(0.9855493399713362, 'mind')\n",
      "(1.054678195332329, 'job')\n",
      "(1.0745025304356088, 'superb')\n"
     ]
    }
   ],
   "source": [
    "feature_ranks = sorted(zip(svm_clf.coef_[0], gram12_count_vectorizer.get_feature_names()))\n",
    "Yamazaki_Sherry_10 = feature_ranks[-10:]\n",
    "print(\"Yamazaki Sherry Cask 2016 feature words\")\n",
    "for i in range(0, len(Yamazaki_Sherry_10)):\n",
    "    print(Yamazaki_Sherry_10[i])\n",
    "\n"
   ]
  },
  {
   "cell_type": "code",
   "execution_count": 147,
   "metadata": {
    "scrolled": true
   },
   "outputs": [
    {
     "name": "stdout",
     "output_type": "stream",
     "text": [
      "Yamazaki 12 Year Old feature words\n",
      "(0.5910195491448946, 'smokey')\n",
      "(0.6135634543173293, 'overrated')\n",
      "(0.642641351442899, 'nice')\n",
      "(0.6462417199281614, 'scotch')\n",
      "(0.7100688887974985, 'lovely')\n",
      "(0.7342092154955846, 'write')\n",
      "(0.735060995718528, 'smooth')\n",
      "(0.7640959709105685, 'chocolate')\n",
      "(0.8193415388927124, 'soft')\n",
      "(0.8335827604694461, 'distillery')\n",
      "\n"
     ]
    }
   ],
   "source": [
    "feature_ranks = sorted(zip(svm_clf.coef_[1], gram12_count_vectorizer.get_feature_names()))\n",
    "Yamazaki_12_10 = feature_ranks[-10:]\n",
    "print(\"Yamazaki 12 Year Old feature words\")\n",
    "for i in range(0, len(Yamazaki_12_10)):\n",
    "    print(Yamazaki_12_10[i])\n",
    "print()"
   ]
  },
  {
   "cell_type": "code",
   "execution_count": 148,
   "metadata": {
    "scrolled": false
   },
   "outputs": [
    {
     "name": "stdout",
     "output_type": "stream",
     "text": [
      "Nikka Whisky From The Barrel feature words\n",
      "(0.5316410804458506, 'offering')\n",
      "(0.5336115497288053, 'spent')\n",
      "(0.5778781544564764, 'value')\n",
      "(0.6137407541348239, 'high')\n",
      "(0.6351853952643068, 'time')\n",
      "(0.6395515914640089, 'drinkable')\n",
      "(0.7754994951787728, 'nikka')\n",
      "(0.7767302956300499, 'fantastic')\n",
      "(0.780480061512767, 'thank')\n",
      "(0.8597410613123646, 'packaging')\n",
      "\n"
     ]
    }
   ],
   "source": [
    "feature_ranks = sorted(zip(svm_clf.coef_[2], gram12_count_vectorizer.get_feature_names()))\n",
    "Nikka_10 = feature_ranks[-10:]\n",
    "print(\"Nikka Whisky From The Barrel feature words\")\n",
    "for i in range(0, len(Nikka_10)):\n",
    "    print(Nikka_10[i])\n",
    "print()"
   ]
  },
  {
   "cell_type": "markdown",
   "metadata": {},
   "source": [
    "# N-Gram SVM Bottle prediction"
   ]
  },
  {
   "cell_type": "code",
   "execution_count": 77,
   "metadata": {},
   "outputs": [],
   "source": [
    "X_train_vec = gram12_count_vectorizer.fit_transform(X_train)\n",
    "X_test_vec = gram12_count_vectorizer.transform(X_test)"
   ]
  },
  {
   "cell_type": "code",
   "execution_count": 78,
   "metadata": {},
   "outputs": [
    {
     "data": {
      "text/plain": [
       "LinearSVC(C=1, class_weight=None, dual=True, fit_intercept=True,\n",
       "     intercept_scaling=1, loss='squared_hinge', max_iter=1000,\n",
       "     multi_class='ovr', penalty='l2', random_state=None, tol=0.0001,\n",
       "     verbose=0)"
      ]
     },
     "execution_count": 78,
     "metadata": {},
     "output_type": "execute_result"
    }
   ],
   "source": [
    "from sklearn.svm import LinearSVC\n",
    "svm_clf = LinearSVC(C=1)\n",
    "svm_clf.fit(X_train_vec,y_train)"
   ]
  },
  {
   "cell_type": "code",
   "execution_count": 79,
   "metadata": {},
   "outputs": [
    {
     "data": {
      "text/plain": [
       "0.5419354838709678"
      ]
     },
     "execution_count": 79,
     "metadata": {},
     "output_type": "execute_result"
    }
   ],
   "source": [
    "svm_clf.score(X_test_vec,y_test)\n"
   ]
  },
  {
   "cell_type": "code",
   "execution_count": 80,
   "metadata": {
    "scrolled": true
   },
   "outputs": [
    {
     "name": "stdout",
     "output_type": "stream",
     "text": [
      "[[18  1 28]\n",
      " [ 6 13 29]\n",
      " [ 2  5 53]]\n",
      "\n",
      "             precision    recall  f1-score   support\n",
      "\n",
      "          0       0.69      0.38      0.49        47\n",
      "          1       0.68      0.27      0.39        48\n",
      "          2       0.48      0.88      0.62        60\n",
      "\n",
      "avg / total       0.61      0.54      0.51       155\n",
      "\n"
     ]
    }
   ],
   "source": [
    "\n",
    "from sklearn.metrics import confusion_matrix\n",
    "y_pred = svm_clf.predict(X_test_vec)\n",
    "cm=confusion_matrix(y_test, y_pred, labels=[0,1,2])\n",
    "print(cm)\n",
    "print()\n",
    "from sklearn.metrics import classification_report\n",
    "target_names = ['0','1','2']\n",
    "print(classification_report(y_test, y_pred, target_names=target_names))"
   ]
  },
  {
   "cell_type": "markdown",
   "metadata": {},
   "source": [
    "# Uni-Gram MNB Bottle review feature words"
   ]
  },
  {
   "cell_type": "code",
   "execution_count": 118,
   "metadata": {},
   "outputs": [
    {
     "data": {
      "text/plain": [
       "MultinomialNB(alpha=1.0, class_prior=None, fit_prior=True)"
      ]
     },
     "execution_count": 118,
     "metadata": {},
     "output_type": "execute_result"
    }
   ],
   "source": [
    "# MNB\n",
    "X_vec = unigram_count_vectorizer.fit_transform(X)\n",
    "\n",
    "from sklearn.naive_bayes import MultinomialNB\n",
    "\n",
    "# initialize the MNB model\n",
    "nb_clf= MultinomialNB()\n",
    "\n",
    "# use the training data to train the MNB model\n",
    "nb_clf.fit(X_vec,y)"
   ]
  },
  {
   "cell_type": "code",
   "execution_count": 119,
   "metadata": {},
   "outputs": [
    {
     "name": "stdout",
     "output_type": "stream",
     "text": [
      "0.725801282051282\n"
     ]
    }
   ],
   "source": [
    "nb_clf_pipe = Pipeline([('vect', CountVectorizer(encoding='latin-1', binary=False, min_df=2, stop_words='english')),('nb', MultinomialNB())])\n",
    "scores = cross_val_score(nb_clf_pipe, X, y, cv=3)\n",
    "avg=sum(scores)/len(scores)\n",
    "print(avg)"
   ]
  },
  {
   "cell_type": "code",
   "execution_count": 120,
   "metadata": {},
   "outputs": [
    {
     "name": "stdout",
     "output_type": "stream",
     "text": [
      "Yamazaki Sherry Cask 2016 feature words\n",
      "(-4.9285947072168295, 'don')\n",
      "(-4.892227063045954, 'just')\n",
      "(-4.758695670421432, 'people')\n",
      "(-4.727924011754679, 'mom')\n",
      "(-4.640912634765049, 'bottles')\n",
      "(-4.613513660576935, 'lottery')\n",
      "(-4.3742839715111, 'price')\n",
      "(-4.3742839715111, 'whisky')\n",
      "(-4.292605940496832, 'auction')\n",
      "(-4.146894129315439, 'bottle')\n"
     ]
    }
   ],
   "source": [
    "feature_ranks = sorted(zip(nb_clf.coef_[0], unigram_count_vectorizer.get_feature_names()))\n",
    "Yamazaki_Sherry_10 = feature_ranks[-10:]\n",
    "print(\"Yamazaki Sherry Cask 2016 feature words\")\n",
    "for i in range(0, len(Yamazaki_Sherry_10)):\n",
    "    print(Yamazaki_Sherry_10[i])"
   ]
  },
  {
   "cell_type": "code",
   "execution_count": 121,
   "metadata": {},
   "outputs": [
    {
     "name": "stdout",
     "output_type": "stream",
     "text": [
      "Yamazaki 12 Year Old feature words\n",
      "(-4.892738615619135, 'japanese')\n",
      "(-4.892738615619135, 'malt')\n",
      "(-4.848286853048301, 'smooth')\n",
      "(-4.764905244109251, 'bottle')\n",
      "(-4.725684530955968, 'yamazaki')\n",
      "(-4.6515765588022475, 'taste')\n",
      "(-4.582583687315296, '12')\n",
      "(-4.582583687315296, 'price')\n",
      "(-4.428433007488037, 'good')\n",
      "(-4.091960770866825, 'whisky')\n",
      "\n"
     ]
    }
   ],
   "source": [
    "feature_ranks = sorted(zip(nb_clf.coef_[1], unigram_count_vectorizer.get_feature_names()))\n",
    "Yamazaki_12_10 = feature_ranks[-10:]\n",
    "print(\"Yamazaki 12 Year Old feature words\")\n",
    "for i in range(0, len(Yamazaki_12_10)):\n",
    "    print(Yamazaki_12_10[i])\n",
    "print()\n",
    "\n"
   ]
  },
  {
   "cell_type": "code",
   "execution_count": 122,
   "metadata": {},
   "outputs": [
    {
     "name": "stdout",
     "output_type": "stream",
     "text": [
      "Nikka Whisky From The Barrel feature words\n",
      "(-5.086253512417473, 'really')\n",
      "(-5.043693897998677, 'just')\n",
      "(-5.002871903478422, 'taste')\n",
      "(-4.8895432181714185, 'whiskey')\n",
      "(-4.820550346684467, 'nose')\n",
      "(-4.725240166880143, 'japanese')\n",
      "(-4.695387203730461, 'good')\n",
      "(-4.558186082216976, 'like')\n",
      "(-4.460547612653061, 'bottle')\n",
      "(-3.7674004320931154, 'whisky')\n",
      "\n"
     ]
    }
   ],
   "source": [
    "feature_ranks = sorted(zip(nb_clf.coef_[2], unigram_count_vectorizer.get_feature_names()))\n",
    "Nikka_10 = feature_ranks[-10:]\n",
    "print(\"Nikka Whisky From The Barrel feature words\")\n",
    "for i in range(0, len(Nikka_10)):\n",
    "    print(Nikka_10[i])\n",
    "print()"
   ]
  },
  {
   "cell_type": "markdown",
   "metadata": {},
   "source": [
    "# TFIDF SVM feature words"
   ]
  },
  {
   "cell_type": "code",
   "execution_count": 123,
   "metadata": {},
   "outputs": [],
   "source": [
    "unigram_tfidf_vectorizer = TfidfVectorizer(encoding='latin-1', use_idf=True, min_df=3, stop_words='english')"
   ]
  },
  {
   "cell_type": "code",
   "execution_count": 124,
   "metadata": {},
   "outputs": [],
   "source": [
    "X_vec = unigram_tfidf_vectorizer.fit_transform(X)"
   ]
  },
  {
   "cell_type": "code",
   "execution_count": 125,
   "metadata": {
    "scrolled": true
   },
   "outputs": [
    {
     "data": {
      "text/plain": [
       "LinearSVC(C=1, class_weight=None, dual=True, fit_intercept=True,\n",
       "     intercept_scaling=1, loss='squared_hinge', max_iter=1000,\n",
       "     multi_class='ovr', penalty='l2', random_state=None, tol=0.0001,\n",
       "     verbose=0)"
      ]
     },
     "execution_count": 125,
     "metadata": {},
     "output_type": "execute_result"
    }
   ],
   "source": [
    "from sklearn.svm import LinearSVC\n",
    "svm_clf = LinearSVC(C=1)\n",
    "svm_clf.fit(X_vec,y)"
   ]
  },
  {
   "cell_type": "code",
   "execution_count": 126,
   "metadata": {},
   "outputs": [
    {
     "name": "stdout",
     "output_type": "stream",
     "text": [
      "0.6895032051282052\n"
     ]
    }
   ],
   "source": [
    "svm_clf_pipe = Pipeline([('vect', TfidfVectorizer(encoding='latin-1', use_idf=True, min_df=3, stop_words='english')),('svm', LinearSVC())])\n",
    "scores = cross_val_score(svm_clf_pipe, X, y, cv=3)\n",
    "avg=sum(scores)/len(scores)\n",
    "print(avg)"
   ]
  },
  {
   "cell_type": "code",
   "execution_count": 127,
   "metadata": {},
   "outputs": [
    {
     "name": "stdout",
     "output_type": "stream",
     "text": [
      "Yamazaki Sherry Cask 2016 feature words\n",
      "(0.9616072575140195, 'flippers')\n",
      "(0.9634556062515954, 'world')\n",
      "(0.9702166417795605, 'glad')\n",
      "(0.9786474157787991, 'opportunity')\n",
      "(1.00730160977192, 'sherry')\n",
      "(1.0852120461801884, 'lottery')\n",
      "(1.0886977850534687, 'job')\n",
      "(1.1900341568591837, 'mom')\n",
      "(1.520619153813523, 'people')\n",
      "(1.829281592394503, 'auction')\n"
     ]
    }
   ],
   "source": [
    "feature_ranks = sorted(zip(svm_clf.coef_[0], unigram_tfidf_vectorizer.get_feature_names()))\n",
    "Yamazaki_Sherry_10 = feature_ranks[-10:]\n",
    "print(\"Yamazaki Sherry Cask 2016 feature words\")\n",
    "for i in range(0, len(Yamazaki_Sherry_10)):\n",
    "    print(Yamazaki_Sherry_10[i])"
   ]
  },
  {
   "cell_type": "code",
   "execution_count": 128,
   "metadata": {},
   "outputs": [
    {
     "name": "stdout",
     "output_type": "stream",
     "text": [
      "Yamazaki 12 Year Old feature words\n",
      "(1.0519049285092643, 'wife')\n",
      "(1.0573782307173791, 'lovely')\n",
      "(1.0959469733916718, 'yamazaki')\n",
      "(1.1057308153744816, 'flavor')\n",
      "(1.1134739015550361, 'chocolate')\n",
      "(1.1260331655861036, '18')\n",
      "(1.1374152136730071, 'overrated')\n",
      "(1.1563677591044783, 'exotic')\n",
      "(1.492611495467483, '12')\n",
      "(1.6562350425106793, 'smooth')\n",
      "\n"
     ]
    }
   ],
   "source": [
    "feature_ranks = sorted(zip(svm_clf.coef_[1], unigram_tfidf_vectorizer.get_feature_names()))\n",
    "Yamazaki_12_10 = feature_ranks[-10:]\n",
    "print(\"Yamazaki 12 Year Old feature words\")\n",
    "for i in range(0, len(Yamazaki_12_10)):\n",
    "    print(Yamazaki_12_10[i])\n",
    "print()"
   ]
  },
  {
   "cell_type": "code",
   "execution_count": 129,
   "metadata": {},
   "outputs": [
    {
     "name": "stdout",
     "output_type": "stream",
     "text": [
      "Nikka Whisky From The Barrel feature words\n",
      "(1.0629376564025141, 'water')\n",
      "(1.0658971028185533, 'pleasant')\n",
      "(1.176079940313953, 'drinkable')\n",
      "(1.1962137513357352, 'aftertaste')\n",
      "(1.2005106328232729, 'blended')\n",
      "(1.2460236528392759, 'value')\n",
      "(1.2665829685485617, 'toffee')\n",
      "(1.2749665295864347, 'high')\n",
      "(1.3344971546534008, 'packaging')\n",
      "(1.4914464155730798, 'nikka')\n",
      "\n"
     ]
    }
   ],
   "source": [
    "\n",
    "feature_ranks = sorted(zip(svm_clf.coef_[2], unigram_tfidf_vectorizer.get_feature_names()))\n",
    "Nikka_10 = feature_ranks[-10:]\n",
    "print(\"Nikka Whisky From The Barrel feature words\")\n",
    "for i in range(0, len(Nikka_10)):\n",
    "    print(Nikka_10[i])\n",
    "print()"
   ]
  },
  {
   "cell_type": "markdown",
   "metadata": {},
   "source": [
    "# TFDIF Svm prediction\n"
   ]
  },
  {
   "cell_type": "code",
   "execution_count": 56,
   "metadata": {},
   "outputs": [],
   "source": [
    "X_train_vec = unigram_tfidf_vectorizer.fit_transform(X_train)\n",
    "X_test_vec = unigram_tfidf_vectorizer.transform(X_test)"
   ]
  },
  {
   "cell_type": "code",
   "execution_count": 57,
   "metadata": {},
   "outputs": [
    {
     "data": {
      "text/plain": [
       "0.6645161290322581"
      ]
     },
     "execution_count": 57,
     "metadata": {},
     "output_type": "execute_result"
    }
   ],
   "source": [
    "\n",
    "from sklearn.svm import LinearSVC\n",
    "svm_clf = LinearSVC(C=1)\n",
    "svm_clf.fit(X_train_vec,y_train)\n",
    "\n",
    "svm_clf.score(X_test_vec,y_test)"
   ]
  },
  {
   "cell_type": "code",
   "execution_count": 58,
   "metadata": {
    "scrolled": true
   },
   "outputs": [
    {
     "name": "stdout",
     "output_type": "stream",
     "text": [
      "[[32  7  8]\n",
      " [ 1 28 19]\n",
      " [ 5 12 43]]\n",
      "\n",
      "             precision    recall  f1-score   support\n",
      "\n",
      "          0       0.84      0.68      0.75        47\n",
      "          1       0.60      0.58      0.59        48\n",
      "          2       0.61      0.72      0.66        60\n",
      "\n",
      "avg / total       0.68      0.66      0.67       155\n",
      "\n"
     ]
    }
   ],
   "source": [
    "from sklearn.metrics import confusion_matrix\n",
    "y_pred = svm_clf.predict(X_test_vec)\n",
    "cm=confusion_matrix(y_test, y_pred, labels=[0,1,2])\n",
    "print(cm)\n",
    "print()\n",
    "from sklearn.metrics import classification_report\n",
    "target_names = ['0','1','2']\n",
    "print(classification_report(y_test, y_pred, target_names=target_names))"
   ]
  },
  {
   "cell_type": "markdown",
   "metadata": {},
   "source": [
    "# Uni-gram MNB feature words"
   ]
  },
  {
   "cell_type": "code",
   "execution_count": 131,
   "metadata": {},
   "outputs": [
    {
     "data": {
      "text/plain": [
       "MultinomialNB(alpha=1.0, class_prior=None, fit_prior=True)"
      ]
     },
     "execution_count": 131,
     "metadata": {},
     "output_type": "execute_result"
    }
   ],
   "source": [
    "# MNB\n",
    "X_vec = unigram_count_vectorizer.fit_transform(X)\n",
    "\n",
    "from sklearn.naive_bayes import MultinomialNB\n",
    "\n",
    "# initialize the MNB model\n",
    "nb_clf= MultinomialNB()\n",
    "\n",
    "# use the training data to train the MNB model\n",
    "nb_clf.fit(X_vec,y)\n",
    "\n"
   ]
  },
  {
   "cell_type": "code",
   "execution_count": 132,
   "metadata": {},
   "outputs": [
    {
     "name": "stdout",
     "output_type": "stream",
     "text": [
      "0.725801282051282\n"
     ]
    }
   ],
   "source": [
    "\n",
    "nb_clf_pipe = Pipeline([('vect', CountVectorizer(encoding='latin-1', binary=False, min_df=2, stop_words='english')),('nb', MultinomialNB())])\n",
    "scores = cross_val_score(nb_clf_pipe, X, y, cv=3)\n",
    "avg=sum(scores)/len(scores)\n",
    "print(avg)"
   ]
  },
  {
   "cell_type": "code",
   "execution_count": 133,
   "metadata": {},
   "outputs": [
    {
     "name": "stdout",
     "output_type": "stream",
     "text": [
      "Yamazaki Sherry Cask 2016 feature words\n",
      "(-4.9285947072168295, 'don')\n",
      "(-4.892227063045954, 'just')\n",
      "(-4.758695670421432, 'people')\n",
      "(-4.727924011754679, 'mom')\n",
      "(-4.640912634765049, 'bottles')\n",
      "(-4.613513660576935, 'lottery')\n",
      "(-4.3742839715111, 'price')\n",
      "(-4.3742839715111, 'whisky')\n",
      "(-4.292605940496832, 'auction')\n",
      "(-4.146894129315439, 'bottle')\n"
     ]
    }
   ],
   "source": [
    "\n",
    "feature_ranks = sorted(zip(nb_clf.coef_[0], unigram_count_vectorizer.get_feature_names()))\n",
    "Yamazaki_Sherry_10 = feature_ranks[-10:]\n",
    "print(\"Yamazaki Sherry Cask 2016 feature words\")\n",
    "for i in range(0, len(Yamazaki_Sherry_10)):\n",
    "    print(Yamazaki_Sherry_10[i])"
   ]
  },
  {
   "cell_type": "code",
   "execution_count": 134,
   "metadata": {},
   "outputs": [
    {
     "name": "stdout",
     "output_type": "stream",
     "text": [
      "Yamazaki 12 Year Old feature words\n",
      "(-4.892738615619135, 'japanese')\n",
      "(-4.892738615619135, 'malt')\n",
      "(-4.848286853048301, 'smooth')\n",
      "(-4.764905244109251, 'bottle')\n",
      "(-4.725684530955968, 'yamazaki')\n",
      "(-4.6515765588022475, 'taste')\n",
      "(-4.582583687315296, '12')\n",
      "(-4.582583687315296, 'price')\n",
      "(-4.428433007488037, 'good')\n",
      "(-4.091960770866825, 'whisky')\n",
      "\n"
     ]
    }
   ],
   "source": [
    "\n",
    "feature_ranks = sorted(zip(nb_clf.coef_[1], unigram_count_vectorizer.get_feature_names()))\n",
    "Yamazaki_12_10 = feature_ranks[-10:]\n",
    "print(\"Yamazaki 12 Year Old feature words\")\n",
    "for i in range(0, len(Yamazaki_12_10)):\n",
    "    print(Yamazaki_12_10[i])\n",
    "print()"
   ]
  },
  {
   "cell_type": "code",
   "execution_count": 135,
   "metadata": {},
   "outputs": [
    {
     "name": "stdout",
     "output_type": "stream",
     "text": [
      "Nikka Whisky From The Barrel feature words\n",
      "(-5.086253512417473, 'really')\n",
      "(-5.043693897998677, 'just')\n",
      "(-5.002871903478422, 'taste')\n",
      "(-4.8895432181714185, 'whiskey')\n",
      "(-4.820550346684467, 'nose')\n",
      "(-4.725240166880143, 'japanese')\n",
      "(-4.695387203730461, 'good')\n",
      "(-4.558186082216976, 'like')\n",
      "(-4.460547612653061, 'bottle')\n",
      "(-3.7674004320931154, 'whisky')\n",
      "\n"
     ]
    }
   ],
   "source": [
    "feature_ranks = sorted(zip(nb_clf.coef_[2], unigram_count_vectorizer.get_feature_names()))\n",
    "Nikka_10 = feature_ranks[-10:]\n",
    "print(\"Nikka Whisky From The Barrel feature words\")\n",
    "for i in range(0, len(Nikka_10)):\n",
    "    print(Nikka_10[i])\n",
    "print()"
   ]
  },
  {
   "cell_type": "markdown",
   "metadata": {},
   "source": [
    "# Uni-Gram MNB Bottle prediction"
   ]
  },
  {
   "cell_type": "code",
   "execution_count": 143,
   "metadata": {},
   "outputs": [],
   "source": [
    "from sklearn.model_selection import train_test_split\n",
    "X_train, X_test, y_train, y_test = train_test_split(X, y, test_size=0.4, random_state=0)\n",
    "\n",
    "\n",
    "X_train_vec = unigram_count_vectorizer.fit_transform(X_train)\n",
    "X_test_vec = unigram_count_vectorizer.transform(X_test)"
   ]
  },
  {
   "cell_type": "code",
   "execution_count": 144,
   "metadata": {},
   "outputs": [
    {
     "data": {
      "text/plain": [
       "0.6967741935483871"
      ]
     },
     "execution_count": 144,
     "metadata": {},
     "output_type": "execute_result"
    }
   ],
   "source": [
    "nb_clf= MultinomialNB()\n",
    "nb_clf.fit(X_train_vec,y_train)\n",
    "\n",
    "nb_clf.score(X_test_vec,y_test)"
   ]
  },
  {
   "cell_type": "code",
   "execution_count": 135,
   "metadata": {},
   "outputs": [
    {
     "name": "stdout",
     "output_type": "stream",
     "text": [
      "[[36  7  4]\n",
      " [ 1 31 16]\n",
      " [ 5 14 41]]\n",
      "\n",
      "             precision    recall  f1-score   support\n",
      "\n",
      "          0       0.86      0.77      0.81        47\n",
      "          1       0.60      0.65      0.62        48\n",
      "          2       0.67      0.68      0.68        60\n",
      "\n",
      "avg / total       0.70      0.70      0.70       155\n",
      "\n"
     ]
    }
   ],
   "source": [
    "\n",
    "from sklearn.metrics import confusion_matrix\n",
    "y_pred = nb_clf.predict(X_test_vec)\n",
    "cm=confusion_matrix(y_test, y_pred, labels=[0,1,2])\n",
    "print(cm)\n",
    "print()\n",
    "from sklearn.metrics import classification_report\n",
    "target_names = ['0','1','2']\n",
    "print(classification_report(y_test, y_pred, target_names=target_names))"
   ]
  },
  {
   "cell_type": "markdown",
   "metadata": {},
   "source": [
    "# N-Gram MNB Bottle review feature words"
   ]
  },
  {
   "cell_type": "code",
   "execution_count": 25,
   "metadata": {},
   "outputs": [],
   "source": [
    "X_vec = gram12_count_vectorizer.fit_transform(X)"
   ]
  },
  {
   "cell_type": "code",
   "execution_count": 26,
   "metadata": {},
   "outputs": [
    {
     "data": {
      "text/plain": [
       "MultinomialNB(alpha=1.0, class_prior=None, fit_prior=True)"
      ]
     },
     "execution_count": 26,
     "metadata": {},
     "output_type": "execute_result"
    }
   ],
   "source": [
    "from sklearn.naive_bayes import MultinomialNB\n",
    "nb_clf= MultinomialNB()\n",
    "nb_clf.fit(X_vec,y)"
   ]
  },
  {
   "cell_type": "code",
   "execution_count": 27,
   "metadata": {},
   "outputs": [
    {
     "name": "stdout",
     "output_type": "stream",
     "text": [
      "0.725801282051282\n"
     ]
    }
   ],
   "source": [
    "nb_clf_pipe = Pipeline([('vect', CountVectorizer(encoding='latin-1', binary=False, min_df=2, stop_words='english')),('nb', MultinomialNB())])\n",
    "scores = cross_val_score(nb_clf_pipe, X, y, cv=3)\n",
    "avg=sum(scores)/len(scores)\n",
    "print(avg)"
   ]
  },
  {
   "cell_type": "code",
   "execution_count": 127,
   "metadata": {},
   "outputs": [
    {
     "name": "stdout",
     "output_type": "stream",
     "text": [
      "Yamazaki Sherry Cask 2016 feature words\n",
      "(-5.160331623574134, 'don')\n",
      "(-5.123963979403259, 'just')\n",
      "(-4.990432586778736, 'people')\n",
      "(-4.959660928111983, 'mom')\n",
      "(-4.872649551122353, 'bottles')\n",
      "(-4.845250576934239, 'lottery')\n",
      "(-4.606020887868405, 'price')\n",
      "(-4.606020887868405, 'whisky')\n",
      "(-4.524342856854137, 'auction')\n",
      "(-4.378631045672743, 'bottle')\n"
     ]
    }
   ],
   "source": [
    "\n",
    "feature_ranks = sorted(zip(nb_clf.coef_[0], gram12_count_vectorizer.get_feature_names()))\n",
    "Yamazaki_Sherry_10 = feature_ranks[-10:]\n",
    "print(\"Yamazaki Sherry Cask 2016 feature words\")\n",
    "for i in range(0, len(Yamazaki_Sherry_10)):\n",
    "    print(Yamazaki_Sherry_10[i])\n"
   ]
  },
  {
   "cell_type": "code",
   "execution_count": 128,
   "metadata": {},
   "outputs": [
    {
     "name": "stdout",
     "output_type": "stream",
     "text": [
      "Yamazaki 12 Year Old feature words\n",
      "(-5.140865790205861, 'japanese')\n",
      "(-5.140865790205861, 'malt')\n",
      "(-5.096414027635028, 'smooth')\n",
      "(-5.0130324186959765, 'bottle')\n",
      "(-4.973811705542696, 'yamazaki')\n",
      "(-4.899703733388973, 'taste')\n",
      "(-4.830710861902022, '12')\n",
      "(-4.830710861902022, 'price')\n",
      "(-4.676560182074764, 'good')\n",
      "(-4.340087945453551, 'whisky')\n",
      "\n"
     ]
    }
   ],
   "source": [
    "\n",
    "\n",
    "feature_ranks = sorted(zip(nb_clf.coef_[1], gram12_count_vectorizer.get_feature_names()))\n",
    "Yamazaki_12_10 = feature_ranks[-10:]\n",
    "print(\"Yamazaki 12 Year Old feature words\")\n",
    "for i in range(0, len(Yamazaki_12_10)):\n",
    "    print(Yamazaki_12_10[i])\n",
    "print()\n",
    "\n"
   ]
  },
  {
   "cell_type": "code",
   "execution_count": 61,
   "metadata": {
    "scrolled": true
   },
   "outputs": [
    {
     "name": "stdout",
     "output_type": "stream",
     "text": [
      "Nikka Whisky From The Barrel feature words\n",
      "(-5.356680939574526, 'golden')\n",
      "(-5.348561903188153, 'discover')\n",
      "(-5.319715235834198, 'chance people')\n",
      "(-5.296468036654539, 'good whisky')\n",
      "(-5.218947828899452, 'couple years')\n",
      "(-5.162857961433719, 'consider')\n",
      "(-5.1372269457063275, 'help')\n",
      "(-5.136001038021743, 'add')\n",
      "(-5.113462103194222, 'aftertaste')\n",
      "(-4.7047894237603956, 'hibiki 12')\n",
      "\n"
     ]
    }
   ],
   "source": [
    "feature_ranks = sorted(zip(nb_clf.coef_[2], gram12_count_vectorizer.get_feature_names()))\n",
    "Nikka_10 = feature_ranks[-10:]\n",
    "print(\"Nikka Whisky From The Barrel feature words\")\n",
    "for i in range(0, len(Nikka_10)):\n",
    "    print(Nikka_10[i])\n",
    "print()"
   ]
  },
  {
   "cell_type": "markdown",
   "metadata": {},
   "source": [
    "# N-Gram MNB Bottle prediction"
   ]
  },
  {
   "cell_type": "code",
   "execution_count": 130,
   "metadata": {},
   "outputs": [],
   "source": [
    "X_train_vec = gram12_count_vectorizer.fit_transform(X_train)\n",
    "X_test_vec = gram12_count_vectorizer.transform(X_test)\n"
   ]
  },
  {
   "cell_type": "code",
   "execution_count": 136,
   "metadata": {},
   "outputs": [
    {
     "data": {
      "text/plain": [
       "0.6967741935483871"
      ]
     },
     "execution_count": 136,
     "metadata": {},
     "output_type": "execute_result"
    }
   ],
   "source": [
    "nb_clf= MultinomialNB()\n",
    "nb_clf.fit(X_train_vec,y_train)\n",
    "\n",
    "nb_clf.score(X_test_vec,y_test)\n",
    "\n",
    "\n",
    "\n"
   ]
  },
  {
   "cell_type": "code",
   "execution_count": 137,
   "metadata": {
    "scrolled": true
   },
   "outputs": [
    {
     "name": "stdout",
     "output_type": "stream",
     "text": [
      "[[36  7  4]\n",
      " [ 1 31 16]\n",
      " [ 5 14 41]]\n",
      "\n",
      "             precision    recall  f1-score   support\n",
      "\n",
      "          0       0.86      0.77      0.81        47\n",
      "          1       0.60      0.65      0.62        48\n",
      "          2       0.67      0.68      0.68        60\n",
      "\n",
      "avg / total       0.70      0.70      0.70       155\n",
      "\n"
     ]
    }
   ],
   "source": [
    "from sklearn.metrics import confusion_matrix\n",
    "y_pred = nb_clf.predict(X_test_vec)\n",
    "cm=confusion_matrix(y_test, y_pred, labels=[0,1,2])\n",
    "print(cm)\n",
    "print()\n",
    "from sklearn.metrics import classification_report\n",
    "target_names = ['0','1','2']\n",
    "print(classification_report(y_test, y_pred, target_names=target_names))"
   ]
  },
  {
   "cell_type": "markdown",
   "metadata": {},
   "source": [
    "# TFDIF MNB feature words"
   ]
  },
  {
   "cell_type": "code",
   "execution_count": 59,
   "metadata": {},
   "outputs": [],
   "source": [
    "unigram_tfidf_vectorizer = TfidfVectorizer(encoding='latin-1', use_idf=True, min_df=3, stop_words='english')\n",
    "\n",
    "X_vec = unigram_tfidf_vectorizer.fit_transform(X)"
   ]
  },
  {
   "cell_type": "code",
   "execution_count": 60,
   "metadata": {},
   "outputs": [
    {
     "data": {
      "text/plain": [
       "MultinomialNB(alpha=1.0, class_prior=None, fit_prior=True)"
      ]
     },
     "execution_count": 60,
     "metadata": {},
     "output_type": "execute_result"
    }
   ],
   "source": [
    "from sklearn.naive_bayes import MultinomialNB\n",
    "nb_clf= MultinomialNB()\n",
    "nb_clf.fit(X_vec,y)"
   ]
  },
  {
   "cell_type": "code",
   "execution_count": 62,
   "metadata": {},
   "outputs": [
    {
     "name": "stdout",
     "output_type": "stream",
     "text": [
      "0.7076923076923077\n"
     ]
    }
   ],
   "source": [
    "nb_clf_pipe = Pipeline([('vect', TfidfVectorizer(encoding='latin-1', use_idf=True, min_df=3, stop_words='english')),('nb', MultinomialNB())])\n",
    "scores = cross_val_score(nb_clf_pipe, X, y, cv=3)\n",
    "avg=sum(scores)/len(scores)\n",
    "print(avg)\n"
   ]
  },
  {
   "cell_type": "code",
   "execution_count": 63,
   "metadata": {},
   "outputs": [
    {
     "name": "stdout",
     "output_type": "stream",
     "text": [
      "Yamazaki Sherry Cask 2016 feature words\n",
      "(-5.421407302723988, 'fair')\n",
      "(-5.403252336012319, 'just')\n",
      "(-5.399268021604018, 'whisky')\n",
      "(-5.285864886242632, 'mom')\n",
      "(-5.255863574019035, 'price')\n",
      "(-5.206779624356134, 'bottles')\n",
      "(-5.152278478737692, 'people')\n",
      "(-5.090362051546409, 'lottery')\n",
      "(-5.051471483021324, 'bottle')\n",
      "(-4.844743961943499, 'auction')\n"
     ]
    }
   ],
   "source": [
    "\n",
    "feature_ranks = sorted(zip(nb_clf.coef_[0], unigram_tfidf_vectorizer.get_feature_names()))\n",
    "Yamazaki_Sherry_10 = feature_ranks[-10:]\n",
    "print(\"Yamazaki Sherry Cask 2016 feature words\")\n",
    "for i in range(0, len(Yamazaki_Sherry_10)):\n",
    "    print(Yamazaki_Sherry_10[i])"
   ]
  },
  {
   "cell_type": "code",
   "execution_count": 64,
   "metadata": {},
   "outputs": [
    {
     "name": "stdout",
     "output_type": "stream",
     "text": [
      "Yamazaki 12 Year Old feature words\n",
      "(-5.378406133006436, 'yamazaki')\n",
      "(-5.364261173428774, 'single')\n",
      "(-5.343717871375954, 'malt')\n",
      "(-5.322271473070919, 'taste')\n",
      "(-5.193765827331557, 'nice')\n",
      "(-5.146217638964824, 'best')\n",
      "(-5.124310219600333, '12')\n",
      "(-5.037903928482103, 'smooth')\n",
      "(-4.983048594246812, 'good')\n",
      "(-4.817319101962265, 'whisky')\n",
      "\n"
     ]
    }
   ],
   "source": [
    "\n",
    "feature_ranks = sorted(zip(nb_clf.coef_[1], unigram_tfidf_vectorizer.get_feature_names()))\n",
    "Yamazaki_12_10 = feature_ranks[-10:]\n",
    "print(\"Yamazaki 12 Year Old feature words\")\n",
    "for i in range(0, len(Yamazaki_12_10)):\n",
    "    print(Yamazaki_12_10[i])\n",
    "print()"
   ]
  },
  {
   "cell_type": "code",
   "execution_count": 65,
   "metadata": {
    "scrolled": true
   },
   "outputs": [
    {
     "name": "stdout",
     "output_type": "stream",
     "text": [
      "Nikka Whisky From The Barrel feature words\n",
      "(-5.356680939574526, 'taste')\n",
      "(-5.348561903188153, 'nikka')\n",
      "(-5.319715235834198, 'good')\n",
      "(-5.296468036654539, 'time')\n",
      "(-5.218947828899452, 'like')\n",
      "(-5.162857961433719, 'japanese')\n",
      "(-5.1372269457063275, 'whiskey')\n",
      "(-5.136001038021743, 'best')\n",
      "(-5.113462103194222, 'bottle')\n",
      "(-4.7047894237603956, 'whisky')\n",
      "\n"
     ]
    }
   ],
   "source": [
    "\n",
    "feature_ranks = sorted(zip(nb_clf.coef_[2], unigram_tfidf_vectorizer.get_feature_names()))\n",
    "Nikka_10 = feature_ranks[-10:]\n",
    "print(\"Nikka Whisky From The Barrel feature words\")\n",
    "for i in range(0, len(Nikka_10)):\n",
    "    print(Nikka_10[i])\n",
    "print()"
   ]
  },
  {
   "cell_type": "markdown",
   "metadata": {},
   "source": [
    "# TFDIF MNB prediction"
   ]
  },
  {
   "cell_type": "code",
   "execution_count": null,
   "metadata": {},
   "outputs": [],
   "source": [
    "X_train_vec = unigram_tfidf_vectorizer.fit_transform(X_train)\n",
    "X_test_vec = unigram_tfidf_vectorizer.transform(X_test)"
   ]
  },
  {
   "cell_type": "code",
   "execution_count": 66,
   "metadata": {},
   "outputs": [
    {
     "data": {
      "text/plain": [
       "0.6258064516129033"
      ]
     },
     "execution_count": 66,
     "metadata": {},
     "output_type": "execute_result"
    }
   ],
   "source": [
    "nb_clf= MultinomialNB()\n",
    "nb_clf.fit(X_train_vec,y_train)\n",
    "\n",
    "nb_clf.score(X_test_vec,y_test)"
   ]
  },
  {
   "cell_type": "code",
   "execution_count": 67,
   "metadata": {},
   "outputs": [
    {
     "name": "stdout",
     "output_type": "stream",
     "text": [
      "[[31  7  9]\n",
      " [ 1 20 27]\n",
      " [ 5  9 46]]\n",
      "\n",
      "             precision    recall  f1-score   support\n",
      "\n",
      "          0       0.84      0.66      0.74        47\n",
      "          1       0.56      0.42      0.48        48\n",
      "          2       0.56      0.77      0.65        60\n",
      "\n",
      "avg / total       0.64      0.63      0.62       155\n",
      "\n"
     ]
    }
   ],
   "source": [
    "\n",
    "from sklearn.metrics import confusion_matrix\n",
    "y_pred = nb_clf.predict(X_test_vec)\n",
    "cm=confusion_matrix(y_test, y_pred, labels=[0,1,2])\n",
    "print(cm)\n",
    "print()\n",
    "from sklearn.metrics import classification_report\n",
    "target_names = ['0','1','2']\n",
    "print(classification_report(y_test, y_pred, target_names=target_names))"
   ]
  },
  {
   "cell_type": "code",
   "execution_count": null,
   "metadata": {},
   "outputs": [],
   "source": []
  },
  {
   "cell_type": "code",
   "execution_count": null,
   "metadata": {},
   "outputs": [],
   "source": [
    "\n",
    "\n",
    "\n",
    "\n",
    "\n",
    "\n"
   ]
  },
  {
   "cell_type": "markdown",
   "metadata": {},
   "source": [
    "# Uni-gram Knn feature words"
   ]
  },
  {
   "cell_type": "code",
   "execution_count": 41,
   "metadata": {},
   "outputs": [
    {
     "data": {
      "text/plain": [
       "KNeighborsClassifier(algorithm='auto', leaf_size=30, metric='minkowski',\n",
       "           metric_params=None, n_jobs=1, n_neighbors=3, p=2,\n",
       "           weights='uniform')"
      ]
     },
     "execution_count": 41,
     "metadata": {},
     "output_type": "execute_result"
    }
   ],
   "source": [
    "X_vec = unigram_count_vectorizer.fit_transform(X)\n",
    "\n",
    "from sklearn.neighbors import KNeighborsClassifier\n",
    "\n",
    "# initialize the MNB model\n",
    "neigh_clf= KNeighborsClassifier(n_neighbors=3)\n",
    "\n",
    "# use the training data to train the MNB model\n",
    "neigh_clf.fit(X_vec,y)"
   ]
  },
  {
   "cell_type": "code",
   "execution_count": 35,
   "metadata": {},
   "outputs": [
    {
     "name": "stdout",
     "output_type": "stream",
     "text": [
      "0.42752403846153847\n"
     ]
    }
   ],
   "source": [
    "knn_clf_pipe = Pipeline([('vect', CountVectorizer(encoding='latin-1', binary=False, min_df=2, stop_words='english')),('knn', KNeighborsClassifier())])\n",
    "scores = cross_val_score(knn_clf_pipe, X, y, cv=3)\n",
    "avg=sum(scores)/len(scores)\n",
    "print(avg)"
   ]
  },
  {
   "cell_type": "code",
   "execution_count": null,
   "metadata": {},
   "outputs": [],
   "source": []
  },
  {
   "cell_type": "markdown",
   "metadata": {},
   "source": [
    "# Uni-gram Knn prediction"
   ]
  },
  {
   "cell_type": "code",
   "execution_count": 36,
   "metadata": {},
   "outputs": [],
   "source": [
    "from sklearn.model_selection import train_test_split\n",
    "X_train, X_test, y_train, y_test = train_test_split(X, y, test_size=0.4, random_state=0)\n",
    "\n",
    "\n",
    "X_train_vec = unigram_count_vectorizer.fit_transform(X_train)\n",
    "X_test_vec = unigram_count_vectorizer.transform(X_test)"
   ]
  },
  {
   "cell_type": "code",
   "execution_count": 37,
   "metadata": {},
   "outputs": [
    {
     "data": {
      "text/plain": [
       "0.36774193548387096"
      ]
     },
     "execution_count": 37,
     "metadata": {},
     "output_type": "execute_result"
    }
   ],
   "source": [
    "neigh_clf= KNeighborsClassifier(n_neighbors=3)\n",
    "neigh_clf.fit(X_train_vec,y_train)\n",
    "\n",
    "neigh_clf.score(X_test_vec,y_test)"
   ]
  },
  {
   "cell_type": "code",
   "execution_count": 38,
   "metadata": {},
   "outputs": [
    {
     "name": "stdout",
     "output_type": "stream",
     "text": [
      "[[ 8  5 34]\n",
      " [ 6 12 30]\n",
      " [ 6 17 37]]\n",
      "\n",
      "             precision    recall  f1-score   support\n",
      "\n",
      "          0       0.40      0.17      0.24        47\n",
      "          1       0.35      0.25      0.29        48\n",
      "          2       0.37      0.62      0.46        60\n",
      "\n",
      "avg / total       0.37      0.37      0.34       155\n",
      "\n"
     ]
    }
   ],
   "source": [
    "from sklearn.metrics import confusion_matrix\n",
    "y_pred = neigh_clf.predict(X_test_vec)\n",
    "cm=confusion_matrix(y_test, y_pred, labels=[0,1,2])\n",
    "print(cm)\n",
    "print()\n",
    "from sklearn.metrics import classification_report\n",
    "target_names = ['0','1','2']\n",
    "print(classification_report(y_test, y_pred, target_names=target_names))"
   ]
  },
  {
   "cell_type": "markdown",
   "metadata": {},
   "source": [
    "# TFDIF knn feature words"
   ]
  },
  {
   "cell_type": "code",
   "execution_count": 68,
   "metadata": {},
   "outputs": [],
   "source": [
    "X_vec = unigram_tfidf_vectorizer.fit_transform(X)"
   ]
  },
  {
   "cell_type": "code",
   "execution_count": null,
   "metadata": {},
   "outputs": [],
   "source": [
    "from sklearn.neighbors import KNeighborsClassifier\n",
    "\n",
    "# initialize the MNB model\n",
    "neigh_clf= KNeighborsClassifier(n_neighbors=3)\n",
    "\n",
    "# use the training data to train the MNB model\n",
    "neigh_clf.fit(X_vec,y)"
   ]
  },
  {
   "cell_type": "code",
   "execution_count": 69,
   "metadata": {},
   "outputs": [
    {
     "name": "stdout",
     "output_type": "stream",
     "text": [
      "0.5545272435897436\n"
     ]
    }
   ],
   "source": [
    "\n",
    "knn_clf_pipe = Pipeline([('vect', TfidfVectorizer(encoding='latin-1', use_idf=True, min_df=3, stop_words='english')),('knn', KNeighborsClassifier())])\n",
    "scores = cross_val_score(knn_clf_pipe, X, y, cv=3)\n",
    "avg=sum(scores)/len(scores)\n",
    "print(avg)"
   ]
  },
  {
   "cell_type": "markdown",
   "metadata": {},
   "source": [
    "# TFDIF knn prediction"
   ]
  },
  {
   "cell_type": "code",
   "execution_count": 70,
   "metadata": {},
   "outputs": [],
   "source": [
    "from sklearn.model_selection import train_test_split\n",
    "X_train, X_test, y_train, y_test = train_test_split(X, y, test_size=0.4, random_state=0)\n",
    "\n",
    "\n",
    "X_train_vec = unigram_tfidf_vectorizer.fit_transform(X_train)\n",
    "X_test_vec = unigram_tfidf_vectorizer.transform(X_test)"
   ]
  },
  {
   "cell_type": "code",
   "execution_count": 71,
   "metadata": {},
   "outputs": [
    {
     "data": {
      "text/plain": [
       "0.38064516129032255"
      ]
     },
     "execution_count": 71,
     "metadata": {},
     "output_type": "execute_result"
    }
   ],
   "source": [
    "neigh_clf= KNeighborsClassifier(n_neighbors=3)\n",
    "neigh_clf.fit(X_train_vec,y_train)\n",
    "\n",
    "neigh_clf.score(X_test_vec,y_test)"
   ]
  },
  {
   "cell_type": "code",
   "execution_count": 72,
   "metadata": {},
   "outputs": [
    {
     "name": "stdout",
     "output_type": "stream",
     "text": [
      "[[ 0  1 46]\n",
      " [ 0  0 48]\n",
      " [ 0  1 59]]\n",
      "\n",
      "             precision    recall  f1-score   support\n",
      "\n",
      "          0       0.00      0.00      0.00        47\n",
      "          1       0.00      0.00      0.00        48\n",
      "          2       0.39      0.98      0.55        60\n",
      "\n",
      "avg / total       0.15      0.38      0.21       155\n",
      "\n"
     ]
    },
    {
     "name": "stderr",
     "output_type": "stream",
     "text": [
      "/anaconda3/lib/python3.7/site-packages/sklearn/metrics/classification.py:1135: UndefinedMetricWarning: Precision and F-score are ill-defined and being set to 0.0 in labels with no predicted samples.\n",
      "  'precision', 'predicted', average, warn_for)\n"
     ]
    }
   ],
   "source": [
    "\n",
    "\n",
    "\n",
    "\n",
    "from sklearn.metrics import confusion_matrix\n",
    "y_pred = neigh_clf.predict(X_test_vec)\n",
    "cm=confusion_matrix(y_test, y_pred, labels=[0,1,2])\n",
    "print(cm)\n",
    "print()\n",
    "from sklearn.metrics import classification_report\n",
    "target_names = ['0','1','2']\n",
    "print(classification_report(y_test, y_pred, target_names=target_names))"
   ]
  },
  {
   "cell_type": "code",
   "execution_count": null,
   "metadata": {},
   "outputs": [],
   "source": []
  }
 ],
 "metadata": {
  "kernelspec": {
   "display_name": "Python 3",
   "language": "python",
   "name": "python3"
  },
  "language_info": {
   "codemirror_mode": {
    "name": "ipython",
    "version": 3
   },
   "file_extension": ".py",
   "mimetype": "text/x-python",
   "name": "python",
   "nbconvert_exporter": "python",
   "pygments_lexer": "ipython3",
   "version": "3.6.8"
  }
 },
 "nbformat": 4,
 "nbformat_minor": 2
}
